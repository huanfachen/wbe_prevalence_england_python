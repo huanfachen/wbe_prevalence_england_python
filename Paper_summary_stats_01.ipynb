{
 "cells": [
  {
   "cell_type": "markdown",
   "id": "ea8f0cb8",
   "metadata": {},
   "source": [
    "## This scripts aims to;\n",
    "\n",
    "- Section X: Add in a few summary stats that helps with the paper\n",
    "- Section X: Add in a few checks to ensure the data doesn't get mangled\n",
    "- Section 1: Check what proportion of data is actually 'imputed' \n",
    "- Check the mapping of 45 sites to 81 sub-regions..."
   ]
  },
  {
   "cell_type": "code",
   "execution_count": 2,
   "id": "43492f79",
   "metadata": {},
   "outputs": [
    {
     "name": "stderr",
     "output_type": "stream",
     "text": [
      "Updating HTML index of packages in '.Library'\n",
      "\n",
      "Making 'packages.html' ...\n",
      " done\n",
      "\n",
      "Updating HTML index of packages in '.Library'\n",
      "\n",
      "Making 'packages.html' ...\n",
      " done\n",
      "\n"
     ]
    }
   ],
   "source": [
    "# these might be needed if nt already installed\n",
    "#install.packages('janitor')\n",
    "#install.packages('cowplot')"
   ]
  },
  {
   "cell_type": "code",
   "execution_count": 1,
   "id": "6c9676d5",
   "metadata": {},
   "outputs": [
    {
     "name": "stderr",
     "output_type": "stream",
     "text": [
      "Warning message:\n",
      "“Your system is mis-configured: ‘/etc/localtime’ is not a symlink”\n",
      "Warning message:\n",
      "“It is strongly recommended to set envionment variable TZ to ‘Etc/UCT’ (or equivalent)”\n",
      "── \u001b[1mAttaching packages\u001b[22m ─────────────────────────────────────── tidyverse 1.3.1 ──\n",
      "\n",
      "\u001b[32m✔\u001b[39m \u001b[34mggplot2\u001b[39m 3.3.4     \u001b[32m✔\u001b[39m \u001b[34mpurrr  \u001b[39m 0.3.4\n",
      "\u001b[32m✔\u001b[39m \u001b[34mtibble \u001b[39m 3.1.2     \u001b[32m✔\u001b[39m \u001b[34mdplyr  \u001b[39m 1.0.7\n",
      "\u001b[32m✔\u001b[39m \u001b[34mtidyr  \u001b[39m 1.1.3     \u001b[32m✔\u001b[39m \u001b[34mstringr\u001b[39m 1.4.0\n",
      "\u001b[32m✔\u001b[39m \u001b[34mreadr  \u001b[39m 1.4.0     \u001b[32m✔\u001b[39m \u001b[34mforcats\u001b[39m 0.5.1\n",
      "\n",
      "── \u001b[1mConflicts\u001b[22m ────────────────────────────────────────── tidyverse_conflicts() ──\n",
      "\u001b[31m✖\u001b[39m \u001b[34mdplyr\u001b[39m::\u001b[32mfilter()\u001b[39m masks \u001b[34mstats\u001b[39m::filter()\n",
      "\u001b[31m✖\u001b[39m \u001b[34mdplyr\u001b[39m::\u001b[32mlag()\u001b[39m    masks \u001b[34mstats\u001b[39m::lag()\n",
      "\n",
      "\n",
      "Attaching package: ‘janitor’\n",
      "\n",
      "\n",
      "The following objects are masked from ‘package:stats’:\n",
      "\n",
      "    chisq.test, fisher.test\n",
      "\n",
      "\n"
     ]
    }
   ],
   "source": [
    "#load in packages\n",
    "library(tidyverse)\n",
    "library(janitor)\n",
    "library(ggplot2)\n",
    "library(cowplot)"
   ]
  },
  {
   "cell_type": "code",
   "execution_count": 2,
   "id": "5f9b3119",
   "metadata": {},
   "outputs": [
    {
     "data": {
      "text/html": [
       "<style>\n",
       ".list-inline {list-style: none; margin:0; padding: 0}\n",
       ".list-inline>li {display: inline-block}\n",
       ".list-inline>li:not(:last-child)::after {content: \"\\00b7\"; padding: 0 .5ex}\n",
       "</style>\n",
       "<ol class=list-inline><li>13113</li><li>82</li></ol>\n"
      ],
      "text/latex": [
       "\\begin{enumerate*}\n",
       "\\item 13113\n",
       "\\item 82\n",
       "\\end{enumerate*}\n"
      ],
      "text/markdown": [
       "1. 13113\n",
       "2. 82\n",
       "\n",
       "\n"
      ],
      "text/plain": [
       "[1] 13113    82"
      ]
     },
     "metadata": {},
     "output_type": "display_data"
    },
    {
     "data": {
      "text/html": [
       "<table class=\"dataframe\">\n",
       "<caption>A data.frame: 6 × 82</caption>\n",
       "<thead>\n",
       "\t<tr><th></th><th scope=col>x</th><th scope=col>sample_id</th><th scope=col>timestamp_cdw_processed</th><th scope=col>site_skey</th><th scope=col>ww_site_code</th><th scope=col>date_sample_collected</th><th scope=col>time_sample_collected</th><th scope=col>date_sample_received</th><th scope=col>time_sample_received</th><th scope=col>date_sample_analysed</th><th scope=col>⋯</th><th scope=col>flow_median</th><th scope=col>flow_normalised_sars_cov2_gc_l_mean</th><th scope=col>flow_normalised_sars_cov2_gc_l_mean_percentile_5</th><th scope=col>flow_normalised_sars_cov2_gc_l_mean_percentile_95</th><th scope=col>anomaly_type_code</th><th scope=col>anomaly_type_name</th><th scope=col>anomaly_type_description</th><th scope=col>site_type</th><th scope=col>catchment_population_ons_mid_2019</th><th scope=col>ww_catchment_code</th></tr>\n",
       "\t<tr><th></th><th scope=col>&lt;int&gt;</th><th scope=col>&lt;chr&gt;</th><th scope=col>&lt;chr&gt;</th><th scope=col>&lt;int&gt;</th><th scope=col>&lt;chr&gt;</th><th scope=col>&lt;chr&gt;</th><th scope=col>&lt;int&gt;</th><th scope=col>&lt;chr&gt;</th><th scope=col>&lt;int&gt;</th><th scope=col>&lt;chr&gt;</th><th scope=col>⋯</th><th scope=col>&lt;dbl&gt;</th><th scope=col>&lt;dbl&gt;</th><th scope=col>&lt;dbl&gt;</th><th scope=col>&lt;dbl&gt;</th><th scope=col>&lt;dbl&gt;</th><th scope=col>&lt;chr&gt;</th><th scope=col>&lt;chr&gt;</th><th scope=col>&lt;chr&gt;</th><th scope=col>&lt;dbl&gt;</th><th scope=col>&lt;chr&gt;</th></tr>\n",
       "</thead>\n",
       "<tbody>\n",
       "\t<tr><th scope=row>1</th><td>0</td><td>1016</td><td>2021-06-07 13:44:02.0</td><td>17726</td><td>UKENNW_UU_TP000019</td><td>2021-03-06</td><td>1000</td><td>2021-03-08</td><td> 900</td><td>2021-03-11</td><td>⋯</td><td>0.6740408</td><td>   6.740408</td><td>   4.322418</td><td>  10.330000</td><td>NA</td><td></td><td></td><td>SEWAGE TREATMENT PLANT</td><td>320905</td><td>UUW0072</td></tr>\n",
       "\t<tr><th scope=row>2</th><td>1</td><td>1104</td><td>2021-06-07 13:44:02.0</td><td>17726</td><td>UKENNW_UU_TP000019</td><td>2021-03-07</td><td>   0</td><td>2021-03-09</td><td> 900</td><td>2021-03-11</td><td>⋯</td><td>0.3810686</td><td>   3.810686</td><td>   2.437788</td><td>   5.624448</td><td>NA</td><td></td><td></td><td>SEWAGE TREATMENT PLANT</td><td>320905</td><td>UUW0072</td></tr>\n",
       "\t<tr><th scope=row>3</th><td>2</td><td>1201</td><td>2021-06-07 13:44:02.0</td><td>17726</td><td>UKENNW_UU_TP000019</td><td>2021-03-09</td><td>   0</td><td>2021-03-11</td><td> 900</td><td>2021-03-13</td><td>⋯</td><td>0.8346209</td><td> 856.321053</td><td> 550.060310</td><td>1297.626999</td><td>NA</td><td></td><td></td><td>SEWAGE TREATMENT PLANT</td><td>320905</td><td>UUW0072</td></tr>\n",
       "\t<tr><th scope=row>4</th><td>3</td><td>1335</td><td>2021-06-07 13:44:02.0</td><td>17726</td><td>UKENNW_UU_TP000019</td><td>2021-03-12</td><td>   0</td><td>2021-03-13</td><td> 900</td><td>2021-03-15</td><td>⋯</td><td>7.1689206</td><td> 810.088024</td><td> 456.505313</td><td>1450.235745</td><td>NA</td><td></td><td></td><td>SEWAGE TREATMENT PLANT</td><td>320905</td><td>UUW0072</td></tr>\n",
       "\t<tr><th scope=row>5</th><td>4</td><td>1507</td><td>2021-06-07 13:44:02.0</td><td>17726</td><td>UKENNW_UU_TP000019</td><td>2021-03-15</td><td>   0</td><td>2021-03-16</td><td> 900</td><td>2021-03-17</td><td>⋯</td><td>1.0691216</td><td>2411.938342</td><td>1558.299368</td><td>3745.251137</td><td>NA</td><td></td><td></td><td>SEWAGE TREATMENT PLANT</td><td>320905</td><td>UUW0072</td></tr>\n",
       "\t<tr><th scope=row>6</th><td>5</td><td>1663</td><td>2021-06-07 13:44:02.0</td><td>17726</td><td>UKENNW_UU_TP000019</td><td>2021-03-17</td><td>   0</td><td>2021-03-18</td><td>1500</td><td>2021-03-19</td><td>⋯</td><td>1.0513557</td><td>  10.513557</td><td>   6.750400</td><td>  15.891463</td><td>NA</td><td></td><td></td><td>SEWAGE TREATMENT PLANT</td><td>320905</td><td>UUW0072</td></tr>\n",
       "</tbody>\n",
       "</table>\n"
      ],
      "text/latex": [
       "A data.frame: 6 × 82\n",
       "\\begin{tabular}{r|lllllllllllllllllllll}\n",
       "  & x & sample\\_id & timestamp\\_cdw\\_processed & site\\_skey & ww\\_site\\_code & date\\_sample\\_collected & time\\_sample\\_collected & date\\_sample\\_received & time\\_sample\\_received & date\\_sample\\_analysed & ⋯ & flow\\_median & flow\\_normalised\\_sars\\_cov2\\_gc\\_l\\_mean & flow\\_normalised\\_sars\\_cov2\\_gc\\_l\\_mean\\_percentile\\_5 & flow\\_normalised\\_sars\\_cov2\\_gc\\_l\\_mean\\_percentile\\_95 & anomaly\\_type\\_code & anomaly\\_type\\_name & anomaly\\_type\\_description & site\\_type & catchment\\_population\\_ons\\_mid\\_2019 & ww\\_catchment\\_code\\\\\n",
       "  & <int> & <chr> & <chr> & <int> & <chr> & <chr> & <int> & <chr> & <int> & <chr> & ⋯ & <dbl> & <dbl> & <dbl> & <dbl> & <dbl> & <chr> & <chr> & <chr> & <dbl> & <chr>\\\\\n",
       "\\hline\n",
       "\t1 & 0 & 1016 & 2021-06-07 13:44:02.0 & 17726 & UKENNW\\_UU\\_TP000019 & 2021-03-06 & 1000 & 2021-03-08 &  900 & 2021-03-11 & ⋯ & 0.6740408 &    6.740408 &    4.322418 &   10.330000 & NA &  &  & SEWAGE TREATMENT PLANT & 320905 & UUW0072\\\\\n",
       "\t2 & 1 & 1104 & 2021-06-07 13:44:02.0 & 17726 & UKENNW\\_UU\\_TP000019 & 2021-03-07 &    0 & 2021-03-09 &  900 & 2021-03-11 & ⋯ & 0.3810686 &    3.810686 &    2.437788 &    5.624448 & NA &  &  & SEWAGE TREATMENT PLANT & 320905 & UUW0072\\\\\n",
       "\t3 & 2 & 1201 & 2021-06-07 13:44:02.0 & 17726 & UKENNW\\_UU\\_TP000019 & 2021-03-09 &    0 & 2021-03-11 &  900 & 2021-03-13 & ⋯ & 0.8346209 &  856.321053 &  550.060310 & 1297.626999 & NA &  &  & SEWAGE TREATMENT PLANT & 320905 & UUW0072\\\\\n",
       "\t4 & 3 & 1335 & 2021-06-07 13:44:02.0 & 17726 & UKENNW\\_UU\\_TP000019 & 2021-03-12 &    0 & 2021-03-13 &  900 & 2021-03-15 & ⋯ & 7.1689206 &  810.088024 &  456.505313 & 1450.235745 & NA &  &  & SEWAGE TREATMENT PLANT & 320905 & UUW0072\\\\\n",
       "\t5 & 4 & 1507 & 2021-06-07 13:44:02.0 & 17726 & UKENNW\\_UU\\_TP000019 & 2021-03-15 &    0 & 2021-03-16 &  900 & 2021-03-17 & ⋯ & 1.0691216 & 2411.938342 & 1558.299368 & 3745.251137 & NA &  &  & SEWAGE TREATMENT PLANT & 320905 & UUW0072\\\\\n",
       "\t6 & 5 & 1663 & 2021-06-07 13:44:02.0 & 17726 & UKENNW\\_UU\\_TP000019 & 2021-03-17 &    0 & 2021-03-18 & 1500 & 2021-03-19 & ⋯ & 1.0513557 &   10.513557 &    6.750400 &   15.891463 & NA &  &  & SEWAGE TREATMENT PLANT & 320905 & UUW0072\\\\\n",
       "\\end{tabular}\n"
      ],
      "text/markdown": [
       "\n",
       "A data.frame: 6 × 82\n",
       "\n",
       "| <!--/--> | x &lt;int&gt; | sample_id &lt;chr&gt; | timestamp_cdw_processed &lt;chr&gt; | site_skey &lt;int&gt; | ww_site_code &lt;chr&gt; | date_sample_collected &lt;chr&gt; | time_sample_collected &lt;int&gt; | date_sample_received &lt;chr&gt; | time_sample_received &lt;int&gt; | date_sample_analysed &lt;chr&gt; | ⋯ ⋯ | flow_median &lt;dbl&gt; | flow_normalised_sars_cov2_gc_l_mean &lt;dbl&gt; | flow_normalised_sars_cov2_gc_l_mean_percentile_5 &lt;dbl&gt; | flow_normalised_sars_cov2_gc_l_mean_percentile_95 &lt;dbl&gt; | anomaly_type_code &lt;dbl&gt; | anomaly_type_name &lt;chr&gt; | anomaly_type_description &lt;chr&gt; | site_type &lt;chr&gt; | catchment_population_ons_mid_2019 &lt;dbl&gt; | ww_catchment_code &lt;chr&gt; |\n",
       "|---|---|---|---|---|---|---|---|---|---|---|---|---|---|---|---|---|---|---|---|---|---|\n",
       "| 1 | 0 | 1016 | 2021-06-07 13:44:02.0 | 17726 | UKENNW_UU_TP000019 | 2021-03-06 | 1000 | 2021-03-08 |  900 | 2021-03-11 | ⋯ | 0.6740408 |    6.740408 |    4.322418 |   10.330000 | NA | <!----> | <!----> | SEWAGE TREATMENT PLANT | 320905 | UUW0072 |\n",
       "| 2 | 1 | 1104 | 2021-06-07 13:44:02.0 | 17726 | UKENNW_UU_TP000019 | 2021-03-07 |    0 | 2021-03-09 |  900 | 2021-03-11 | ⋯ | 0.3810686 |    3.810686 |    2.437788 |    5.624448 | NA | <!----> | <!----> | SEWAGE TREATMENT PLANT | 320905 | UUW0072 |\n",
       "| 3 | 2 | 1201 | 2021-06-07 13:44:02.0 | 17726 | UKENNW_UU_TP000019 | 2021-03-09 |    0 | 2021-03-11 |  900 | 2021-03-13 | ⋯ | 0.8346209 |  856.321053 |  550.060310 | 1297.626999 | NA | <!----> | <!----> | SEWAGE TREATMENT PLANT | 320905 | UUW0072 |\n",
       "| 4 | 3 | 1335 | 2021-06-07 13:44:02.0 | 17726 | UKENNW_UU_TP000019 | 2021-03-12 |    0 | 2021-03-13 |  900 | 2021-03-15 | ⋯ | 7.1689206 |  810.088024 |  456.505313 | 1450.235745 | NA | <!----> | <!----> | SEWAGE TREATMENT PLANT | 320905 | UUW0072 |\n",
       "| 5 | 4 | 1507 | 2021-06-07 13:44:02.0 | 17726 | UKENNW_UU_TP000019 | 2021-03-15 |    0 | 2021-03-16 |  900 | 2021-03-17 | ⋯ | 1.0691216 | 2411.938342 | 1558.299368 | 3745.251137 | NA | <!----> | <!----> | SEWAGE TREATMENT PLANT | 320905 | UUW0072 |\n",
       "| 6 | 5 | 1663 | 2021-06-07 13:44:02.0 | 17726 | UKENNW_UU_TP000019 | 2021-03-17 |    0 | 2021-03-18 | 1500 | 2021-03-19 | ⋯ | 1.0513557 |   10.513557 |    6.750400 |   15.891463 | NA | <!----> | <!----> | SEWAGE TREATMENT PLANT | 320905 | UUW0072 |\n",
       "\n"
      ],
      "text/plain": [
       "  x sample_id timestamp_cdw_processed site_skey ww_site_code      \n",
       "1 0 1016      2021-06-07 13:44:02.0   17726     UKENNW_UU_TP000019\n",
       "2 1 1104      2021-06-07 13:44:02.0   17726     UKENNW_UU_TP000019\n",
       "3 2 1201      2021-06-07 13:44:02.0   17726     UKENNW_UU_TP000019\n",
       "4 3 1335      2021-06-07 13:44:02.0   17726     UKENNW_UU_TP000019\n",
       "5 4 1507      2021-06-07 13:44:02.0   17726     UKENNW_UU_TP000019\n",
       "6 5 1663      2021-06-07 13:44:02.0   17726     UKENNW_UU_TP000019\n",
       "  date_sample_collected time_sample_collected date_sample_received\n",
       "1 2021-03-06            1000                  2021-03-08          \n",
       "2 2021-03-07               0                  2021-03-09          \n",
       "3 2021-03-09               0                  2021-03-11          \n",
       "4 2021-03-12               0                  2021-03-13          \n",
       "5 2021-03-15               0                  2021-03-16          \n",
       "6 2021-03-17               0                  2021-03-18          \n",
       "  time_sample_received date_sample_analysed ⋯ flow_median\n",
       "1  900                 2021-03-11           ⋯ 0.6740408  \n",
       "2  900                 2021-03-11           ⋯ 0.3810686  \n",
       "3  900                 2021-03-13           ⋯ 0.8346209  \n",
       "4  900                 2021-03-15           ⋯ 7.1689206  \n",
       "5  900                 2021-03-17           ⋯ 1.0691216  \n",
       "6 1500                 2021-03-19           ⋯ 1.0513557  \n",
       "  flow_normalised_sars_cov2_gc_l_mean\n",
       "1    6.740408                        \n",
       "2    3.810686                        \n",
       "3  856.321053                        \n",
       "4  810.088024                        \n",
       "5 2411.938342                        \n",
       "6   10.513557                        \n",
       "  flow_normalised_sars_cov2_gc_l_mean_percentile_5\n",
       "1    4.322418                                     \n",
       "2    2.437788                                     \n",
       "3  550.060310                                     \n",
       "4  456.505313                                     \n",
       "5 1558.299368                                     \n",
       "6    6.750400                                     \n",
       "  flow_normalised_sars_cov2_gc_l_mean_percentile_95 anomaly_type_code\n",
       "1   10.330000                                       NA               \n",
       "2    5.624448                                       NA               \n",
       "3 1297.626999                                       NA               \n",
       "4 1450.235745                                       NA               \n",
       "5 3745.251137                                       NA               \n",
       "6   15.891463                                       NA               \n",
       "  anomaly_type_name anomaly_type_description site_type             \n",
       "1                                            SEWAGE TREATMENT PLANT\n",
       "2                                            SEWAGE TREATMENT PLANT\n",
       "3                                            SEWAGE TREATMENT PLANT\n",
       "4                                            SEWAGE TREATMENT PLANT\n",
       "5                                            SEWAGE TREATMENT PLANT\n",
       "6                                            SEWAGE TREATMENT PLANT\n",
       "  catchment_population_ons_mid_2019 ww_catchment_code\n",
       "1 320905                            UUW0072          \n",
       "2 320905                            UUW0072          \n",
       "3 320905                            UUW0072          \n",
       "4 320905                            UUW0072          \n",
       "5 320905                            UUW0072          \n",
       "6 320905                            UUW0072          "
      ]
     },
     "metadata": {},
     "output_type": "display_data"
    },
    {
     "data": {
      "text/html": [
       "<style>\n",
       ".list-inline {list-style: none; margin:0; padding: 0}\n",
       ".list-inline>li {display: inline-block}\n",
       ".list-inline>li:not(:last-child)::after {content: \"\\00b7\"; padding: 0 .5ex}\n",
       "</style>\n",
       "<ol class=list-inline><li>'x'</li><li>'sample_id'</li><li>'timestamp_cdw_processed'</li><li>'site_skey'</li><li>'ww_site_code'</li><li>'date_sample_collected'</li><li>'time_sample_collected'</li><li>'date_sample_received'</li><li>'time_sample_received'</li><li>'date_sample_analysed'</li><li>'time_sample_analysed'</li><li>'date_sample_reported'</li><li>'time_sample_reported'</li><li>'sub_sample_volume_ml'</li><li>'temp_within_limits_ind'</li><li>'transit_within_limits_ind'</li><li>'target_gene_ind'</li><li>'ansis_control'</li><li>'reac_vol_sars'</li><li>'reac_vol_control'</li><li>'raw_ansis_sars_repc_1'</li><li>'raw_ansis_sars_repc_2'</li><li>'raw_ansis_sars_repc_3'</li><li>'raw_ansis_sars_repc_mean'</li><li>'raw_ansis_sars_repc_std'</li><li>'raw_ansis_sars_ct_repc_1'</li><li>'raw_ansis_sars_ct_repc_2'</li><li>'raw_ansis_sars_ct_repc_3'</li><li>'raw_ansis_control_repc_1'</li><li>'raw_ansis_control_repc_2'</li><li>'raw_ansis_control_repc_3'</li><li>'raw_ansis_control_ct_repc_1'</li><li>'raw_ansis_control_ct_repc_2'</li><li>'raw_ansis_control_ct_repc_3'</li><li>'raw_ansis_control_con_repc_1'</li><li>'raw_ansis_control_con_repc_2'</li><li>'raw_ansis_control_con_repc_3'</li><li>'raw_ansis_control_ct_con_repc_1'</li><li>'raw_ansis_control_ct_con_repc_2'</li><li>'raw_ansis_control_ct_con_repc_3'</li><li>'sars_cov2_gc_l_mean'</li><li>'control_gc_l_mean'</li><li>'lab_analysis_method'</li><li>'lod_sars_gc_l'</li><li>'lod_control_gc_l'</li><li>'lod_sars_ct'</li><li>'lod_control_ct'</li><li>'loq_sars_gc_l'</li><li>'loq_control_gc_l'</li><li>'loq_sars_ct'</li><li>'loq_control_ct'</li><li>'rna_detected_ind'</li><li>'analysis_lab_code'</li><li>'sample_ph_pre_ansis'</li><li>'conductivity_ms_cm'</li><li>'suspended_solids_mg_l'</li><li>'dry_matter_mg_l'</li><li>'ammonia_mg_l'</li><li>'ophosph_mg_l'</li><li>'turbidity_ntu'</li><li>'grab_compo_ind'</li><li>'autosample_volume_ml'</li><li>'compo_win_start_time'</li><li>'comp_collect_interval_min'</li><li>'lab_comments'</li><li>'sample_barcode_scan'</li><li>'date_compo_started'</li><li>'time_compo_started'</li><li>'date_compo_ended'</li><li>'time_compo_ended'</li><li>'flow_percentile_5'</li><li>'flow_percentile_95'</li><li>'flow_median'</li><li>'flow_normalised_sars_cov2_gc_l_mean'</li><li>'flow_normalised_sars_cov2_gc_l_mean_percentile_5'</li><li>'flow_normalised_sars_cov2_gc_l_mean_percentile_95'</li><li>'anomaly_type_code'</li><li>'anomaly_type_name'</li><li>'anomaly_type_description'</li><li>'site_type'</li><li>'catchment_population_ons_mid_2019'</li><li>'ww_catchment_code'</li></ol>\n"
      ],
      "text/latex": [
       "\\begin{enumerate*}\n",
       "\\item 'x'\n",
       "\\item 'sample\\_id'\n",
       "\\item 'timestamp\\_cdw\\_processed'\n",
       "\\item 'site\\_skey'\n",
       "\\item 'ww\\_site\\_code'\n",
       "\\item 'date\\_sample\\_collected'\n",
       "\\item 'time\\_sample\\_collected'\n",
       "\\item 'date\\_sample\\_received'\n",
       "\\item 'time\\_sample\\_received'\n",
       "\\item 'date\\_sample\\_analysed'\n",
       "\\item 'time\\_sample\\_analysed'\n",
       "\\item 'date\\_sample\\_reported'\n",
       "\\item 'time\\_sample\\_reported'\n",
       "\\item 'sub\\_sample\\_volume\\_ml'\n",
       "\\item 'temp\\_within\\_limits\\_ind'\n",
       "\\item 'transit\\_within\\_limits\\_ind'\n",
       "\\item 'target\\_gene\\_ind'\n",
       "\\item 'ansis\\_control'\n",
       "\\item 'reac\\_vol\\_sars'\n",
       "\\item 'reac\\_vol\\_control'\n",
       "\\item 'raw\\_ansis\\_sars\\_repc\\_1'\n",
       "\\item 'raw\\_ansis\\_sars\\_repc\\_2'\n",
       "\\item 'raw\\_ansis\\_sars\\_repc\\_3'\n",
       "\\item 'raw\\_ansis\\_sars\\_repc\\_mean'\n",
       "\\item 'raw\\_ansis\\_sars\\_repc\\_std'\n",
       "\\item 'raw\\_ansis\\_sars\\_ct\\_repc\\_1'\n",
       "\\item 'raw\\_ansis\\_sars\\_ct\\_repc\\_2'\n",
       "\\item 'raw\\_ansis\\_sars\\_ct\\_repc\\_3'\n",
       "\\item 'raw\\_ansis\\_control\\_repc\\_1'\n",
       "\\item 'raw\\_ansis\\_control\\_repc\\_2'\n",
       "\\item 'raw\\_ansis\\_control\\_repc\\_3'\n",
       "\\item 'raw\\_ansis\\_control\\_ct\\_repc\\_1'\n",
       "\\item 'raw\\_ansis\\_control\\_ct\\_repc\\_2'\n",
       "\\item 'raw\\_ansis\\_control\\_ct\\_repc\\_3'\n",
       "\\item 'raw\\_ansis\\_control\\_con\\_repc\\_1'\n",
       "\\item 'raw\\_ansis\\_control\\_con\\_repc\\_2'\n",
       "\\item 'raw\\_ansis\\_control\\_con\\_repc\\_3'\n",
       "\\item 'raw\\_ansis\\_control\\_ct\\_con\\_repc\\_1'\n",
       "\\item 'raw\\_ansis\\_control\\_ct\\_con\\_repc\\_2'\n",
       "\\item 'raw\\_ansis\\_control\\_ct\\_con\\_repc\\_3'\n",
       "\\item 'sars\\_cov2\\_gc\\_l\\_mean'\n",
       "\\item 'control\\_gc\\_l\\_mean'\n",
       "\\item 'lab\\_analysis\\_method'\n",
       "\\item 'lod\\_sars\\_gc\\_l'\n",
       "\\item 'lod\\_control\\_gc\\_l'\n",
       "\\item 'lod\\_sars\\_ct'\n",
       "\\item 'lod\\_control\\_ct'\n",
       "\\item 'loq\\_sars\\_gc\\_l'\n",
       "\\item 'loq\\_control\\_gc\\_l'\n",
       "\\item 'loq\\_sars\\_ct'\n",
       "\\item 'loq\\_control\\_ct'\n",
       "\\item 'rna\\_detected\\_ind'\n",
       "\\item 'analysis\\_lab\\_code'\n",
       "\\item 'sample\\_ph\\_pre\\_ansis'\n",
       "\\item 'conductivity\\_ms\\_cm'\n",
       "\\item 'suspended\\_solids\\_mg\\_l'\n",
       "\\item 'dry\\_matter\\_mg\\_l'\n",
       "\\item 'ammonia\\_mg\\_l'\n",
       "\\item 'ophosph\\_mg\\_l'\n",
       "\\item 'turbidity\\_ntu'\n",
       "\\item 'grab\\_compo\\_ind'\n",
       "\\item 'autosample\\_volume\\_ml'\n",
       "\\item 'compo\\_win\\_start\\_time'\n",
       "\\item 'comp\\_collect\\_interval\\_min'\n",
       "\\item 'lab\\_comments'\n",
       "\\item 'sample\\_barcode\\_scan'\n",
       "\\item 'date\\_compo\\_started'\n",
       "\\item 'time\\_compo\\_started'\n",
       "\\item 'date\\_compo\\_ended'\n",
       "\\item 'time\\_compo\\_ended'\n",
       "\\item 'flow\\_percentile\\_5'\n",
       "\\item 'flow\\_percentile\\_95'\n",
       "\\item 'flow\\_median'\n",
       "\\item 'flow\\_normalised\\_sars\\_cov2\\_gc\\_l\\_mean'\n",
       "\\item 'flow\\_normalised\\_sars\\_cov2\\_gc\\_l\\_mean\\_percentile\\_5'\n",
       "\\item 'flow\\_normalised\\_sars\\_cov2\\_gc\\_l\\_mean\\_percentile\\_95'\n",
       "\\item 'anomaly\\_type\\_code'\n",
       "\\item 'anomaly\\_type\\_name'\n",
       "\\item 'anomaly\\_type\\_description'\n",
       "\\item 'site\\_type'\n",
       "\\item 'catchment\\_population\\_ons\\_mid\\_2019'\n",
       "\\item 'ww\\_catchment\\_code'\n",
       "\\end{enumerate*}\n"
      ],
      "text/markdown": [
       "1. 'x'\n",
       "2. 'sample_id'\n",
       "3. 'timestamp_cdw_processed'\n",
       "4. 'site_skey'\n",
       "5. 'ww_site_code'\n",
       "6. 'date_sample_collected'\n",
       "7. 'time_sample_collected'\n",
       "8. 'date_sample_received'\n",
       "9. 'time_sample_received'\n",
       "10. 'date_sample_analysed'\n",
       "11. 'time_sample_analysed'\n",
       "12. 'date_sample_reported'\n",
       "13. 'time_sample_reported'\n",
       "14. 'sub_sample_volume_ml'\n",
       "15. 'temp_within_limits_ind'\n",
       "16. 'transit_within_limits_ind'\n",
       "17. 'target_gene_ind'\n",
       "18. 'ansis_control'\n",
       "19. 'reac_vol_sars'\n",
       "20. 'reac_vol_control'\n",
       "21. 'raw_ansis_sars_repc_1'\n",
       "22. 'raw_ansis_sars_repc_2'\n",
       "23. 'raw_ansis_sars_repc_3'\n",
       "24. 'raw_ansis_sars_repc_mean'\n",
       "25. 'raw_ansis_sars_repc_std'\n",
       "26. 'raw_ansis_sars_ct_repc_1'\n",
       "27. 'raw_ansis_sars_ct_repc_2'\n",
       "28. 'raw_ansis_sars_ct_repc_3'\n",
       "29. 'raw_ansis_control_repc_1'\n",
       "30. 'raw_ansis_control_repc_2'\n",
       "31. 'raw_ansis_control_repc_3'\n",
       "32. 'raw_ansis_control_ct_repc_1'\n",
       "33. 'raw_ansis_control_ct_repc_2'\n",
       "34. 'raw_ansis_control_ct_repc_3'\n",
       "35. 'raw_ansis_control_con_repc_1'\n",
       "36. 'raw_ansis_control_con_repc_2'\n",
       "37. 'raw_ansis_control_con_repc_3'\n",
       "38. 'raw_ansis_control_ct_con_repc_1'\n",
       "39. 'raw_ansis_control_ct_con_repc_2'\n",
       "40. 'raw_ansis_control_ct_con_repc_3'\n",
       "41. 'sars_cov2_gc_l_mean'\n",
       "42. 'control_gc_l_mean'\n",
       "43. 'lab_analysis_method'\n",
       "44. 'lod_sars_gc_l'\n",
       "45. 'lod_control_gc_l'\n",
       "46. 'lod_sars_ct'\n",
       "47. 'lod_control_ct'\n",
       "48. 'loq_sars_gc_l'\n",
       "49. 'loq_control_gc_l'\n",
       "50. 'loq_sars_ct'\n",
       "51. 'loq_control_ct'\n",
       "52. 'rna_detected_ind'\n",
       "53. 'analysis_lab_code'\n",
       "54. 'sample_ph_pre_ansis'\n",
       "55. 'conductivity_ms_cm'\n",
       "56. 'suspended_solids_mg_l'\n",
       "57. 'dry_matter_mg_l'\n",
       "58. 'ammonia_mg_l'\n",
       "59. 'ophosph_mg_l'\n",
       "60. 'turbidity_ntu'\n",
       "61. 'grab_compo_ind'\n",
       "62. 'autosample_volume_ml'\n",
       "63. 'compo_win_start_time'\n",
       "64. 'comp_collect_interval_min'\n",
       "65. 'lab_comments'\n",
       "66. 'sample_barcode_scan'\n",
       "67. 'date_compo_started'\n",
       "68. 'time_compo_started'\n",
       "69. 'date_compo_ended'\n",
       "70. 'time_compo_ended'\n",
       "71. 'flow_percentile_5'\n",
       "72. 'flow_percentile_95'\n",
       "73. 'flow_median'\n",
       "74. 'flow_normalised_sars_cov2_gc_l_mean'\n",
       "75. 'flow_normalised_sars_cov2_gc_l_mean_percentile_5'\n",
       "76. 'flow_normalised_sars_cov2_gc_l_mean_percentile_95'\n",
       "77. 'anomaly_type_code'\n",
       "78. 'anomaly_type_name'\n",
       "79. 'anomaly_type_description'\n",
       "80. 'site_type'\n",
       "81. 'catchment_population_ons_mid_2019'\n",
       "82. 'ww_catchment_code'\n",
       "\n",
       "\n"
      ],
      "text/plain": [
       " [1] \"x\"                                                \n",
       " [2] \"sample_id\"                                        \n",
       " [3] \"timestamp_cdw_processed\"                          \n",
       " [4] \"site_skey\"                                        \n",
       " [5] \"ww_site_code\"                                     \n",
       " [6] \"date_sample_collected\"                            \n",
       " [7] \"time_sample_collected\"                            \n",
       " [8] \"date_sample_received\"                             \n",
       " [9] \"time_sample_received\"                             \n",
       "[10] \"date_sample_analysed\"                             \n",
       "[11] \"time_sample_analysed\"                             \n",
       "[12] \"date_sample_reported\"                             \n",
       "[13] \"time_sample_reported\"                             \n",
       "[14] \"sub_sample_volume_ml\"                             \n",
       "[15] \"temp_within_limits_ind\"                           \n",
       "[16] \"transit_within_limits_ind\"                        \n",
       "[17] \"target_gene_ind\"                                  \n",
       "[18] \"ansis_control\"                                    \n",
       "[19] \"reac_vol_sars\"                                    \n",
       "[20] \"reac_vol_control\"                                 \n",
       "[21] \"raw_ansis_sars_repc_1\"                            \n",
       "[22] \"raw_ansis_sars_repc_2\"                            \n",
       "[23] \"raw_ansis_sars_repc_3\"                            \n",
       "[24] \"raw_ansis_sars_repc_mean\"                         \n",
       "[25] \"raw_ansis_sars_repc_std\"                          \n",
       "[26] \"raw_ansis_sars_ct_repc_1\"                         \n",
       "[27] \"raw_ansis_sars_ct_repc_2\"                         \n",
       "[28] \"raw_ansis_sars_ct_repc_3\"                         \n",
       "[29] \"raw_ansis_control_repc_1\"                         \n",
       "[30] \"raw_ansis_control_repc_2\"                         \n",
       "[31] \"raw_ansis_control_repc_3\"                         \n",
       "[32] \"raw_ansis_control_ct_repc_1\"                      \n",
       "[33] \"raw_ansis_control_ct_repc_2\"                      \n",
       "[34] \"raw_ansis_control_ct_repc_3\"                      \n",
       "[35] \"raw_ansis_control_con_repc_1\"                     \n",
       "[36] \"raw_ansis_control_con_repc_2\"                     \n",
       "[37] \"raw_ansis_control_con_repc_3\"                     \n",
       "[38] \"raw_ansis_control_ct_con_repc_1\"                  \n",
       "[39] \"raw_ansis_control_ct_con_repc_2\"                  \n",
       "[40] \"raw_ansis_control_ct_con_repc_3\"                  \n",
       "[41] \"sars_cov2_gc_l_mean\"                              \n",
       "[42] \"control_gc_l_mean\"                                \n",
       "[43] \"lab_analysis_method\"                              \n",
       "[44] \"lod_sars_gc_l\"                                    \n",
       "[45] \"lod_control_gc_l\"                                 \n",
       "[46] \"lod_sars_ct\"                                      \n",
       "[47] \"lod_control_ct\"                                   \n",
       "[48] \"loq_sars_gc_l\"                                    \n",
       "[49] \"loq_control_gc_l\"                                 \n",
       "[50] \"loq_sars_ct\"                                      \n",
       "[51] \"loq_control_ct\"                                   \n",
       "[52] \"rna_detected_ind\"                                 \n",
       "[53] \"analysis_lab_code\"                                \n",
       "[54] \"sample_ph_pre_ansis\"                              \n",
       "[55] \"conductivity_ms_cm\"                               \n",
       "[56] \"suspended_solids_mg_l\"                            \n",
       "[57] \"dry_matter_mg_l\"                                  \n",
       "[58] \"ammonia_mg_l\"                                     \n",
       "[59] \"ophosph_mg_l\"                                     \n",
       "[60] \"turbidity_ntu\"                                    \n",
       "[61] \"grab_compo_ind\"                                   \n",
       "[62] \"autosample_volume_ml\"                             \n",
       "[63] \"compo_win_start_time\"                             \n",
       "[64] \"comp_collect_interval_min\"                        \n",
       "[65] \"lab_comments\"                                     \n",
       "[66] \"sample_barcode_scan\"                              \n",
       "[67] \"date_compo_started\"                               \n",
       "[68] \"time_compo_started\"                               \n",
       "[69] \"date_compo_ended\"                                 \n",
       "[70] \"time_compo_ended\"                                 \n",
       "[71] \"flow_percentile_5\"                                \n",
       "[72] \"flow_percentile_95\"                               \n",
       "[73] \"flow_median\"                                      \n",
       "[74] \"flow_normalised_sars_cov2_gc_l_mean\"              \n",
       "[75] \"flow_normalised_sars_cov2_gc_l_mean_percentile_5\" \n",
       "[76] \"flow_normalised_sars_cov2_gc_l_mean_percentile_95\"\n",
       "[77] \"anomaly_type_code\"                                \n",
       "[78] \"anomaly_type_name\"                                \n",
       "[79] \"anomaly_type_description\"                         \n",
       "[80] \"site_type\"                                        \n",
       "[81] \"catchment_population_ons_mid_2019\"                \n",
       "[82] \"ww_catchment_code\"                                "
      ]
     },
     "metadata": {},
     "output_type": "display_data"
    }
   ],
   "source": [
    "# file 6 is 'pre-imputation' - I want to use this one to see what changes are made\n",
    "# provide stats on;\n",
    "# - samples per site, and total\n",
    "# - samples that are missing (%)\n",
    "# - samples <LoD (%)\n",
    "# - samples <LoQ (%)\n",
    "\n",
    "# read in data\n",
    "# it's unclear to me how to change dir in notebook, park this for now...\n",
    "datadir <- c(\"/home/ec2-user/SageMaker/jbc-wastewater-analysis/data/\")\n",
    "dat <- read.csv(paste0(datadir,\"raw_data_6_dec21.csv\")) %>% clean_names()\n",
    "dim(dat)\n",
    "head(dat)\n",
    "names(dat)\n"
   ]
  },
  {
   "cell_type": "markdown",
   "id": "f15b4730",
   "metadata": {},
   "source": [
    "## Section 1: Imputation\n",
    "\n",
    "The imputation function is used between 'raw_data_7' and 'raw_data_8'."
   ]
  },
  {
   "cell_type": "code",
   "execution_count": 34,
   "id": "baf63fbc",
   "metadata": {},
   "outputs": [
    {
     "data": {
      "text/html": [
       "<style>\n",
       ".list-inline {list-style: none; margin:0; padding: 0}\n",
       ".list-inline>li {display: inline-block}\n",
       ".list-inline>li:not(:last-child)::after {content: \"\\00b7\"; padding: 0 .5ex}\n",
       "</style>\n",
       "<ol class=list-inline><li>13290</li><li>103</li></ol>\n"
      ],
      "text/latex": [
       "\\begin{enumerate*}\n",
       "\\item 13290\n",
       "\\item 103\n",
       "\\end{enumerate*}\n"
      ],
      "text/markdown": [
       "1. 13290\n",
       "2. 103\n",
       "\n",
       "\n"
      ],
      "text/plain": [
       "[1] 13290   103"
      ]
     },
     "metadata": {},
     "output_type": "display_data"
    },
    {
     "data": {
      "text/html": [
       "<style>\n",
       ".list-inline {list-style: none; margin:0; padding: 0}\n",
       ".list-inline>li {display: inline-block}\n",
       ".list-inline>li:not(:last-child)::after {content: \"\\00b7\"; padding: 0 .5ex}\n",
       "</style>\n",
       "<ol class=list-inline><li>'x'</li><li>'sample_id'</li><li>'timestamp_cdw_processed'</li><li>'site_skey'</li><li>'ww_site_code'</li><li>'date_sample_collected'</li><li>'time_sample_collected'</li><li>'date_sample_received'</li><li>'time_sample_received'</li><li>'date_sample_analysed'</li><li>'time_sample_analysed'</li><li>'date_sample_reported'</li><li>'time_sample_reported'</li><li>'sub_sample_volume_ml'</li><li>'temp_within_limits_ind'</li><li>'transit_within_limits_ind'</li><li>'target_gene_ind'</li><li>'ansis_control'</li><li>'reac_vol_sars'</li><li>'reac_vol_control'</li><li>'raw_ansis_sars_repc_1'</li><li>'raw_ansis_sars_repc_2'</li><li>'raw_ansis_sars_repc_3'</li><li>'raw_ansis_sars_repc_mean'</li><li>'raw_ansis_sars_repc_std'</li><li>'raw_ansis_sars_ct_repc_1'</li><li>'raw_ansis_sars_ct_repc_2'</li><li>'raw_ansis_sars_ct_repc_3'</li><li>'raw_ansis_control_repc_1'</li><li>'raw_ansis_control_repc_2'</li><li>'raw_ansis_control_repc_3'</li><li>'raw_ansis_control_ct_repc_1'</li><li>'raw_ansis_control_ct_repc_2'</li><li>'raw_ansis_control_ct_repc_3'</li><li>'raw_ansis_control_con_repc_1'</li><li>'raw_ansis_control_con_repc_2'</li><li>'raw_ansis_control_con_repc_3'</li><li>'raw_ansis_control_ct_con_repc_1'</li><li>'raw_ansis_control_ct_con_repc_2'</li><li>'raw_ansis_control_ct_con_repc_3'</li><li>'sars_cov2_gc_l_mean'</li><li>'control_gc_l_mean'</li><li>'lab_analysis_method'</li><li>'lod_sars_gc_l'</li><li>'lod_control_gc_l'</li><li>'lod_sars_ct'</li><li>'lod_control_ct'</li><li>'loq_sars_gc_l'</li><li>'loq_control_gc_l'</li><li>'loq_sars_ct'</li><li>'loq_control_ct'</li><li>'rna_detected_ind'</li><li>'analysis_lab_code'</li><li>'sample_ph_pre_ansis'</li><li>'conductivity_ms_cm'</li><li>'suspended_solids_mg_l'</li><li>'dry_matter_mg_l'</li><li>'ammonia_mg_l'</li><li>'ophosph_mg_l'</li><li>'turbidity_ntu'</li><li>'grab_compo_ind'</li><li>'autosample_volume_ml'</li><li>'compo_win_start_time'</li><li>'comp_collect_interval_min'</li><li>'lab_comments'</li><li>'sample_barcode_scan'</li><li>'date_compo_started'</li><li>'time_compo_started'</li><li>'date_compo_ended'</li><li>'time_compo_ended'</li><li>'flow_percentile_5'</li><li>'flow_percentile_95'</li><li>'flow_median'</li><li>'flow_normalised_sars_cov2_gc_l_mean'</li><li>'flow_normalised_sars_cov2_gc_l_mean_percentile_5'</li><li>'flow_normalised_sars_cov2_gc_l_mean_percentile_95'</li><li>'anomaly_type_code'</li><li>'anomaly_type_name'</li><li>'anomaly_type_description'</li><li>'site_type'</li><li>'catchment_population_ons_mid_2019'</li><li>'ww_catchment_code'</li><li>'compo_frac'</li><li>'sars_below_lod'</li><li>'sars_below_loq'</li><li>'has_comments'</li><li>'lab_analysis_1_1_1'</li><li>'lab_analysis_1_1_2'</li><li>'lab_analysis_1_2_1'</li><li>'target_gene_n1'</li><li>'site_sewage_treatment_plant'</li><li>'water_company_abbr'</li><li>'water_company_aw'</li><li>'water_company_nw'</li><li>'water_company_st'</li><li>'water_company_sw'</li><li>'water_company_sws'</li><li>'water_company_tw'</li><li>'water_company_uu'</li><li>'water_company_ww'</li><li>'water_company_wxw'</li><li>'water_company_yw'</li><li>'reception_delay'</li></ol>\n"
      ],
      "text/latex": [
       "\\begin{enumerate*}\n",
       "\\item 'x'\n",
       "\\item 'sample\\_id'\n",
       "\\item 'timestamp\\_cdw\\_processed'\n",
       "\\item 'site\\_skey'\n",
       "\\item 'ww\\_site\\_code'\n",
       "\\item 'date\\_sample\\_collected'\n",
       "\\item 'time\\_sample\\_collected'\n",
       "\\item 'date\\_sample\\_received'\n",
       "\\item 'time\\_sample\\_received'\n",
       "\\item 'date\\_sample\\_analysed'\n",
       "\\item 'time\\_sample\\_analysed'\n",
       "\\item 'date\\_sample\\_reported'\n",
       "\\item 'time\\_sample\\_reported'\n",
       "\\item 'sub\\_sample\\_volume\\_ml'\n",
       "\\item 'temp\\_within\\_limits\\_ind'\n",
       "\\item 'transit\\_within\\_limits\\_ind'\n",
       "\\item 'target\\_gene\\_ind'\n",
       "\\item 'ansis\\_control'\n",
       "\\item 'reac\\_vol\\_sars'\n",
       "\\item 'reac\\_vol\\_control'\n",
       "\\item 'raw\\_ansis\\_sars\\_repc\\_1'\n",
       "\\item 'raw\\_ansis\\_sars\\_repc\\_2'\n",
       "\\item 'raw\\_ansis\\_sars\\_repc\\_3'\n",
       "\\item 'raw\\_ansis\\_sars\\_repc\\_mean'\n",
       "\\item 'raw\\_ansis\\_sars\\_repc\\_std'\n",
       "\\item 'raw\\_ansis\\_sars\\_ct\\_repc\\_1'\n",
       "\\item 'raw\\_ansis\\_sars\\_ct\\_repc\\_2'\n",
       "\\item 'raw\\_ansis\\_sars\\_ct\\_repc\\_3'\n",
       "\\item 'raw\\_ansis\\_control\\_repc\\_1'\n",
       "\\item 'raw\\_ansis\\_control\\_repc\\_2'\n",
       "\\item 'raw\\_ansis\\_control\\_repc\\_3'\n",
       "\\item 'raw\\_ansis\\_control\\_ct\\_repc\\_1'\n",
       "\\item 'raw\\_ansis\\_control\\_ct\\_repc\\_2'\n",
       "\\item 'raw\\_ansis\\_control\\_ct\\_repc\\_3'\n",
       "\\item 'raw\\_ansis\\_control\\_con\\_repc\\_1'\n",
       "\\item 'raw\\_ansis\\_control\\_con\\_repc\\_2'\n",
       "\\item 'raw\\_ansis\\_control\\_con\\_repc\\_3'\n",
       "\\item 'raw\\_ansis\\_control\\_ct\\_con\\_repc\\_1'\n",
       "\\item 'raw\\_ansis\\_control\\_ct\\_con\\_repc\\_2'\n",
       "\\item 'raw\\_ansis\\_control\\_ct\\_con\\_repc\\_3'\n",
       "\\item 'sars\\_cov2\\_gc\\_l\\_mean'\n",
       "\\item 'control\\_gc\\_l\\_mean'\n",
       "\\item 'lab\\_analysis\\_method'\n",
       "\\item 'lod\\_sars\\_gc\\_l'\n",
       "\\item 'lod\\_control\\_gc\\_l'\n",
       "\\item 'lod\\_sars\\_ct'\n",
       "\\item 'lod\\_control\\_ct'\n",
       "\\item 'loq\\_sars\\_gc\\_l'\n",
       "\\item 'loq\\_control\\_gc\\_l'\n",
       "\\item 'loq\\_sars\\_ct'\n",
       "\\item 'loq\\_control\\_ct'\n",
       "\\item 'rna\\_detected\\_ind'\n",
       "\\item 'analysis\\_lab\\_code'\n",
       "\\item 'sample\\_ph\\_pre\\_ansis'\n",
       "\\item 'conductivity\\_ms\\_cm'\n",
       "\\item 'suspended\\_solids\\_mg\\_l'\n",
       "\\item 'dry\\_matter\\_mg\\_l'\n",
       "\\item 'ammonia\\_mg\\_l'\n",
       "\\item 'ophosph\\_mg\\_l'\n",
       "\\item 'turbidity\\_ntu'\n",
       "\\item 'grab\\_compo\\_ind'\n",
       "\\item 'autosample\\_volume\\_ml'\n",
       "\\item 'compo\\_win\\_start\\_time'\n",
       "\\item 'comp\\_collect\\_interval\\_min'\n",
       "\\item 'lab\\_comments'\n",
       "\\item 'sample\\_barcode\\_scan'\n",
       "\\item 'date\\_compo\\_started'\n",
       "\\item 'time\\_compo\\_started'\n",
       "\\item 'date\\_compo\\_ended'\n",
       "\\item 'time\\_compo\\_ended'\n",
       "\\item 'flow\\_percentile\\_5'\n",
       "\\item 'flow\\_percentile\\_95'\n",
       "\\item 'flow\\_median'\n",
       "\\item 'flow\\_normalised\\_sars\\_cov2\\_gc\\_l\\_mean'\n",
       "\\item 'flow\\_normalised\\_sars\\_cov2\\_gc\\_l\\_mean\\_percentile\\_5'\n",
       "\\item 'flow\\_normalised\\_sars\\_cov2\\_gc\\_l\\_mean\\_percentile\\_95'\n",
       "\\item 'anomaly\\_type\\_code'\n",
       "\\item 'anomaly\\_type\\_name'\n",
       "\\item 'anomaly\\_type\\_description'\n",
       "\\item 'site\\_type'\n",
       "\\item 'catchment\\_population\\_ons\\_mid\\_2019'\n",
       "\\item 'ww\\_catchment\\_code'\n",
       "\\item 'compo\\_frac'\n",
       "\\item 'sars\\_below\\_lod'\n",
       "\\item 'sars\\_below\\_loq'\n",
       "\\item 'has\\_comments'\n",
       "\\item 'lab\\_analysis\\_1\\_1\\_1'\n",
       "\\item 'lab\\_analysis\\_1\\_1\\_2'\n",
       "\\item 'lab\\_analysis\\_1\\_2\\_1'\n",
       "\\item 'target\\_gene\\_n1'\n",
       "\\item 'site\\_sewage\\_treatment\\_plant'\n",
       "\\item 'water\\_company\\_abbr'\n",
       "\\item 'water\\_company\\_aw'\n",
       "\\item 'water\\_company\\_nw'\n",
       "\\item 'water\\_company\\_st'\n",
       "\\item 'water\\_company\\_sw'\n",
       "\\item 'water\\_company\\_sws'\n",
       "\\item 'water\\_company\\_tw'\n",
       "\\item 'water\\_company\\_uu'\n",
       "\\item 'water\\_company\\_ww'\n",
       "\\item 'water\\_company\\_wxw'\n",
       "\\item 'water\\_company\\_yw'\n",
       "\\item 'reception\\_delay'\n",
       "\\end{enumerate*}\n"
      ],
      "text/markdown": [
       "1. 'x'\n",
       "2. 'sample_id'\n",
       "3. 'timestamp_cdw_processed'\n",
       "4. 'site_skey'\n",
       "5. 'ww_site_code'\n",
       "6. 'date_sample_collected'\n",
       "7. 'time_sample_collected'\n",
       "8. 'date_sample_received'\n",
       "9. 'time_sample_received'\n",
       "10. 'date_sample_analysed'\n",
       "11. 'time_sample_analysed'\n",
       "12. 'date_sample_reported'\n",
       "13. 'time_sample_reported'\n",
       "14. 'sub_sample_volume_ml'\n",
       "15. 'temp_within_limits_ind'\n",
       "16. 'transit_within_limits_ind'\n",
       "17. 'target_gene_ind'\n",
       "18. 'ansis_control'\n",
       "19. 'reac_vol_sars'\n",
       "20. 'reac_vol_control'\n",
       "21. 'raw_ansis_sars_repc_1'\n",
       "22. 'raw_ansis_sars_repc_2'\n",
       "23. 'raw_ansis_sars_repc_3'\n",
       "24. 'raw_ansis_sars_repc_mean'\n",
       "25. 'raw_ansis_sars_repc_std'\n",
       "26. 'raw_ansis_sars_ct_repc_1'\n",
       "27. 'raw_ansis_sars_ct_repc_2'\n",
       "28. 'raw_ansis_sars_ct_repc_3'\n",
       "29. 'raw_ansis_control_repc_1'\n",
       "30. 'raw_ansis_control_repc_2'\n",
       "31. 'raw_ansis_control_repc_3'\n",
       "32. 'raw_ansis_control_ct_repc_1'\n",
       "33. 'raw_ansis_control_ct_repc_2'\n",
       "34. 'raw_ansis_control_ct_repc_3'\n",
       "35. 'raw_ansis_control_con_repc_1'\n",
       "36. 'raw_ansis_control_con_repc_2'\n",
       "37. 'raw_ansis_control_con_repc_3'\n",
       "38. 'raw_ansis_control_ct_con_repc_1'\n",
       "39. 'raw_ansis_control_ct_con_repc_2'\n",
       "40. 'raw_ansis_control_ct_con_repc_3'\n",
       "41. 'sars_cov2_gc_l_mean'\n",
       "42. 'control_gc_l_mean'\n",
       "43. 'lab_analysis_method'\n",
       "44. 'lod_sars_gc_l'\n",
       "45. 'lod_control_gc_l'\n",
       "46. 'lod_sars_ct'\n",
       "47. 'lod_control_ct'\n",
       "48. 'loq_sars_gc_l'\n",
       "49. 'loq_control_gc_l'\n",
       "50. 'loq_sars_ct'\n",
       "51. 'loq_control_ct'\n",
       "52. 'rna_detected_ind'\n",
       "53. 'analysis_lab_code'\n",
       "54. 'sample_ph_pre_ansis'\n",
       "55. 'conductivity_ms_cm'\n",
       "56. 'suspended_solids_mg_l'\n",
       "57. 'dry_matter_mg_l'\n",
       "58. 'ammonia_mg_l'\n",
       "59. 'ophosph_mg_l'\n",
       "60. 'turbidity_ntu'\n",
       "61. 'grab_compo_ind'\n",
       "62. 'autosample_volume_ml'\n",
       "63. 'compo_win_start_time'\n",
       "64. 'comp_collect_interval_min'\n",
       "65. 'lab_comments'\n",
       "66. 'sample_barcode_scan'\n",
       "67. 'date_compo_started'\n",
       "68. 'time_compo_started'\n",
       "69. 'date_compo_ended'\n",
       "70. 'time_compo_ended'\n",
       "71. 'flow_percentile_5'\n",
       "72. 'flow_percentile_95'\n",
       "73. 'flow_median'\n",
       "74. 'flow_normalised_sars_cov2_gc_l_mean'\n",
       "75. 'flow_normalised_sars_cov2_gc_l_mean_percentile_5'\n",
       "76. 'flow_normalised_sars_cov2_gc_l_mean_percentile_95'\n",
       "77. 'anomaly_type_code'\n",
       "78. 'anomaly_type_name'\n",
       "79. 'anomaly_type_description'\n",
       "80. 'site_type'\n",
       "81. 'catchment_population_ons_mid_2019'\n",
       "82. 'ww_catchment_code'\n",
       "83. 'compo_frac'\n",
       "84. 'sars_below_lod'\n",
       "85. 'sars_below_loq'\n",
       "86. 'has_comments'\n",
       "87. 'lab_analysis_1_1_1'\n",
       "88. 'lab_analysis_1_1_2'\n",
       "89. 'lab_analysis_1_2_1'\n",
       "90. 'target_gene_n1'\n",
       "91. 'site_sewage_treatment_plant'\n",
       "92. 'water_company_abbr'\n",
       "93. 'water_company_aw'\n",
       "94. 'water_company_nw'\n",
       "95. 'water_company_st'\n",
       "96. 'water_company_sw'\n",
       "97. 'water_company_sws'\n",
       "98. 'water_company_tw'\n",
       "99. 'water_company_uu'\n",
       "100. 'water_company_ww'\n",
       "101. 'water_company_wxw'\n",
       "102. 'water_company_yw'\n",
       "103. 'reception_delay'\n",
       "\n",
       "\n"
      ],
      "text/plain": [
       "  [1] \"x\"                                                \n",
       "  [2] \"sample_id\"                                        \n",
       "  [3] \"timestamp_cdw_processed\"                          \n",
       "  [4] \"site_skey\"                                        \n",
       "  [5] \"ww_site_code\"                                     \n",
       "  [6] \"date_sample_collected\"                            \n",
       "  [7] \"time_sample_collected\"                            \n",
       "  [8] \"date_sample_received\"                             \n",
       "  [9] \"time_sample_received\"                             \n",
       " [10] \"date_sample_analysed\"                             \n",
       " [11] \"time_sample_analysed\"                             \n",
       " [12] \"date_sample_reported\"                             \n",
       " [13] \"time_sample_reported\"                             \n",
       " [14] \"sub_sample_volume_ml\"                             \n",
       " [15] \"temp_within_limits_ind\"                           \n",
       " [16] \"transit_within_limits_ind\"                        \n",
       " [17] \"target_gene_ind\"                                  \n",
       " [18] \"ansis_control\"                                    \n",
       " [19] \"reac_vol_sars\"                                    \n",
       " [20] \"reac_vol_control\"                                 \n",
       " [21] \"raw_ansis_sars_repc_1\"                            \n",
       " [22] \"raw_ansis_sars_repc_2\"                            \n",
       " [23] \"raw_ansis_sars_repc_3\"                            \n",
       " [24] \"raw_ansis_sars_repc_mean\"                         \n",
       " [25] \"raw_ansis_sars_repc_std\"                          \n",
       " [26] \"raw_ansis_sars_ct_repc_1\"                         \n",
       " [27] \"raw_ansis_sars_ct_repc_2\"                         \n",
       " [28] \"raw_ansis_sars_ct_repc_3\"                         \n",
       " [29] \"raw_ansis_control_repc_1\"                         \n",
       " [30] \"raw_ansis_control_repc_2\"                         \n",
       " [31] \"raw_ansis_control_repc_3\"                         \n",
       " [32] \"raw_ansis_control_ct_repc_1\"                      \n",
       " [33] \"raw_ansis_control_ct_repc_2\"                      \n",
       " [34] \"raw_ansis_control_ct_repc_3\"                      \n",
       " [35] \"raw_ansis_control_con_repc_1\"                     \n",
       " [36] \"raw_ansis_control_con_repc_2\"                     \n",
       " [37] \"raw_ansis_control_con_repc_3\"                     \n",
       " [38] \"raw_ansis_control_ct_con_repc_1\"                  \n",
       " [39] \"raw_ansis_control_ct_con_repc_2\"                  \n",
       " [40] \"raw_ansis_control_ct_con_repc_3\"                  \n",
       " [41] \"sars_cov2_gc_l_mean\"                              \n",
       " [42] \"control_gc_l_mean\"                                \n",
       " [43] \"lab_analysis_method\"                              \n",
       " [44] \"lod_sars_gc_l\"                                    \n",
       " [45] \"lod_control_gc_l\"                                 \n",
       " [46] \"lod_sars_ct\"                                      \n",
       " [47] \"lod_control_ct\"                                   \n",
       " [48] \"loq_sars_gc_l\"                                    \n",
       " [49] \"loq_control_gc_l\"                                 \n",
       " [50] \"loq_sars_ct\"                                      \n",
       " [51] \"loq_control_ct\"                                   \n",
       " [52] \"rna_detected_ind\"                                 \n",
       " [53] \"analysis_lab_code\"                                \n",
       " [54] \"sample_ph_pre_ansis\"                              \n",
       " [55] \"conductivity_ms_cm\"                               \n",
       " [56] \"suspended_solids_mg_l\"                            \n",
       " [57] \"dry_matter_mg_l\"                                  \n",
       " [58] \"ammonia_mg_l\"                                     \n",
       " [59] \"ophosph_mg_l\"                                     \n",
       " [60] \"turbidity_ntu\"                                    \n",
       " [61] \"grab_compo_ind\"                                   \n",
       " [62] \"autosample_volume_ml\"                             \n",
       " [63] \"compo_win_start_time\"                             \n",
       " [64] \"comp_collect_interval_min\"                        \n",
       " [65] \"lab_comments\"                                     \n",
       " [66] \"sample_barcode_scan\"                              \n",
       " [67] \"date_compo_started\"                               \n",
       " [68] \"time_compo_started\"                               \n",
       " [69] \"date_compo_ended\"                                 \n",
       " [70] \"time_compo_ended\"                                 \n",
       " [71] \"flow_percentile_5\"                                \n",
       " [72] \"flow_percentile_95\"                               \n",
       " [73] \"flow_median\"                                      \n",
       " [74] \"flow_normalised_sars_cov2_gc_l_mean\"              \n",
       " [75] \"flow_normalised_sars_cov2_gc_l_mean_percentile_5\" \n",
       " [76] \"flow_normalised_sars_cov2_gc_l_mean_percentile_95\"\n",
       " [77] \"anomaly_type_code\"                                \n",
       " [78] \"anomaly_type_name\"                                \n",
       " [79] \"anomaly_type_description\"                         \n",
       " [80] \"site_type\"                                        \n",
       " [81] \"catchment_population_ons_mid_2019\"                \n",
       " [82] \"ww_catchment_code\"                                \n",
       " [83] \"compo_frac\"                                       \n",
       " [84] \"sars_below_lod\"                                   \n",
       " [85] \"sars_below_loq\"                                   \n",
       " [86] \"has_comments\"                                     \n",
       " [87] \"lab_analysis_1_1_1\"                               \n",
       " [88] \"lab_analysis_1_1_2\"                               \n",
       " [89] \"lab_analysis_1_2_1\"                               \n",
       " [90] \"target_gene_n1\"                                   \n",
       " [91] \"site_sewage_treatment_plant\"                      \n",
       " [92] \"water_company_abbr\"                               \n",
       " [93] \"water_company_aw\"                                 \n",
       " [94] \"water_company_nw\"                                 \n",
       " [95] \"water_company_st\"                                 \n",
       " [96] \"water_company_sw\"                                 \n",
       " [97] \"water_company_sws\"                                \n",
       " [98] \"water_company_tw\"                                 \n",
       " [99] \"water_company_uu\"                                 \n",
       "[100] \"water_company_ww\"                                 \n",
       "[101] \"water_company_wxw\"                                \n",
       "[102] \"water_company_yw\"                                 \n",
       "[103] \"reception_delay\"                                  "
      ]
     },
     "metadata": {},
     "output_type": "display_data"
    },
    {
     "ename": "ERROR",
     "evalue": "Error: Problem with `filter()` input `..1`.\n\u001b[34mℹ\u001b[39m Input `..1` is `date_sample_collected >= first_date`.\n\u001b[31m✖\u001b[39m object 'date_sample_collected' not found\n",
     "output_type": "error",
     "traceback": [
      "Error: Problem with `filter()` input `..1`.\n\u001b[34mℹ\u001b[39m Input `..1` is `date_sample_collected >= first_date`.\n\u001b[31m✖\u001b[39m object 'date_sample_collected' not found\nTraceback:\n",
      "1. read.csv(paste0(datadir, \"raw_data_8_dec21.csv\")) %>% clean_names() %>% \n .     filter(date_sample_collected >= first_date)",
      "2. filter(., date_sample_collected >= first_date)",
      "3. filter.data.frame(., date_sample_collected >= first_date)",
      "4. filter_rows(.data, ..., caller_env = caller_env())",
      "5. withCallingHandlers({\n .     dots <- new_quosures(flatten(imap(dots, function(dot, index) {\n .         env_filter$current_expression <- index\n .         expand_if_across(dot)\n .     })))\n .     mask$eval_all_filter(dots, env_filter)\n . }, error = function(e) {\n .     local_call_step(dots = dots, .index = env_filter$current_expression, \n .         .fn = \"filter\")\n .     abort(c(cnd_bullet_header(), i = cnd_bullet_input_info(), \n .         x = conditionMessage(e), i = cnd_bullet_cur_group_label()), \n .         class = \"dplyr_error\")\n . })",
      "6. mask$eval_all_filter(dots, env_filter)",
      "7. .handleSimpleError(function (e) \n . {\n .     local_call_step(dots = dots, .index = env_filter$current_expression, \n .         .fn = \"filter\")\n .     abort(c(cnd_bullet_header(), i = cnd_bullet_input_info(), \n .         x = conditionMessage(e), i = cnd_bullet_cur_group_label()), \n .         class = \"dplyr_error\")\n . }, \"object 'date_sample_collected' not found\", base::quote(mask$eval_all_filter(dots, \n .     env_filter)))",
      "8. h(simpleError(msg, call))",
      "9. abort(c(cnd_bullet_header(), i = cnd_bullet_input_info(), x = conditionMessage(e), \n .     i = cnd_bullet_cur_group_label()), class = \"dplyr_error\")",
      "10. signal_abort(cnd)"
     ]
    }
   ],
   "source": [
    "datadir <- c(\"/home/ec2-user/SageMaker/jbc-wastewater-analysis/data/\")\n",
    "# restrict data\n",
    "first_date <- as.Date(\"01-07-2020\",'%d-%m-%Y')\n",
    "last_date <- as.Date(\"30-03-2021\",'%d-%m-%Y')  #last date reported in the paper\n",
    "\n",
    "\n",
    "dat7 <- read.csv(paste0(datadir,\"raw_data_7_dec21.csv\")) %>% clean_names()\n",
    "#[this normally works and I cannot figure out why it does not currently] \n",
    "# dat7 <- dat7 %>% filter(as.Date(date_sample_collected) >= first_date)\n",
    "dim(dat7)\n",
    "names(dat7)\n",
    "\n",
    "dat8 <- read.csv(paste0(datadir,\"raw_data_8_dec21.csv\")) %>% clean_names() %>% filter(date_sample_collected>=first_date)\n",
    "\n",
    "dim(dat8)\n",
    "#names(dat8)\n",
    "#length(unique(dat8$sample_id)) == length((dat8$sample_id)) # if T can use for matching\n",
    "\n",
    "datc <- left_join(dat7,dat8 %>% select(sample_id,sars_cov2_gc_l_mean),by=c(\"sample_id\"))\n",
    "\n",
    "# names(datc)\n",
    "# sars_cov2_gc_l_mean.x ==> data pre-imputation (data_7)\n",
    "# sars_cov2_gc_l_mean.y ==> data pre-imputation (date_8)"
   ]
  },
  {
   "cell_type": "code",
   "execution_count": 28,
   "id": "d854996b",
   "metadata": {},
   "outputs": [
    {
     "data": {
      "text/plain": [
       "   Min. 1st Qu.  Median    Mean 3rd Qu.    Max.    NA's \n",
       "      0       0       0       0       0       0    1316 "
      ]
     },
     "metadata": {},
     "output_type": "display_data"
    },
    {
     "data": {
      "text/html": [
       "1316"
      ],
      "text/latex": [
       "1316"
      ],
      "text/markdown": [
       "1316"
      ],
      "text/plain": [
       "[1] 1316"
      ]
     },
     "metadata": {},
     "output_type": "display_data"
    },
    {
     "data": {
      "text/html": [
       "9.9"
      ],
      "text/latex": [
       "9.9"
      ],
      "text/markdown": [
       "9.9"
      ],
      "text/plain": [
       "[1] 9.9"
      ]
     },
     "metadata": {},
     "output_type": "display_data"
    },
    {
     "name": "stdout",
     "output_type": "stream",
     "text": [
      "[1] \"9.9 % of obs are NA\"\n"
     ]
    },
    {
     "data": {
      "text/html": [
       "<style>\n",
       ".list-inline {list-style: none; margin:0; padding: 0}\n",
       ".list-inline>li {display: inline-block}\n",
       ".list-inline>li:not(:last-child)::after {content: \"\\00b7\"; padding: 0 .5ex}\n",
       "</style>\n",
       "<ol class=list-inline><li>&lt;NA&gt;</li><li>&lt;NA&gt;</li><li>&lt;NA&gt;</li><li>&lt;NA&gt;</li><li>&lt;NA&gt;</li><li>&lt;NA&gt;</li><li>&lt;NA&gt;</li><li>&lt;NA&gt;</li><li>&lt;NA&gt;</li><li>&lt;NA&gt;</li></ol>\n"
      ],
      "text/latex": [
       "\\begin{enumerate*}\n",
       "\\item <NA>\n",
       "\\item <NA>\n",
       "\\item <NA>\n",
       "\\item <NA>\n",
       "\\item <NA>\n",
       "\\item <NA>\n",
       "\\item <NA>\n",
       "\\item <NA>\n",
       "\\item <NA>\n",
       "\\item <NA>\n",
       "\\end{enumerate*}\n"
      ],
      "text/markdown": [
       "1. &lt;NA&gt;\n",
       "2. &lt;NA&gt;\n",
       "3. &lt;NA&gt;\n",
       "4. &lt;NA&gt;\n",
       "5. &lt;NA&gt;\n",
       "6. &lt;NA&gt;\n",
       "7. &lt;NA&gt;\n",
       "8. &lt;NA&gt;\n",
       "9. &lt;NA&gt;\n",
       "10. &lt;NA&gt;\n",
       "\n",
       "\n"
      ],
      "text/plain": [
       " [1] NA NA NA NA NA NA NA NA NA NA"
      ]
     },
     "metadata": {},
     "output_type": "display_data"
    },
    {
     "data": {
      "text/html": [
       "<style>\n",
       ".list-inline {list-style: none; margin:0; padding: 0}\n",
       ".list-inline>li {display: inline-block}\n",
       ".list-inline>li:not(:last-child)::after {content: \"\\00b7\"; padding: 0 .5ex}\n",
       "</style>\n",
       "<ol class=list-inline><li>2368.11853027344</li><li>2368.11853027344</li><li>2368.11853027344</li><li>1669.20408121745</li><li>66.5</li><li>1369.41247558594</li><li>9415.03971354167</li><li>1699.53076171875</li><li>1699.53076171875</li><li>1699.53076171875</li></ol>\n"
      ],
      "text/latex": [
       "\\begin{enumerate*}\n",
       "\\item 2368.11853027344\n",
       "\\item 2368.11853027344\n",
       "\\item 2368.11853027344\n",
       "\\item 1669.20408121745\n",
       "\\item 66.5\n",
       "\\item 1369.41247558594\n",
       "\\item 9415.03971354167\n",
       "\\item 1699.53076171875\n",
       "\\item 1699.53076171875\n",
       "\\item 1699.53076171875\n",
       "\\end{enumerate*}\n"
      ],
      "text/markdown": [
       "1. 2368.11853027344\n",
       "2. 2368.11853027344\n",
       "3. 2368.11853027344\n",
       "4. 1669.20408121745\n",
       "5. 66.5\n",
       "6. 1369.41247558594\n",
       "7. 9415.03971354167\n",
       "8. 1699.53076171875\n",
       "9. 1699.53076171875\n",
       "10. 1699.53076171875\n",
       "\n",
       "\n"
      ],
      "text/plain": [
       " [1] 2368.119 2368.119 2368.119 1669.204   66.500 1369.412 9415.040 1699.531\n",
       " [9] 1699.531 1699.531"
      ]
     },
     "metadata": {},
     "output_type": "display_data"
    },
    {
     "data": {
      "text/plain": [
       "\n",
       "2020-27 2020-28 2020-29 2020-31 2020-32 2020-33 2020-34 2020-35 2020-36 2020-37 \n",
       "     21     126      45       8       1      45      48       2       7       4 \n",
       "2020-38 2020-39 2020-40 2020-41 2020-42 2020-43 2020-44 2020-45 2020-46 2020-47 \n",
       "      3       8      44      68     105      25      12       8       7      13 \n",
       "2020-48 2020-49 2020-50 2020-51 2020-52 2021-00 2021-01 2021-02 2021-03 2021-04 \n",
       "     39      27       4      13       4       3     113      18      35      68 \n",
       "2021-05 2021-06 2021-07 2021-08 2021-09 2021-10 2021-11 2021-12 2021-13 2021-14 \n",
       "     42      60      54      16       1       1       3       2       3       1 \n",
       "2021-15 2021-16 2021-17 2021-18 2021-19 2021-20 2021-21 2021-22 2021-23 2021-24 \n",
       "      1       1       2       3       4       2       1       2       6       8 \n",
       "2021-25 2021-26 2021-27 2021-28 2021-29 2021-30 2021-31 2021-32 2021-33 2021-34 \n",
       "      4       5       1       1       9       4       4       2       1       1 \n",
       "2021-36 2021-37 2021-38 2021-40 2021-41 2021-43 2021-44 2021-46 2021-47 2021-49 \n",
       "      5       4       3       3       2       1       2      38       4       5 \n",
       "2021-50 2021-51 2021-52 2022-01 2022-02 2022-03 2022-04 \n",
       "      4      46       4       2       2      14       8 "
      ]
     },
     "metadata": {},
     "output_type": "display_data"
    }
   ],
   "source": [
    "#class(datc$sars_cov2_gc_l_mean.y)\n",
    "tmp <- round(datc$sars_cov2_gc_l_mean.x,3) - round(datc$sars_cov2_gc_l_mean.y,3)\n",
    "summary(tmp)\n",
    "oo <- which(is.na(datc$sars_cov2_gc_l_mean.x))\n",
    "length(oo)\n",
    "round((length(oo)/dim(datc)[1])*100,1)\n",
    "print(paste0(round((length(oo)/dim(datc)[1])*100,1),' % of obs are NA'))\n",
    "datc$sars_cov2_gc_l_mean.x[oo][1:10]\n",
    "datc$sars_cov2_gc_l_mean.y[oo][1:10]\n",
    "#print('Number with matching values = ',tmp)\n",
    "\n",
    "# so where are these data?\n",
    "datc$week_collected <- paste0(format(as.Date(datc$date_sample_collected),\"%Y\"),\"-\",format(as.Date(datc$date_sample_collected),\"%W\"))\n",
    "table(datc$week_collected[oo])\n",
    "\n",
    "\n"
   ]
  },
  {
   "cell_type": "code",
   "execution_count": 3,
   "id": "bdea7707",
   "metadata": {},
   "outputs": [
    {
     "data": {
      "text/plain": [
       "Time difference of 272 days"
      ]
     },
     "metadata": {},
     "output_type": "display_data"
    },
    {
     "data": {
      "text/plain": [
       "\n",
       "2020-27 2020-28 2020-29 2020-30 2020-31 2020-32 2020-33 2020-34 2020-35 2020-36 \n",
       "     21     126     173     175     171     171     175     174     169     173 \n",
       "2020-37 2020-38 2020-39 2020-40 2020-41 2020-42 2020-43 2020-44 2020-45 2020-46 \n",
       "    171     171     175     177     176     176     177     169     176     176 \n",
       "2020-47 2020-48 2020-49 2020-50 2020-51 2020-52 2021-00 2021-01 2021-02 2021-03 \n",
       "    178     175     179     180      91      42      40     174     176     176 \n",
       "2021-04 2021-05 2021-06 2021-07 2021-08 2021-09 2021-10 2021-11 2021-12 2021-13 \n",
       "    170     172     173     172     174     173     159     165     135      42 "
      ]
     },
     "metadata": {},
     "output_type": "display_data"
    },
    {
     "data": {
      "text/html": [
       "<style>\n",
       ".list-inline {list-style: none; margin:0; padding: 0}\n",
       ".list-inline>li {display: inline-block}\n",
       ".list-inline>li:not(:last-child)::after {content: \"\\00b7\"; padding: 0 .5ex}\n",
       "</style>\n",
       "<ol class=list-inline><li>6218</li><li>83</li></ol>\n"
      ],
      "text/latex": [
       "\\begin{enumerate*}\n",
       "\\item 6218\n",
       "\\item 83\n",
       "\\end{enumerate*}\n"
      ],
      "text/markdown": [
       "1. 6218\n",
       "2. 83\n",
       "\n",
       "\n"
      ],
      "text/plain": [
       "[1] 6218   83"
      ]
     },
     "metadata": {},
     "output_type": "display_data"
    }
   ],
   "source": [
    "# restrict data\n",
    "first_date <- as.Date(\"01-07-2020\",'%d-%m-%Y')\n",
    "last_date <- as.Date(\"30-03-2021\",'%d-%m-%Y')  #last date reported in the paper\n",
    "(last_date-first_date)\n",
    "#table(dat2$)\n",
    "dat2 <- dat %>% filter(date_sample_collected>=first_date & date_sample_collected<=last_date)\n",
    "dat2$week_collected <- paste0(format(as.Date(dat2$date_sample_collected),\"%Y\"),\"-\",format(as.Date(dat2$date_sample_collected),\"%W\"))\n",
    "table(dat2$week_collected)\n",
    "dim(dat2)\n",
    "#head(dat2)\n",
    "#dir()"
   ]
  },
  {
   "cell_type": "code",
   "execution_count": 4,
   "id": "b9066540",
   "metadata": {},
   "outputs": [
    {
     "data": {
      "text/html": [
       "'Numbr of sites = 45'"
      ],
      "text/latex": [
       "'Numbr of sites = 45'"
      ],
      "text/markdown": [
       "'Numbr of sites = 45'"
      ],
      "text/plain": [
       "[1] \"Numbr of sites = 45\""
      ]
     },
     "metadata": {},
     "output_type": "display_data"
    },
    {
     "data": {
      "text/html": [
       "'Min samples per site = 74'"
      ],
      "text/latex": [
       "'Min samples per site = 74'"
      ],
      "text/markdown": [
       "'Min samples per site = 74'"
      ],
      "text/plain": [
       "[1] \"Min samples per site = 74\""
      ]
     },
     "metadata": {},
     "output_type": "display_data"
    },
    {
     "data": {
      "text/html": [
       "'Min samples per site = 147'"
      ],
      "text/latex": [
       "'Min samples per site = 147'"
      ],
      "text/markdown": [
       "'Min samples per site = 147'"
      ],
      "text/plain": [
       "[1] \"Min samples per site = 147\""
      ]
     },
     "metadata": {},
     "output_type": "display_data"
    },
    {
     "name": "stdout",
     "output_type": "stream",
     "text": [
      "\n",
      " UKENAN_AW_TP000050  UKENAN_AW_TP000063  UKENAN_AW_TP000161  UKENAN_AW_TP000200 \n",
      "                141                 140                 142                 142 \n",
      " UKENAN_AW_TP000210  UKENMI_ST_TP000020  UKENMI_ST_TP000068  UKENMI_ST_TP000074 \n",
      "                142                 143                 109                 140 \n",
      " UKENMI_ST_TP000156  UKENMI_ST_TP000163  UKENMI_ST_TP000222  UKENNE_NU_TP000030 \n",
      "                138                 133                 141                 142 \n",
      " UKENNE_NU_TP000055  UKENNE_YW_TP000082  UKENNE_YW_TP000095  UKENNE_YW_TP000098 \n",
      "                143                 139                 138                 135 \n",
      " UKENNE_YW_TP000107  UKENNW_UU_TP000011  UKENNW_UU_TP000012  UKENNW_UU_TP000019 \n",
      "                141                  74                 137                 136 \n",
      " UKENNW_UU_TP000038  UKENNW_UU_TP000076  UKENNW_UU_TP000078  UKENNW_UU_TP000095 \n",
      "                141                 137                 134                 137 \n",
      " UKENNW_UU_TP000110  UKENSO_SW_TP000001  UKENSO_SW_TP000011  UKENSO_SW_TP000025 \n",
      "                136                 140                 144                 145 \n",
      " UKENSO_SW_TP000030 UKENSW_SWS_TP000031 UKENSW_SWS_TP000058 UKENSW_WXW_TP000004 \n",
      "                144                 145                 143                 136 \n",
      "UKENSW_WXW_TP000092 UKENSW_WXW_TP000101 UKENTH_TWU_TP000010 UKENTH_TWU_TP000013 \n",
      "                138                 137                 145                 138 \n",
      "UKENTH_TWU_TP000014 UKENTH_TWU_TP000015 UKENTH_TWU_TP000052 UKENTH_TWU_TP000054 \n",
      "                147                 142                 143                 142 \n",
      "UKENTH_TWU_TP000084 UKENTH_TWU_TP000100 UKENTH_TWU_TP000103 UKENTH_TWU_TP000113 \n",
      "                145                 137                 143                 138 \n",
      "UKENTH_TWU_TP000125 \n",
      "                145 \n"
     ]
    }
   ],
   "source": [
    "# sites and samples per site\n",
    "paste0(\"Numbr of sites = \",length(table(dat2$ww_site_code)))\n",
    "tmp <- table(dat2$ww_site_code)\n",
    "paste0(\"Min samples per site = \",min(tmp))\n",
    "paste0(\"Min samples per site = \",max(tmp)) \n",
    "print(tmp)"
   ]
  },
  {
   "cell_type": "code",
   "execution_count": 4,
   "id": "a9365d1d",
   "metadata": {},
   "outputs": [
    {
     "data": {
      "text/plain": [
       "    Min.  1st Qu.   Median     Mean  3rd Qu.     Max.     NA's \n",
       "  -4.000    2.003   24.792  148.418  125.406 9425.244     1099 "
      ]
     },
     "metadata": {},
     "output_type": "display_data"
    },
    {
     "name": "stdout",
     "output_type": "stream",
     "text": [
      "[1] \"Both replicates below LoD = \"\n"
     ]
    },
    {
     "data": {
      "text/plain": [
       "\n",
       "FALSE  TRUE \n",
       " 4112  1007 "
      ]
     },
     "metadata": {},
     "output_type": "display_data"
    },
    {
     "name": "stdout",
     "output_type": "stream",
     "text": [
      "[1] \"Percentage of samples = \"\n"
     ]
    },
    {
     "data": {
      "text/plain": [
       "\n",
       "FALSE  TRUE \n",
       " 66.1  16.2 "
      ]
     },
     "metadata": {},
     "output_type": "display_data"
    },
    {
     "name": "stdout",
     "output_type": "stream",
     "text": [
      "[1] \"At least one replicate below LoD = \"\n"
     ]
    },
    {
     "data": {
      "text/plain": [
       "\n",
       "   0    1 \n",
       "5906  312 "
      ]
     },
     "metadata": {},
     "output_type": "display_data"
    },
    {
     "data": {
      "text/plain": [
       "\n",
       " 0  1 \n",
       "95  5 "
      ]
     },
     "metadata": {},
     "output_type": "display_data"
    },
    {
     "data": {
      "text/plain": [
       "\n",
       "                -4                 -3 0.0124594662338495 0.0133632896468043 \n",
       "              1007                 61                  1                  1 \n",
       "0.0134539296850562  0.019258776679635 0.0199999995529651 0.0230000000447034 \n",
       "                 1                  1                  1                  1 \n",
       "0.0299999993294477 0.0401439480483531 \n",
       "                 1                  1 "
      ]
     },
     "metadata": {},
     "output_type": "display_data"
    }
   ],
   "source": [
    "# look at raw_ansis_sars_repc_mean and how missing it is\n",
    "summary(dat2$raw_ansis_sars_repc_mean)\n",
    "print(\"Both replicates below LoD = \")\n",
    "table(dat2$raw_ansis_sars_repc_mean <= -4)\n",
    "print(\"Percentage of samples = \")\n",
    "round(100*(table(dat2$raw_ansis_sars_repc_mean <= -4)/dim(dat2)[1]),1)\n",
    "# at least one replicate below LoD (this MUST be updated with the full data)\n",
    "dat2$raw_ansis_sars_lod <- 0\n",
    "dat2$raw_ansis_sars_lod[dat2$raw_ansis_sars_repc_1 <= -4] <- 1\n",
    "dat2$raw_ansis_sars_lod[dat2$raw_ansis_sars_repc_2 <= -4] <- 1\n",
    "print(\"At least one replicate below LoD = \")\n",
    "table(dat2$raw_ansis_sars_lod)\n",
    "round(100*(table(dat2$raw_ansis_sars_lod)/dim(dat2)[1]),1)\n",
    "# and check there aren't other weird numbers \n",
    "table(dat2$raw_ansis_sars_repc_mean)[1:10]"
   ]
  },
  {
   "cell_type": "code",
   "execution_count": 6,
   "id": "b3d167f4",
   "metadata": {},
   "outputs": [
    {
     "data": {
      "text/plain": [
       "\n",
       "   0    1 \n",
       "5906  312 "
      ]
     },
     "metadata": {},
     "output_type": "display_data"
    }
   ],
   "source": [
    "# flag obs where 1 or more replicates have ND\n",
    "dat2$raw_ansis_sars_lod <- 0\n",
    "dat2$raw_ansis_sars_lod[dat2$raw_ansis_sars_repc_1 == -4] <- 1\n",
    "dat2$raw_ansis_sars_lod[dat2$raw_ansis_sars_repc_2 == -4] <- 1\n",
    "table(dat2$raw_ansis_sars_lod)"
   ]
  },
  {
   "cell_type": "code",
   "execution_count": 7,
   "id": "8624d110",
   "metadata": {},
   "outputs": [
    {
     "name": "stdout",
     "output_type": "stream",
     "text": [
      "           [,1]   [,2]      [,3]\n",
      " [1,] -4.000000 -4.000 -4.000000\n",
      " [2,] -4.000000 -4.000 -4.000000\n",
      " [3,] -4.000000 -4.000 -4.000000\n",
      " [4,] -4.000000 -4.000 -4.000000\n",
      " [5,]  8.717000 -4.000  4.358500\n",
      " [6,] -4.000000 -4.000 -4.000000\n",
      " [7,]  5.857064 -4.000  2.928532\n",
      " [8,] -4.000000 -4.000 -4.000000\n",
      " [9,] -4.000000  0.300  0.150000\n",
      "[10,]  3.926000 -4.000  1.963000\n",
      "[11,] -4.000000  3.554  1.777000\n",
      "[12,] -4.000000 -4.000 -4.000000\n",
      "[13,] -4.000000 -4.000 -4.000000\n",
      "[14,]  2.251000 -4.000  1.125500\n",
      "[15,]  9.053000 -4.000  4.526500\n"
     ]
    }
   ],
   "source": [
    "# check what is happening with the mean value where this is happening...\n",
    "oo <- which(dat2$raw_ansis_sars_lod==1)[1:15]\n",
    "tmp <- cbind(dat2$raw_ansis_sars_repc_1[oo],dat2$raw_ansis_sars_repc_2[oo],dat2$raw_ansis_sars_repc_mean[oo])\n",
    "print(tmp)\n",
    "# ok so if one value is '-4' it is treated as '0' when calaculating the mean. This needs to be changed."
   ]
  },
  {
   "cell_type": "code",
   "execution_count": 8,
   "id": "ddf39db7",
   "metadata": {},
   "outputs": [
    {
     "ename": "ERROR",
     "evalue": "Error in dat2$raw_ansis_sars_repc_mean_v2[dat2$raw_ansis_sars_repc_1 == : NAs are not allowed in subscripted assignments\n",
     "output_type": "error",
     "traceback": [
      "Error in dat2$raw_ansis_sars_repc_mean_v2[dat2$raw_ansis_sars_repc_1 == : NAs are not allowed in subscripted assignments\nTraceback:\n"
     ]
    }
   ],
   "source": [
    "# correct the mean value and the gc_l value by finding the constant...\n",
    "dat2$gconst <- dat2$sars_cov2_gc_l_mean/dat2$raw_ansis_sars_repc_mean\n",
    "dat2$raw_ansis_sars_repc_mean_v2 <- dat2$raw_ansis_sars_repc_mean\n",
    "dat2$raw_ansis_sars_repc_mean_v2[dat2$raw_ansis_sars_repc_1 == -4] <- dat2$raw_ansis_sars_repc_2[dat2$raw_ansis_sars_repc_1 == -4]\n",
    "dat2$raw_ansis_sars_repc_mean_v2[dat2$raw_ansis_sars_repc_2 == -4] <- dat2$raw_ansis_sars_repc_1[dat2$raw_ansis_sars_repc_2 == -4]\n",
    "summary(dat2$raw_ansis_sars_repc_mean)\n",
    "summary(dat2$raw_ansis_sars_repc_mean_v2)\n",
    "dat2$sars_cov2_gc_l_mean_v2 <- dat2$sars_cov2_gc_l_mean\n",
    "dat2$sars_cov2_gc_l_mean_v2[dat2$raw_ansis_sars_lod==1] <- dat2$gconst[dat2$raw_ansis_sars_lod==1]*dat2$raw_ansis_sars_repc_mean_v2[dat2$raw_ansis_sars_lod==1]\n",
    "summary(dat2$sars_cov2_gc_l_mean)\n",
    "summary(dat2$sars_cov2_gc_l_mean_v2)"
   ]
  },
  {
   "cell_type": "code",
   "execution_count": 34,
   "id": "53029276",
   "metadata": {
    "scrolled": true
   },
   "outputs": [
    {
     "data": {
      "text/html": [
       "<table class=\"dataframe\">\n",
       "<caption>A data.frame: 6 × 108</caption>\n",
       "<thead>\n",
       "\t<tr><th></th><th scope=col>x</th><th scope=col>startday</th><th scope=col>ww_site_code</th><th scope=col>sample_id</th><th scope=col>timestamp_cdw_processed</th><th scope=col>site_skey</th><th scope=col>date</th><th scope=col>time_sample_collected</th><th scope=col>date_sample_received</th><th scope=col>time_sample_received</th><th scope=col>⋯</th><th scope=col>water_company_uu</th><th scope=col>water_company_ww</th><th scope=col>water_company_wxw</th><th scope=col>water_company_yw</th><th scope=col>reception_delay</th><th scope=col>catchment_area</th><th scope=col>dayofweek</th><th scope=col>cis20cd</th><th scope=col>catch_in_cis_prop</th><th scope=col>catch_cis_population</th></tr>\n",
       "\t<tr><th></th><th scope=col>&lt;int&gt;</th><th scope=col>&lt;chr&gt;</th><th scope=col>&lt;chr&gt;</th><th scope=col>&lt;chr&gt;</th><th scope=col>&lt;chr&gt;</th><th scope=col>&lt;int&gt;</th><th scope=col>&lt;chr&gt;</th><th scope=col>&lt;int&gt;</th><th scope=col>&lt;chr&gt;</th><th scope=col>&lt;int&gt;</th><th scope=col>⋯</th><th scope=col>&lt;int&gt;</th><th scope=col>&lt;int&gt;</th><th scope=col>&lt;int&gt;</th><th scope=col>&lt;int&gt;</th><th scope=col>&lt;dbl&gt;</th><th scope=col>&lt;dbl&gt;</th><th scope=col>&lt;int&gt;</th><th scope=col>&lt;chr&gt;</th><th scope=col>&lt;dbl&gt;</th><th scope=col>&lt;dbl&gt;</th></tr>\n",
       "</thead>\n",
       "<tbody>\n",
       "\t<tr><th scope=row>1</th><td>0</td><td>2020-07-06</td><td>UKENNW_UU_TP000038</td><td>2003580-01</td><td>2021-06-07 13:44:02.0</td><td>17732</td><td>2020-07-08</td><td>800</td><td>2020-07-10</td><td> 138</td><td>⋯</td><td>1</td><td>0</td><td>0</td><td>0</td><td>41.63333</td><td>70.68352</td><td>2</td><td>J06000121</td><td>0.4792181</td><td>90139</td></tr>\n",
       "\t<tr><th scope=row>2</th><td>1</td><td>2020-07-13</td><td>UKENNW_UU_TP000038</td><td>2003580-05</td><td>2021-06-07 13:44:02.0</td><td>17732</td><td>2020-07-15</td><td>804</td><td>2020-07-16</td><td>1128</td><td>⋯</td><td>1</td><td>0</td><td>0</td><td>0</td><td>27.40000</td><td>70.68352</td><td>2</td><td>J06000121</td><td>0.4792181</td><td>90139</td></tr>\n",
       "\t<tr><th scope=row>3</th><td>2</td><td>2020-07-13</td><td>UKENNW_UU_TP000038</td><td>2003580-06</td><td>2021-06-07 13:44:02.0</td><td>17732</td><td>2020-07-17</td><td>804</td><td>2020-07-18</td><td> 847</td><td>⋯</td><td>1</td><td>0</td><td>0</td><td>0</td><td>24.71667</td><td>70.68352</td><td>4</td><td>J06000121</td><td>0.4792181</td><td>90139</td></tr>\n",
       "\t<tr><th scope=row>4</th><td>3</td><td>2020-07-13</td><td>UKENNW_UU_TP000038</td><td>2003580-07</td><td>2021-06-07 13:44:02.0</td><td>17732</td><td>2020-07-19</td><td>804</td><td>2020-07-20</td><td> 929</td><td>⋯</td><td>1</td><td>0</td><td>0</td><td>0</td><td>25.41667</td><td>70.68352</td><td>6</td><td>J06000121</td><td>0.4792181</td><td>90139</td></tr>\n",
       "\t<tr><th scope=row>5</th><td>4</td><td>2020-07-20</td><td>UKENNW_UU_TP000038</td><td>2003580-08</td><td>2021-06-07 13:44:02.0</td><td>17732</td><td>2020-07-20</td><td>804</td><td>2020-07-21</td><td> 852</td><td>⋯</td><td>1</td><td>0</td><td>0</td><td>0</td><td>24.80000</td><td>70.68352</td><td>0</td><td>J06000121</td><td>0.4792181</td><td>90139</td></tr>\n",
       "\t<tr><th scope=row>6</th><td>5</td><td>2020-07-20</td><td>UKENNW_UU_TP000038</td><td>2003580-10</td><td>2021-12-09 13:52:12.0</td><td>21761</td><td>2020-07-24</td><td>804</td><td>2020-07-25</td><td> 800</td><td>⋯</td><td>1</td><td>0</td><td>0</td><td>0</td><td>23.93333</td><td>70.68352</td><td>4</td><td>J06000121</td><td>0.4792181</td><td>90139</td></tr>\n",
       "</tbody>\n",
       "</table>\n"
      ],
      "text/latex": [
       "A data.frame: 6 × 108\n",
       "\\begin{tabular}{r|lllllllllllllllllllll}\n",
       "  & x & startday & ww\\_site\\_code & sample\\_id & timestamp\\_cdw\\_processed & site\\_skey & date & time\\_sample\\_collected & date\\_sample\\_received & time\\_sample\\_received & ⋯ & water\\_company\\_uu & water\\_company\\_ww & water\\_company\\_wxw & water\\_company\\_yw & reception\\_delay & catchment\\_area & dayofweek & cis20cd & catch\\_in\\_cis\\_prop & catch\\_cis\\_population\\\\\n",
       "  & <int> & <chr> & <chr> & <chr> & <chr> & <int> & <chr> & <int> & <chr> & <int> & ⋯ & <int> & <int> & <int> & <int> & <dbl> & <dbl> & <int> & <chr> & <dbl> & <dbl>\\\\\n",
       "\\hline\n",
       "\t1 & 0 & 2020-07-06 & UKENNW\\_UU\\_TP000038 & 2003580-01 & 2021-06-07 13:44:02.0 & 17732 & 2020-07-08 & 800 & 2020-07-10 &  138 & ⋯ & 1 & 0 & 0 & 0 & 41.63333 & 70.68352 & 2 & J06000121 & 0.4792181 & 90139\\\\\n",
       "\t2 & 1 & 2020-07-13 & UKENNW\\_UU\\_TP000038 & 2003580-05 & 2021-06-07 13:44:02.0 & 17732 & 2020-07-15 & 804 & 2020-07-16 & 1128 & ⋯ & 1 & 0 & 0 & 0 & 27.40000 & 70.68352 & 2 & J06000121 & 0.4792181 & 90139\\\\\n",
       "\t3 & 2 & 2020-07-13 & UKENNW\\_UU\\_TP000038 & 2003580-06 & 2021-06-07 13:44:02.0 & 17732 & 2020-07-17 & 804 & 2020-07-18 &  847 & ⋯ & 1 & 0 & 0 & 0 & 24.71667 & 70.68352 & 4 & J06000121 & 0.4792181 & 90139\\\\\n",
       "\t4 & 3 & 2020-07-13 & UKENNW\\_UU\\_TP000038 & 2003580-07 & 2021-06-07 13:44:02.0 & 17732 & 2020-07-19 & 804 & 2020-07-20 &  929 & ⋯ & 1 & 0 & 0 & 0 & 25.41667 & 70.68352 & 6 & J06000121 & 0.4792181 & 90139\\\\\n",
       "\t5 & 4 & 2020-07-20 & UKENNW\\_UU\\_TP000038 & 2003580-08 & 2021-06-07 13:44:02.0 & 17732 & 2020-07-20 & 804 & 2020-07-21 &  852 & ⋯ & 1 & 0 & 0 & 0 & 24.80000 & 70.68352 & 0 & J06000121 & 0.4792181 & 90139\\\\\n",
       "\t6 & 5 & 2020-07-20 & UKENNW\\_UU\\_TP000038 & 2003580-10 & 2021-12-09 13:52:12.0 & 21761 & 2020-07-24 & 804 & 2020-07-25 &  800 & ⋯ & 1 & 0 & 0 & 0 & 23.93333 & 70.68352 & 4 & J06000121 & 0.4792181 & 90139\\\\\n",
       "\\end{tabular}\n"
      ],
      "text/markdown": [
       "\n",
       "A data.frame: 6 × 108\n",
       "\n",
       "| <!--/--> | x &lt;int&gt; | startday &lt;chr&gt; | ww_site_code &lt;chr&gt; | sample_id &lt;chr&gt; | timestamp_cdw_processed &lt;chr&gt; | site_skey &lt;int&gt; | date &lt;chr&gt; | time_sample_collected &lt;int&gt; | date_sample_received &lt;chr&gt; | time_sample_received &lt;int&gt; | ⋯ ⋯ | water_company_uu &lt;int&gt; | water_company_ww &lt;int&gt; | water_company_wxw &lt;int&gt; | water_company_yw &lt;int&gt; | reception_delay &lt;dbl&gt; | catchment_area &lt;dbl&gt; | dayofweek &lt;int&gt; | cis20cd &lt;chr&gt; | catch_in_cis_prop &lt;dbl&gt; | catch_cis_population &lt;dbl&gt; |\n",
       "|---|---|---|---|---|---|---|---|---|---|---|---|---|---|---|---|---|---|---|---|---|---|\n",
       "| 1 | 0 | 2020-07-06 | UKENNW_UU_TP000038 | 2003580-01 | 2021-06-07 13:44:02.0 | 17732 | 2020-07-08 | 800 | 2020-07-10 |  138 | ⋯ | 1 | 0 | 0 | 0 | 41.63333 | 70.68352 | 2 | J06000121 | 0.4792181 | 90139 |\n",
       "| 2 | 1 | 2020-07-13 | UKENNW_UU_TP000038 | 2003580-05 | 2021-06-07 13:44:02.0 | 17732 | 2020-07-15 | 804 | 2020-07-16 | 1128 | ⋯ | 1 | 0 | 0 | 0 | 27.40000 | 70.68352 | 2 | J06000121 | 0.4792181 | 90139 |\n",
       "| 3 | 2 | 2020-07-13 | UKENNW_UU_TP000038 | 2003580-06 | 2021-06-07 13:44:02.0 | 17732 | 2020-07-17 | 804 | 2020-07-18 |  847 | ⋯ | 1 | 0 | 0 | 0 | 24.71667 | 70.68352 | 4 | J06000121 | 0.4792181 | 90139 |\n",
       "| 4 | 3 | 2020-07-13 | UKENNW_UU_TP000038 | 2003580-07 | 2021-06-07 13:44:02.0 | 17732 | 2020-07-19 | 804 | 2020-07-20 |  929 | ⋯ | 1 | 0 | 0 | 0 | 25.41667 | 70.68352 | 6 | J06000121 | 0.4792181 | 90139 |\n",
       "| 5 | 4 | 2020-07-20 | UKENNW_UU_TP000038 | 2003580-08 | 2021-06-07 13:44:02.0 | 17732 | 2020-07-20 | 804 | 2020-07-21 |  852 | ⋯ | 1 | 0 | 0 | 0 | 24.80000 | 70.68352 | 0 | J06000121 | 0.4792181 | 90139 |\n",
       "| 6 | 5 | 2020-07-20 | UKENNW_UU_TP000038 | 2003580-10 | 2021-12-09 13:52:12.0 | 21761 | 2020-07-24 | 804 | 2020-07-25 |  800 | ⋯ | 1 | 0 | 0 | 0 | 23.93333 | 70.68352 | 4 | J06000121 | 0.4792181 | 90139 |\n",
       "\n"
      ],
      "text/plain": [
       "  x startday   ww_site_code       sample_id  timestamp_cdw_processed site_skey\n",
       "1 0 2020-07-06 UKENNW_UU_TP000038 2003580-01 2021-06-07 13:44:02.0   17732    \n",
       "2 1 2020-07-13 UKENNW_UU_TP000038 2003580-05 2021-06-07 13:44:02.0   17732    \n",
       "3 2 2020-07-13 UKENNW_UU_TP000038 2003580-06 2021-06-07 13:44:02.0   17732    \n",
       "4 3 2020-07-13 UKENNW_UU_TP000038 2003580-07 2021-06-07 13:44:02.0   17732    \n",
       "5 4 2020-07-20 UKENNW_UU_TP000038 2003580-08 2021-06-07 13:44:02.0   17732    \n",
       "6 5 2020-07-20 UKENNW_UU_TP000038 2003580-10 2021-12-09 13:52:12.0   21761    \n",
       "  date       time_sample_collected date_sample_received time_sample_received ⋯\n",
       "1 2020-07-08 800                   2020-07-10            138                 ⋯\n",
       "2 2020-07-15 804                   2020-07-16           1128                 ⋯\n",
       "3 2020-07-17 804                   2020-07-18            847                 ⋯\n",
       "4 2020-07-19 804                   2020-07-20            929                 ⋯\n",
       "5 2020-07-20 804                   2020-07-21            852                 ⋯\n",
       "6 2020-07-24 804                   2020-07-25            800                 ⋯\n",
       "  water_company_uu water_company_ww water_company_wxw water_company_yw\n",
       "1 1                0                0                 0               \n",
       "2 1                0                0                 0               \n",
       "3 1                0                0                 0               \n",
       "4 1                0                0                 0               \n",
       "5 1                0                0                 0               \n",
       "6 1                0                0                 0               \n",
       "  reception_delay catchment_area dayofweek cis20cd   catch_in_cis_prop\n",
       "1 41.63333        70.68352       2         J06000121 0.4792181        \n",
       "2 27.40000        70.68352       2         J06000121 0.4792181        \n",
       "3 24.71667        70.68352       4         J06000121 0.4792181        \n",
       "4 25.41667        70.68352       6         J06000121 0.4792181        \n",
       "5 24.80000        70.68352       0         J06000121 0.4792181        \n",
       "6 23.93333        70.68352       4         J06000121 0.4792181        \n",
       "  catch_cis_population\n",
       "1 90139               \n",
       "2 90139               \n",
       "3 90139               \n",
       "4 90139               \n",
       "5 90139               \n",
       "6 90139               "
      ]
     },
     "metadata": {},
     "output_type": "display_data"
    },
    {
     "data": {
      "text/html": [
       "<style>\n",
       ".list-inline {list-style: none; margin:0; padding: 0}\n",
       ".list-inline>li {display: inline-block}\n",
       ".list-inline>li:not(:last-child)::after {content: \"\\00b7\"; padding: 0 .5ex}\n",
       "</style>\n",
       "<ol class=list-inline><li>16772</li><li>108</li></ol>\n"
      ],
      "text/latex": [
       "\\begin{enumerate*}\n",
       "\\item 16772\n",
       "\\item 108\n",
       "\\end{enumerate*}\n"
      ],
      "text/markdown": [
       "1. 16772\n",
       "2. 108\n",
       "\n",
       "\n"
      ],
      "text/plain": [
       "[1] 16772   108"
      ]
     },
     "metadata": {},
     "output_type": "display_data"
    },
    {
     "data": {
      "text/html": [
       "<style>\n",
       ".dl-inline {width: auto; margin:0; padding: 0}\n",
       ".dl-inline>dt, .dl-inline>dd {float: none; width: auto; display: inline-block}\n",
       ".dl-inline>dt::after {content: \":\\0020\"; padding-right: .5ex}\n",
       ".dl-inline>dt:not(:first-of-type) {padding-left: .5ex}\n",
       "</style><dl class=dl-inline><dt>Min.</dt><dd><time datetime=\"2020-07-06\">2020-07-06</time></dd><dt>1st Qu.</dt><dd><time datetime=\"2020-09-14\">2020-09-14</time></dd><dt>Median</dt><dd><time datetime=\"2020-11-16\">2020-11-16</time></dd><dt>Mean</dt><dd><time datetime=\"2020-11-18\">2020-11-18</time></dd><dt>3rd Qu.</dt><dd><time datetime=\"2021-01-25\">2021-01-25</time></dd><dt>Max.</dt><dd><time datetime=\"2021-03-30\">2021-03-30</time></dd></dl>\n"
      ],
      "text/latex": [
       "\\begin{description*}\n",
       "\\item[Min.] 2020-07-06\n",
       "\\item[1st Qu.] 2020-09-14\n",
       "\\item[Median] 2020-11-16\n",
       "\\item[Mean] 2020-11-18\n",
       "\\item[3rd Qu.] 2021-01-25\n",
       "\\item[Max.] 2021-03-30\n",
       "\\end{description*}\n"
      ],
      "text/markdown": [
       "Min.\n",
       ":   2020-07-061st Qu.\n",
       ":   2020-09-14Median\n",
       ":   2020-11-16Mean\n",
       ":   2020-11-183rd Qu.\n",
       ":   2021-01-25Max.\n",
       ":   2021-03-30\n",
       "\n"
      ],
      "text/plain": [
       "        Min.      1st Qu.       Median         Mean      3rd Qu.         Max. \n",
       "\"2020-07-06\" \"2020-09-14\" \"2020-11-16\" \"2020-11-18\" \"2021-01-25\" \"2021-03-30\" "
      ]
     },
     "metadata": {},
     "output_type": "display_data"
    }
   ],
   "source": [
    "# so maybe we can use this intermediate to see the mapping of WW to cis20?\n",
    "tcis <- read.csv(paste0(datadir,\"raw_data_10_cis_dec21.csv\")) %>% clean_names()\n",
    "tcis <- tcis %>% filter(as.Date(date)>=first_date & \n",
    "                    as.Date(date)<=last_date)\n",
    "head(tcis)\n",
    "dim(tcis)\n",
    "summary(as.Date(tcis$date))"
   ]
  },
  {
   "cell_type": "code",
   "execution_count": 12,
   "id": "869213e8",
   "metadata": {
    "scrolled": false
   },
   "outputs": [
    {
     "name": "stderr",
     "output_type": "stream",
     "text": [
      "`summarise()` has grouped output by 'ww_site_code'. You can override using the `.groups` argument.\n",
      "\n"
     ]
    },
    {
     "name": "stdout",
     "output_type": "stream",
     "text": [
      "sites_to_sr\n",
      " 1  2  3  4 \n",
      "56 36 24  4 \n",
      "sr_to_sites\n",
      " 1  2  3  4  8 10 12 14 \n",
      "20 26 18  4 16 10 12 14 \n"
     ]
    },
    {
     "data": {
      "text/html": [
       "<strong>png:</strong> 2"
      ],
      "text/latex": [
       "\\textbf{png:} 2"
      ],
      "text/markdown": [
       "**png:** 2"
      ],
      "text/plain": [
       "png \n",
       "  2 "
      ]
     },
     "metadata": {},
     "output_type": "display_data"
    }
   ],
   "source": [
    "tmp <- tcis %>% group_by(ww_site_code,cis20cd) %>% summarise(n=n(),\n",
    "                                                            catch_in_cis_prop=mean(catch_in_cis_prop),\n",
    "                                                            catch_in_cis_prop_c=max(catch_in_cis_prop))\n",
    "#head(tmp)\n",
    "t1 <- table(tmp$cis20cd)\n",
    "# map t1 onto tmp (to give the number of sites per SR)\n",
    "oo <- match(tmp$cis20cd,names(t1))\n",
    "#length(oo)\n",
    "#print(oo)\n",
    "#t2 <- \n",
    "#length(t2)\n",
    "#length(tmp$cis20cd)\n",
    "tmp$sites_sr <- as.numeric(t1)[oo]  # use later in another summary\n",
    "tmp$cis_lab <- paste0(\"J\",substr(tmp$cis20cd,6,9))\n",
    "tmp$cis_lab_o <- paste0(\"S\",tmp$sites_sr,\"-J\",substr(tmp$cis20cd,6,9))\n",
    "#head(tmp)\n",
    "\n",
    "t2 <- table(tmp$ww_site_code)\n",
    "oo <- match(tmp$ww_site_code,names(t2))\n",
    "tmp$catch <- as.numeric(t2)[oo] \n",
    "tmp$ww_catch_lab <- paste0(\"O\",tmp$catch,\"-\",tmp$ww_site_code)\n",
    "\n",
    "print(table(sites_to_sr=tmp$sites_sr))            \n",
    "print(table(sr_to_sites=tmp$catch))            \n",
    "\n",
    "#p1 <- ggplot(tmp,aes(x=ww_site_code,y=cis_lab_o,fill=catch_in_cis_prop)) + geom_tile() +\n",
    "#    theme(axis.text.x = element_text(angle=90,size=5),\n",
    "#         axis.text.y = element_text(size=5)) +\n",
    "#    ylab(\"ONS sub region\") +\n",
    "#    scale_color_gradient(\"Catchment \\nof ONS (%)\")\n",
    "p1 <- ggplot(tmp,\n",
    "    aes(x=ww_site_code,y=cis_lab_o,fill=as.factor(sites_sr))) + \n",
    "    geom_tile() +\n",
    "    theme(axis.text.x = element_text(angle=90,size=5),\n",
    "         axis.text.y = element_text(size=5)) +\n",
    "    ylab(\"ONS sub region\") \n",
    "\n",
    "# write to file (use jpeg)\n",
    "#jpeg(paste0(datadir,\"ww_cis_mapping_site_10Feb22.jpeg\"),height=900*0.75,width=500)\n",
    "pdf(paste0(datadir,\"ww_cis_mapping_site_10Feb22.pdf\"),height=9,width=5)\n",
    "p1\n",
    "dev.off()\n",
    "\n",
    "# and summarise the mapping here\n",
    "#tmp2 <- table(tmp$ww_site_code,tmp$cis20cd)\n",
    "#table(rowSums(tmp2))\n"
   ]
  },
  {
   "cell_type": "code",
   "execution_count": 35,
   "id": "4c2e0eb6",
   "metadata": {},
   "outputs": [
    {
     "data": {
      "text/html": [
       "<style>\n",
       ".list-inline {list-style: none; margin:0; padding: 0}\n",
       ".list-inline>li {display: inline-block}\n",
       ".list-inline>li:not(:last-child)::after {content: \"\\00b7\"; padding: 0 .5ex}\n",
       "</style>\n",
       "<ol class=list-inline><li>283</li><li>108</li></ol>\n"
      ],
      "text/latex": [
       "\\begin{enumerate*}\n",
       "\\item 283\n",
       "\\item 108\n",
       "\\end{enumerate*}\n"
      ],
      "text/markdown": [
       "1. 283\n",
       "2. 108\n",
       "\n",
       "\n"
      ],
      "text/plain": [
       "[1] 283 108"
      ]
     },
     "metadata": {},
     "output_type": "display_data"
    },
    {
     "data": {
      "text/plain": [
       "\n",
       "UKENAN_AW_TP000050 UKENAN_AW_TP000210 \n",
       "               141                142 "
      ]
     },
     "metadata": {},
     "output_type": "display_data"
    },
    {
     "data": {
      "text/html": [
       "<style>\n",
       ".list-inline {list-style: none; margin:0; padding: 0}\n",
       ".list-inline>li {display: inline-block}\n",
       ".list-inline>li:not(:last-child)::after {content: \"\\00b7\"; padding: 0 .5ex}\n",
       "</style>\n",
       "<ol class=list-inline><li>1</li><li>108</li></ol>\n"
      ],
      "text/latex": [
       "\\begin{enumerate*}\n",
       "\\item 1\n",
       "\\item 108\n",
       "\\end{enumerate*}\n"
      ],
      "text/markdown": [
       "1. 1\n",
       "2. 108\n",
       "\n",
       "\n"
      ],
      "text/plain": [
       "[1]   1 108"
      ]
     },
     "metadata": {},
     "output_type": "display_data"
    },
    {
     "data": {
      "text/html": [
       "411.600280761719"
      ],
      "text/latex": [
       "411.600280761719"
      ],
      "text/markdown": [
       "411.600280761719"
      ],
      "text/plain": [
       "[1] 411.6003"
      ]
     },
     "metadata": {},
     "output_type": "display_data"
    }
   ],
   "source": [
    "# so what is the data that coresponds to some of the examples?\n",
    "#names(table((tcis$cis20cd)))\n",
    "tmp <- tcis %>% filter(cis20cd==\"J06000157\")\n",
    "dim(tmp)\n",
    "table(tmp$ww_site_code)\n",
    "\n",
    "tmp2 <- tcis %>% filter(cis20cd==\"J06000104\" & date==\"2020-09-04\")\n",
    "dim(tmp2)\n",
    "tmp2$sars_cov2_gc_l_mean"
   ]
  },
  {
   "cell_type": "code",
   "execution_count": 36,
   "id": "58e8846c",
   "metadata": {
    "scrolled": false
   },
   "outputs": [
    {
     "name": "stderr",
     "output_type": "stream",
     "text": [
      "`summarise()` has grouped output by 'ww_site_code'. You can override using the `.groups` argument.\n",
      "\n"
     ]
    },
    {
     "data": {
      "text/html": [
       "<table class=\"dataframe\">\n",
       "<caption>A grouped_df: 6 × 3</caption>\n",
       "<thead>\n",
       "\t<tr><th scope=col>ww_site_code</th><th scope=col>site_skey</th><th scope=col>n</th></tr>\n",
       "\t<tr><th scope=col>&lt;chr&gt;</th><th scope=col>&lt;int&gt;</th><th scope=col>&lt;int&gt;</th></tr>\n",
       "</thead>\n",
       "<tbody>\n",
       "\t<tr><td>UKENAN_AW_TP000050</td><td>17601</td><td> 12</td></tr>\n",
       "\t<tr><td>UKENAN_AW_TP000050</td><td>20972</td><td>129</td></tr>\n",
       "\t<tr><td>UKENAN_AW_TP000063</td><td>17605</td><td> 20</td></tr>\n",
       "\t<tr><td>UKENAN_AW_TP000063</td><td>20985</td><td>260</td></tr>\n",
       "\t<tr><td>UKENAN_AW_TP000161</td><td>17623</td><td> 11</td></tr>\n",
       "\t<tr><td>UKENAN_AW_TP000161</td><td>21080</td><td>131</td></tr>\n",
       "</tbody>\n",
       "</table>\n"
      ],
      "text/latex": [
       "A grouped\\_df: 6 × 3\n",
       "\\begin{tabular}{lll}\n",
       " ww\\_site\\_code & site\\_skey & n\\\\\n",
       " <chr> & <int> & <int>\\\\\n",
       "\\hline\n",
       "\t UKENAN\\_AW\\_TP000050 & 17601 &  12\\\\\n",
       "\t UKENAN\\_AW\\_TP000050 & 20972 & 129\\\\\n",
       "\t UKENAN\\_AW\\_TP000063 & 17605 &  20\\\\\n",
       "\t UKENAN\\_AW\\_TP000063 & 20985 & 260\\\\\n",
       "\t UKENAN\\_AW\\_TP000161 & 17623 &  11\\\\\n",
       "\t UKENAN\\_AW\\_TP000161 & 21080 & 131\\\\\n",
       "\\end{tabular}\n"
      ],
      "text/markdown": [
       "\n",
       "A grouped_df: 6 × 3\n",
       "\n",
       "| ww_site_code &lt;chr&gt; | site_skey &lt;int&gt; | n &lt;int&gt; |\n",
       "|---|---|---|\n",
       "| UKENAN_AW_TP000050 | 17601 |  12 |\n",
       "| UKENAN_AW_TP000050 | 20972 | 129 |\n",
       "| UKENAN_AW_TP000063 | 17605 |  20 |\n",
       "| UKENAN_AW_TP000063 | 20985 | 260 |\n",
       "| UKENAN_AW_TP000161 | 17623 |  11 |\n",
       "| UKENAN_AW_TP000161 | 21080 | 131 |\n",
       "\n"
      ],
      "text/plain": [
       "  ww_site_code       site_skey n  \n",
       "1 UKENAN_AW_TP000050 17601      12\n",
       "2 UKENAN_AW_TP000050 20972     129\n",
       "3 UKENAN_AW_TP000063 17605      20\n",
       "4 UKENAN_AW_TP000063 20985     260\n",
       "5 UKENAN_AW_TP000161 17623      11\n",
       "6 UKENAN_AW_TP000161 21080     131"
      ]
     },
     "metadata": {},
     "output_type": "display_data"
    },
    {
     "data": {
      "text/html": [
       "<style>\n",
       ".list-inline {list-style: none; margin:0; padding: 0}\n",
       ".list-inline>li {display: inline-block}\n",
       ".list-inline>li:not(:last-child)::after {content: \"\\00b7\"; padding: 0 .5ex}\n",
       "</style>\n",
       "<ol class=list-inline><li>109</li><li>3</li></ol>\n"
      ],
      "text/latex": [
       "\\begin{enumerate*}\n",
       "\\item 109\n",
       "\\item 3\n",
       "\\end{enumerate*}\n"
      ],
      "text/markdown": [
       "1. 109\n",
       "2. 3\n",
       "\n",
       "\n"
      ],
      "text/plain": [
       "[1] 109   3"
      ]
     },
     "metadata": {},
     "output_type": "display_data"
    }
   ],
   "source": [
    "# I can't figure out how to add ww_site_code in Jupyter \n",
    "# (the calculations seem to require ONLY numeric values)\n",
    "# I can add in R, but should really keep this in the Python script\n",
    "\n",
    "# use the left_join function to merge the datasets?\n",
    "# for now just output the link between ww_site_code and site_skey\n",
    "tmp <- tcis %>% group_by(ww_site_code,site_skey) %>% summarise(n=n())\n",
    "head(tmp)\n",
    "dim(tmp)\n",
    "write.csv(tmp,file=paste0(datadir,\"ww_site_key.csv\"))\n",
    "# this hasn't really worked.\n",
    "\n",
    "\n"
   ]
  },
  {
   "cell_type": "markdown",
   "id": "f781cef2",
   "metadata": {},
   "source": [
    "## Section X: Summary stats for the full dataset\n",
    "\n",
    "Things such as;\n",
    "- Comparison plots for grab vs composite samples\n",
    "- Comparison plots for each lab method"
   ]
  },
  {
   "cell_type": "code",
   "execution_count": 35,
   "id": "0a4c2b92",
   "metadata": {
    "scrolled": false
   },
   "outputs": [
    {
     "data": {
      "text/html": [
       "<style>\n",
       ".list-inline {list-style: none; margin:0; padding: 0}\n",
       ".list-inline>li {display: inline-block}\n",
       ".list-inline>li:not(:last-child)::after {content: \"\\00b7\"; padding: 0 .5ex}\n",
       "</style>\n",
       "<ol class=list-inline><li>7240</li><li>26</li></ol>\n"
      ],
      "text/latex": [
       "\\begin{enumerate*}\n",
       "\\item 7240\n",
       "\\item 26\n",
       "\\end{enumerate*}\n"
      ],
      "text/markdown": [
       "1. 7240\n",
       "2. 26\n",
       "\n",
       "\n"
      ],
      "text/plain": [
       "[1] 7240   26"
      ]
     },
     "metadata": {},
     "output_type": "display_data"
    },
    {
     "data": {
      "text/html": [
       "<table class=\"dataframe\">\n",
       "<caption>A data.frame: 6 × 26</caption>\n",
       "<thead>\n",
       "\t<tr><th></th><th scope=col>x</th><th scope=col>cis20cd</th><th scope=col>date</th><th scope=col>sars_cov2_gc_l_mean</th><th scope=col>suspended_solids_mg_l</th><th scope=col>ammonia_mg_l</th><th scope=col>ophosph_mg_l</th><th scope=col>sample_ph_pre_ansis</th><th scope=col>control_gc_l_mean</th><th scope=col>reac_vol_control</th><th scope=col>⋯</th><th scope=col>sars_below_loq</th><th scope=col>reception_delay</th><th scope=col>catchment_population_ons_mid_2019</th><th scope=col>catchment_area</th><th scope=col>site_skey</th><th scope=col>catch_in_cis_prop</th><th scope=col>catch_cis_population</th><th scope=col>median_prob</th><th scope=col>ll</th><th scope=col>ul</th></tr>\n",
       "\t<tr><th></th><th scope=col>&lt;int&gt;</th><th scope=col>&lt;chr&gt;</th><th scope=col>&lt;chr&gt;</th><th scope=col>&lt;dbl&gt;</th><th scope=col>&lt;dbl&gt;</th><th scope=col>&lt;dbl&gt;</th><th scope=col>&lt;dbl&gt;</th><th scope=col>&lt;dbl&gt;</th><th scope=col>&lt;dbl&gt;</th><th scope=col>&lt;dbl&gt;</th><th scope=col>⋯</th><th scope=col>&lt;dbl&gt;</th><th scope=col>&lt;dbl&gt;</th><th scope=col>&lt;dbl&gt;</th><th scope=col>&lt;dbl&gt;</th><th scope=col>&lt;dbl&gt;</th><th scope=col>&lt;dbl&gt;</th><th scope=col>&lt;dbl&gt;</th><th scope=col>&lt;dbl&gt;</th><th scope=col>&lt;dbl&gt;</th><th scope=col>&lt;dbl&gt;</th></tr>\n",
       "</thead>\n",
       "<tbody>\n",
       "\t<tr><th scope=row>1</th><td>0</td><td>J06000104</td><td>2020-09-04</td><td>  411.6003</td><td> 74</td><td>27</td><td>3.3</td><td>7.4</td><td>8877043</td><td>2</td><td>⋯</td><td>1</td><td>23.56667</td><td>58579</td><td>75.71834</td><td>21565</td><td>0.190042</td><td>58576.83</td><td>0.1632855</td><td>0.09930407</td><td>0.2683391</td></tr>\n",
       "\t<tr><th scope=row>2</th><td>1</td><td>J06000104</td><td>2020-09-06</td><td>10322.5654</td><td>220</td><td>36</td><td>4.2</td><td>7.4</td><td>8877043</td><td>2</td><td>⋯</td><td>0</td><td>20.88333</td><td>58579</td><td>75.71834</td><td>21565</td><td>0.190042</td><td>58576.83</td><td>0.1871473</td><td>0.11667896</td><td>0.2993406</td></tr>\n",
       "\t<tr><th scope=row>3</th><td>2</td><td>J06000104</td><td>2020-09-07</td><td> 1641.4827</td><td>260</td><td>32</td><td>4.1</td><td>7.4</td><td>8877043</td><td>2</td><td>⋯</td><td>0</td><td>23.40000</td><td>58579</td><td>75.71834</td><td>21565</td><td>0.190042</td><td>58576.83</td><td>0.1990781</td><td>0.12536641</td><td>0.3148414</td></tr>\n",
       "\t<tr><th scope=row>4</th><td>3</td><td>J06000104</td><td>2020-09-09</td><td>   66.5000</td><td>650</td><td>33</td><td>4.2</td><td>7.4</td><td>8877043</td><td>2</td><td>⋯</td><td>1</td><td>23.78333</td><td>58579</td><td>75.71834</td><td>21565</td><td>0.190042</td><td>58576.83</td><td>0.2229399</td><td>0.14274130</td><td>0.3458429</td></tr>\n",
       "\t<tr><th scope=row>5</th><td>4</td><td>J06000104</td><td>2020-09-11</td><td>  608.0800</td><td>230</td><td>36</td><td>4.5</td><td>7.4</td><td>8877043</td><td>2</td><td>⋯</td><td>1</td><td>23.61667</td><td>58579</td><td>75.71834</td><td>21565</td><td>0.190042</td><td>58576.83</td><td>0.2536489</td><td>0.16576187</td><td>0.3854879</td></tr>\n",
       "\t<tr><th scope=row>6</th><td>5</td><td>J06000104</td><td>2020-09-13</td><td> 1991.5653</td><td>160</td><td>37</td><td>4.6</td><td>7.4</td><td>8877043</td><td>2</td><td>⋯</td><td>0</td><td>24.46667</td><td>58579</td><td>75.71834</td><td>21565</td><td>0.190042</td><td>58576.83</td><td>0.2912053</td><td>0.19442813</td><td>0.4337764</td></tr>\n",
       "</tbody>\n",
       "</table>\n"
      ],
      "text/latex": [
       "A data.frame: 6 × 26\n",
       "\\begin{tabular}{r|lllllllllllllllllllll}\n",
       "  & x & cis20cd & date & sars\\_cov2\\_gc\\_l\\_mean & suspended\\_solids\\_mg\\_l & ammonia\\_mg\\_l & ophosph\\_mg\\_l & sample\\_ph\\_pre\\_ansis & control\\_gc\\_l\\_mean & reac\\_vol\\_control & ⋯ & sars\\_below\\_loq & reception\\_delay & catchment\\_population\\_ons\\_mid\\_2019 & catchment\\_area & site\\_skey & catch\\_in\\_cis\\_prop & catch\\_cis\\_population & median\\_prob & ll & ul\\\\\n",
       "  & <int> & <chr> & <chr> & <dbl> & <dbl> & <dbl> & <dbl> & <dbl> & <dbl> & <dbl> & ⋯ & <dbl> & <dbl> & <dbl> & <dbl> & <dbl> & <dbl> & <dbl> & <dbl> & <dbl> & <dbl>\\\\\n",
       "\\hline\n",
       "\t1 & 0 & J06000104 & 2020-09-04 &   411.6003 &  74 & 27 & 3.3 & 7.4 & 8877043 & 2 & ⋯ & 1 & 23.56667 & 58579 & 75.71834 & 21565 & 0.190042 & 58576.83 & 0.1632855 & 0.09930407 & 0.2683391\\\\\n",
       "\t2 & 1 & J06000104 & 2020-09-06 & 10322.5654 & 220 & 36 & 4.2 & 7.4 & 8877043 & 2 & ⋯ & 0 & 20.88333 & 58579 & 75.71834 & 21565 & 0.190042 & 58576.83 & 0.1871473 & 0.11667896 & 0.2993406\\\\\n",
       "\t3 & 2 & J06000104 & 2020-09-07 &  1641.4827 & 260 & 32 & 4.1 & 7.4 & 8877043 & 2 & ⋯ & 0 & 23.40000 & 58579 & 75.71834 & 21565 & 0.190042 & 58576.83 & 0.1990781 & 0.12536641 & 0.3148414\\\\\n",
       "\t4 & 3 & J06000104 & 2020-09-09 &    66.5000 & 650 & 33 & 4.2 & 7.4 & 8877043 & 2 & ⋯ & 1 & 23.78333 & 58579 & 75.71834 & 21565 & 0.190042 & 58576.83 & 0.2229399 & 0.14274130 & 0.3458429\\\\\n",
       "\t5 & 4 & J06000104 & 2020-09-11 &   608.0800 & 230 & 36 & 4.5 & 7.4 & 8877043 & 2 & ⋯ & 1 & 23.61667 & 58579 & 75.71834 & 21565 & 0.190042 & 58576.83 & 0.2536489 & 0.16576187 & 0.3854879\\\\\n",
       "\t6 & 5 & J06000104 & 2020-09-13 &  1991.5653 & 160 & 37 & 4.6 & 7.4 & 8877043 & 2 & ⋯ & 0 & 24.46667 & 58579 & 75.71834 & 21565 & 0.190042 & 58576.83 & 0.2912053 & 0.19442813 & 0.4337764\\\\\n",
       "\\end{tabular}\n"
      ],
      "text/markdown": [
       "\n",
       "A data.frame: 6 × 26\n",
       "\n",
       "| <!--/--> | x &lt;int&gt; | cis20cd &lt;chr&gt; | date &lt;chr&gt; | sars_cov2_gc_l_mean &lt;dbl&gt; | suspended_solids_mg_l &lt;dbl&gt; | ammonia_mg_l &lt;dbl&gt; | ophosph_mg_l &lt;dbl&gt; | sample_ph_pre_ansis &lt;dbl&gt; | control_gc_l_mean &lt;dbl&gt; | reac_vol_control &lt;dbl&gt; | ⋯ ⋯ | sars_below_loq &lt;dbl&gt; | reception_delay &lt;dbl&gt; | catchment_population_ons_mid_2019 &lt;dbl&gt; | catchment_area &lt;dbl&gt; | site_skey &lt;dbl&gt; | catch_in_cis_prop &lt;dbl&gt; | catch_cis_population &lt;dbl&gt; | median_prob &lt;dbl&gt; | ll &lt;dbl&gt; | ul &lt;dbl&gt; |\n",
       "|---|---|---|---|---|---|---|---|---|---|---|---|---|---|---|---|---|---|---|---|---|---|\n",
       "| 1 | 0 | J06000104 | 2020-09-04 |   411.6003 |  74 | 27 | 3.3 | 7.4 | 8877043 | 2 | ⋯ | 1 | 23.56667 | 58579 | 75.71834 | 21565 | 0.190042 | 58576.83 | 0.1632855 | 0.09930407 | 0.2683391 |\n",
       "| 2 | 1 | J06000104 | 2020-09-06 | 10322.5654 | 220 | 36 | 4.2 | 7.4 | 8877043 | 2 | ⋯ | 0 | 20.88333 | 58579 | 75.71834 | 21565 | 0.190042 | 58576.83 | 0.1871473 | 0.11667896 | 0.2993406 |\n",
       "| 3 | 2 | J06000104 | 2020-09-07 |  1641.4827 | 260 | 32 | 4.1 | 7.4 | 8877043 | 2 | ⋯ | 0 | 23.40000 | 58579 | 75.71834 | 21565 | 0.190042 | 58576.83 | 0.1990781 | 0.12536641 | 0.3148414 |\n",
       "| 4 | 3 | J06000104 | 2020-09-09 |    66.5000 | 650 | 33 | 4.2 | 7.4 | 8877043 | 2 | ⋯ | 1 | 23.78333 | 58579 | 75.71834 | 21565 | 0.190042 | 58576.83 | 0.2229399 | 0.14274130 | 0.3458429 |\n",
       "| 5 | 4 | J06000104 | 2020-09-11 |   608.0800 | 230 | 36 | 4.5 | 7.4 | 8877043 | 2 | ⋯ | 1 | 23.61667 | 58579 | 75.71834 | 21565 | 0.190042 | 58576.83 | 0.2536489 | 0.16576187 | 0.3854879 |\n",
       "| 6 | 5 | J06000104 | 2020-09-13 |  1991.5653 | 160 | 37 | 4.6 | 7.4 | 8877043 | 2 | ⋯ | 0 | 24.46667 | 58579 | 75.71834 | 21565 | 0.190042 | 58576.83 | 0.2912053 | 0.19442813 | 0.4337764 |\n",
       "\n"
      ],
      "text/plain": [
       "  x cis20cd   date       sars_cov2_gc_l_mean suspended_solids_mg_l ammonia_mg_l\n",
       "1 0 J06000104 2020-09-04   411.6003           74                   27          \n",
       "2 1 J06000104 2020-09-06 10322.5654          220                   36          \n",
       "3 2 J06000104 2020-09-07  1641.4827          260                   32          \n",
       "4 3 J06000104 2020-09-09    66.5000          650                   33          \n",
       "5 4 J06000104 2020-09-11   608.0800          230                   36          \n",
       "6 5 J06000104 2020-09-13  1991.5653          160                   37          \n",
       "  ophosph_mg_l sample_ph_pre_ansis control_gc_l_mean reac_vol_control ⋯\n",
       "1 3.3          7.4                 8877043           2                ⋯\n",
       "2 4.2          7.4                 8877043           2                ⋯\n",
       "3 4.1          7.4                 8877043           2                ⋯\n",
       "4 4.2          7.4                 8877043           2                ⋯\n",
       "5 4.5          7.4                 8877043           2                ⋯\n",
       "6 4.6          7.4                 8877043           2                ⋯\n",
       "  sars_below_loq reception_delay catchment_population_ons_mid_2019\n",
       "1 1              23.56667        58579                            \n",
       "2 0              20.88333        58579                            \n",
       "3 0              23.40000        58579                            \n",
       "4 1              23.78333        58579                            \n",
       "5 1              23.61667        58579                            \n",
       "6 0              24.46667        58579                            \n",
       "  catchment_area site_skey catch_in_cis_prop catch_cis_population median_prob\n",
       "1 75.71834       21565     0.190042          58576.83             0.1632855  \n",
       "2 75.71834       21565     0.190042          58576.83             0.1871473  \n",
       "3 75.71834       21565     0.190042          58576.83             0.1990781  \n",
       "4 75.71834       21565     0.190042          58576.83             0.2229399  \n",
       "5 75.71834       21565     0.190042          58576.83             0.2536489  \n",
       "6 75.71834       21565     0.190042          58576.83             0.2912053  \n",
       "  ll         ul       \n",
       "1 0.09930407 0.2683391\n",
       "2 0.11667896 0.2993406\n",
       "3 0.12536641 0.3148414\n",
       "4 0.14274130 0.3458429\n",
       "5 0.16576187 0.3854879\n",
       "6 0.19442813 0.4337764"
      ]
     },
     "metadata": {},
     "output_type": "display_data"
    },
    {
     "data": {
      "text/html": [
       "<style>\n",
       ".list-inline {list-style: none; margin:0; padding: 0}\n",
       ".list-inline>li {display: inline-block}\n",
       ".list-inline>li:not(:last-child)::after {content: \"\\00b7\"; padding: 0 .5ex}\n",
       "</style>\n",
       "<ol class=list-inline><li>'x'</li><li>'cis20cd'</li><li>'date'</li><li>'sars_cov2_gc_l_mean'</li><li>'suspended_solids_mg_l'</li><li>'ammonia_mg_l'</li><li>'ophosph_mg_l'</li><li>'sample_ph_pre_ansis'</li><li>'control_gc_l_mean'</li><li>'reac_vol_control'</li><li>'raw_ansis_sars_repc_1'</li><li>'raw_ansis_sars_repc_2'</li><li>'raw_ansis_sars_repc_mean'</li><li>'raw_ansis_sars_repc_std'</li><li>'compo_frac'</li><li>'sars_below_lod'</li><li>'sars_below_loq'</li><li>'reception_delay'</li><li>'catchment_population_ons_mid_2019'</li><li>'catchment_area'</li><li>'site_skey'</li><li>'catch_in_cis_prop'</li><li>'catch_cis_population'</li><li>'median_prob'</li><li>'ll'</li><li>'ul'</li></ol>\n"
      ],
      "text/latex": [
       "\\begin{enumerate*}\n",
       "\\item 'x'\n",
       "\\item 'cis20cd'\n",
       "\\item 'date'\n",
       "\\item 'sars\\_cov2\\_gc\\_l\\_mean'\n",
       "\\item 'suspended\\_solids\\_mg\\_l'\n",
       "\\item 'ammonia\\_mg\\_l'\n",
       "\\item 'ophosph\\_mg\\_l'\n",
       "\\item 'sample\\_ph\\_pre\\_ansis'\n",
       "\\item 'control\\_gc\\_l\\_mean'\n",
       "\\item 'reac\\_vol\\_control'\n",
       "\\item 'raw\\_ansis\\_sars\\_repc\\_1'\n",
       "\\item 'raw\\_ansis\\_sars\\_repc\\_2'\n",
       "\\item 'raw\\_ansis\\_sars\\_repc\\_mean'\n",
       "\\item 'raw\\_ansis\\_sars\\_repc\\_std'\n",
       "\\item 'compo\\_frac'\n",
       "\\item 'sars\\_below\\_lod'\n",
       "\\item 'sars\\_below\\_loq'\n",
       "\\item 'reception\\_delay'\n",
       "\\item 'catchment\\_population\\_ons\\_mid\\_2019'\n",
       "\\item 'catchment\\_area'\n",
       "\\item 'site\\_skey'\n",
       "\\item 'catch\\_in\\_cis\\_prop'\n",
       "\\item 'catch\\_cis\\_population'\n",
       "\\item 'median\\_prob'\n",
       "\\item 'll'\n",
       "\\item 'ul'\n",
       "\\end{enumerate*}\n"
      ],
      "text/markdown": [
       "1. 'x'\n",
       "2. 'cis20cd'\n",
       "3. 'date'\n",
       "4. 'sars_cov2_gc_l_mean'\n",
       "5. 'suspended_solids_mg_l'\n",
       "6. 'ammonia_mg_l'\n",
       "7. 'ophosph_mg_l'\n",
       "8. 'sample_ph_pre_ansis'\n",
       "9. 'control_gc_l_mean'\n",
       "10. 'reac_vol_control'\n",
       "11. 'raw_ansis_sars_repc_1'\n",
       "12. 'raw_ansis_sars_repc_2'\n",
       "13. 'raw_ansis_sars_repc_mean'\n",
       "14. 'raw_ansis_sars_repc_std'\n",
       "15. 'compo_frac'\n",
       "16. 'sars_below_lod'\n",
       "17. 'sars_below_loq'\n",
       "18. 'reception_delay'\n",
       "19. 'catchment_population_ons_mid_2019'\n",
       "20. 'catchment_area'\n",
       "21. 'site_skey'\n",
       "22. 'catch_in_cis_prop'\n",
       "23. 'catch_cis_population'\n",
       "24. 'median_prob'\n",
       "25. 'll'\n",
       "26. 'ul'\n",
       "\n",
       "\n"
      ],
      "text/plain": [
       " [1] \"x\"                                 \"cis20cd\"                          \n",
       " [3] \"date\"                              \"sars_cov2_gc_l_mean\"              \n",
       " [5] \"suspended_solids_mg_l\"             \"ammonia_mg_l\"                     \n",
       " [7] \"ophosph_mg_l\"                      \"sample_ph_pre_ansis\"              \n",
       " [9] \"control_gc_l_mean\"                 \"reac_vol_control\"                 \n",
       "[11] \"raw_ansis_sars_repc_1\"             \"raw_ansis_sars_repc_2\"            \n",
       "[13] \"raw_ansis_sars_repc_mean\"          \"raw_ansis_sars_repc_std\"          \n",
       "[15] \"compo_frac\"                        \"sars_below_lod\"                   \n",
       "[17] \"sars_below_loq\"                    \"reception_delay\"                  \n",
       "[19] \"catchment_population_ons_mid_2019\" \"catchment_area\"                   \n",
       "[21] \"site_skey\"                         \"catch_in_cis_prop\"                \n",
       "[23] \"catch_cis_population\"              \"median_prob\"                      \n",
       "[25] \"ll\"                                \"ul\"                               "
      ]
     },
     "metadata": {},
     "output_type": "display_data"
    }
   ],
   "source": [
    "# Load in the dataset that includes CIS estimates - \n",
    "# - should be \"raw_data_10_cis_dec21.csv\" nope...does not contain the prevalence values\n",
    "# - should be \"raw_data_11_cis_dec21.csv\" ...variables \"median_prob\",\"ll\",\"ul\" are the ones we want\n",
    "dcis <- read.csv(paste0(datadir,\"raw_data_11_cis_dec21.csv\")) %>% clean_names()\n",
    "dim(dcis)\n",
    "head(dcis)\n",
    "names(dcis)"
   ]
  },
  {
   "cell_type": "code",
   "execution_count": 48,
   "id": "1667b3bb",
   "metadata": {},
   "outputs": [
    {
     "data": {
      "text/plain": [
       "\n",
       "   0 0.01 0.02 0.04 0.08 0.11 0.13 0.19 0.21 0.23 0.31 0.33 0.35 0.36  0.4 0.44 \n",
       "2091    6   86  163    2   16    2    1    6    1   77   56   11    1   18    1 \n",
       "0.46 0.49  0.5 0.51 0.52 0.53 0.54 0.56 0.57 0.63 0.66 0.67 0.68 0.69 0.71 0.75 \n",
       "   3   79    2    6    1   74    1    5    2    4    1   26   76   77    9    1 \n",
       "0.79  0.8 0.82 0.83 0.85 0.87 0.89  0.9 0.93 0.94 0.95 0.96 0.97 0.99    1 \n",
       "   6   78    5    2    2    7    3    1    2  103    1    1    1   88 4035 "
      ]
     },
     "metadata": {},
     "output_type": "display_data"
    },
    {
     "name": "stderr",
     "output_type": "stream",
     "text": [
      "Warning message:\n",
      "“Removed 2 rows containing missing values (geom_point).”\n"
     ]
    },
    {
     "data": {
      "text/html": [
       "<strong>png:</strong> 2"
      ],
      "text/latex": [
       "\\textbf{png:} 2"
      ],
      "text/markdown": [
       "**png:** 2"
      ],
      "text/plain": [
       "png \n",
       "  2 "
      ]
     },
     "metadata": {},
     "output_type": "display_data"
    },
    {
     "name": "stderr",
     "output_type": "stream",
     "text": [
      "Warning message:\n",
      "“Removed 29 rows containing missing values (geom_point).”\n",
      "Warning message:\n",
      "“Removed 30 rows containing missing values (geom_point).”\n"
     ]
    },
    {
     "data": {
      "text/html": [
       "<strong>png:</strong> 2"
      ],
      "text/latex": [
       "\\textbf{png:} 2"
      ],
      "text/markdown": [
       "**png:** 2"
      ],
      "text/plain": [
       "png \n",
       "  2 "
      ]
     },
     "metadata": {},
     "output_type": "display_data"
    }
   ],
   "source": [
    "# side-by-side plot samples with compo_frac\n",
    "table(round(dcis$compo_frac,2))\n",
    "y1 <- max(dcis$sars_cov2_gc_l_mean)\n",
    "\n",
    "\n",
    "p1 <- ggplot(dcis %>% filter(compo_frac<0.5),aes(x=median_prob,y=sars_cov2_gc_l_mean)) + \n",
    "    geom_point() +\n",
    "    scale_y_log10(limits=c(10,y1)) +\n",
    "    ggtitle(\"Grab Samples\")\n",
    "p2 <- ggplot(dcis %>% filter(compo_frac>=0.5),aes(x=median_prob,y=sars_cov2_gc_l_mean)) + \n",
    "    geom_point() +\n",
    "    scale_y_log10(limits=c(10,y1)) +\n",
    "    ggtitle(\"Composite Samples\") \n",
    "\n",
    "pdf(paste0(datadir,'compare_compo_frac_ww_cis.pdf'),height=5,width=9)\n",
    "plot_grid(p1,p2,ncol=2)\n",
    "dev.off()\n",
    "\n",
    "# same for the 01 Jan 2021 switch to the different methods\n",
    "# also need the same x-axes here\n",
    "\n",
    "doi <- as.Date(\"2021-01-01\")\n",
    "\n",
    "p3 <- ggplot(dcis %>% filter(date<doi),aes(x=median_prob,y=sars_cov2_gc_l_mean)) + \n",
    "    geom_point() +\n",
    "    scale_y_log10(limits=c(10,y1)) +\n",
    "    xlim(0,4) +\n",
    "    ggtitle(\"Pre-Jan2021 (PEG method)\")\n",
    "p4 <- ggplot(dcis %>% filter(date>=doi),aes(x=median_prob,y=sars_cov2_gc_l_mean)) + \n",
    "    geom_point() +\n",
    "    scale_y_log10(limits=c(10,y1)) +\n",
    "    xlim(0,4) +\n",
    "    ggtitle(\"Post-Jan2021 (AS method)\") \n",
    "\n",
    "pdf(paste0(datadir,'compare_ext_method_ww_cis.pdf'),height=5,width=9)\n",
    "plot_grid(p3,p4,ncol=2)\n",
    "dev.off()"
   ]
  },
  {
   "cell_type": "code",
   "execution_count": 44,
   "id": "877f25c0",
   "metadata": {},
   "outputs": [
    {
     "name": "stderr",
     "output_type": "stream",
     "text": [
      "`summarise()` has grouped output by 'ww_site_code', 'site_skey'. You can override using the `.groups` argument.\n",
      "\n"
     ]
    },
    {
     "data": {
      "text/html": [
       "<style>\n",
       ".list-inline {list-style: none; margin:0; padding: 0}\n",
       ".list-inline>li {display: inline-block}\n",
       ".list-inline>li:not(:last-child)::after {content: \"\\00b7\"; padding: 0 .5ex}\n",
       "</style>\n",
       "<ol class=list-inline><li>317</li><li>4</li></ol>\n"
      ],
      "text/latex": [
       "\\begin{enumerate*}\n",
       "\\item 317\n",
       "\\item 4\n",
       "\\end{enumerate*}\n"
      ],
      "text/markdown": [
       "1. 317\n",
       "2. 4\n",
       "\n",
       "\n"
      ],
      "text/plain": [
       "[1] 317   4"
      ]
     },
     "metadata": {},
     "output_type": "display_data"
    },
    {
     "data": {
      "text/html": [
       "<table class=\"dataframe\">\n",
       "<caption>A grouped_df: 6 × 4</caption>\n",
       "<thead>\n",
       "\t<tr><th scope=col>ww_site_code</th><th scope=col>site_skey</th><th scope=col>cis20cd</th><th scope=col>n</th></tr>\n",
       "\t<tr><th scope=col>&lt;chr&gt;</th><th scope=col>&lt;int&gt;</th><th scope=col>&lt;chr&gt;</th><th scope=col>&lt;int&gt;</th></tr>\n",
       "</thead>\n",
       "<tbody>\n",
       "\t<tr><td>UKENAN_AW_TP000050</td><td>17601</td><td>J06000157</td><td> 12</td></tr>\n",
       "\t<tr><td>UKENAN_AW_TP000050</td><td>20972</td><td>J06000157</td><td>129</td></tr>\n",
       "\t<tr><td>UKENAN_AW_TP000063</td><td>17605</td><td>J06000159</td><td> 10</td></tr>\n",
       "\t<tr><td>UKENAN_AW_TP000063</td><td>17605</td><td>J06000162</td><td> 10</td></tr>\n",
       "\t<tr><td>UKENAN_AW_TP000063</td><td>20985</td><td>J06000159</td><td>130</td></tr>\n",
       "\t<tr><td>UKENAN_AW_TP000063</td><td>20985</td><td>J06000162</td><td>130</td></tr>\n",
       "</tbody>\n",
       "</table>\n"
      ],
      "text/latex": [
       "A grouped\\_df: 6 × 4\n",
       "\\begin{tabular}{llll}\n",
       " ww\\_site\\_code & site\\_skey & cis20cd & n\\\\\n",
       " <chr> & <int> & <chr> & <int>\\\\\n",
       "\\hline\n",
       "\t UKENAN\\_AW\\_TP000050 & 17601 & J06000157 &  12\\\\\n",
       "\t UKENAN\\_AW\\_TP000050 & 20972 & J06000157 & 129\\\\\n",
       "\t UKENAN\\_AW\\_TP000063 & 17605 & J06000159 &  10\\\\\n",
       "\t UKENAN\\_AW\\_TP000063 & 17605 & J06000162 &  10\\\\\n",
       "\t UKENAN\\_AW\\_TP000063 & 20985 & J06000159 & 130\\\\\n",
       "\t UKENAN\\_AW\\_TP000063 & 20985 & J06000162 & 130\\\\\n",
       "\\end{tabular}\n"
      ],
      "text/markdown": [
       "\n",
       "A grouped_df: 6 × 4\n",
       "\n",
       "| ww_site_code &lt;chr&gt; | site_skey &lt;int&gt; | cis20cd &lt;chr&gt; | n &lt;int&gt; |\n",
       "|---|---|---|---|\n",
       "| UKENAN_AW_TP000050 | 17601 | J06000157 |  12 |\n",
       "| UKENAN_AW_TP000050 | 20972 | J06000157 | 129 |\n",
       "| UKENAN_AW_TP000063 | 17605 | J06000159 |  10 |\n",
       "| UKENAN_AW_TP000063 | 17605 | J06000162 |  10 |\n",
       "| UKENAN_AW_TP000063 | 20985 | J06000159 | 130 |\n",
       "| UKENAN_AW_TP000063 | 20985 | J06000162 | 130 |\n",
       "\n"
      ],
      "text/plain": [
       "  ww_site_code       site_skey cis20cd   n  \n",
       "1 UKENAN_AW_TP000050 17601     J06000157  12\n",
       "2 UKENAN_AW_TP000050 20972     J06000157 129\n",
       "3 UKENAN_AW_TP000063 17605     J06000159  10\n",
       "4 UKENAN_AW_TP000063 17605     J06000162  10\n",
       "5 UKENAN_AW_TP000063 20985     J06000159 130\n",
       "6 UKENAN_AW_TP000063 20985     J06000162 130"
      ]
     },
     "metadata": {},
     "output_type": "display_data"
    },
    {
     "data": {
      "text/html": [
       "<style>\n",
       ".list-inline {list-style: none; margin:0; padding: 0}\n",
       ".list-inline>li {display: inline-block}\n",
       ".list-inline>li:not(:last-child)::after {content: \"\\00b7\"; padding: 0 .5ex}\n",
       "</style>\n",
       "<ol class=list-inline><li>7240</li><li>26</li></ol>\n"
      ],
      "text/latex": [
       "\\begin{enumerate*}\n",
       "\\item 7240\n",
       "\\item 26\n",
       "\\end{enumerate*}\n"
      ],
      "text/markdown": [
       "1. 7240\n",
       "2. 26\n",
       "\n",
       "\n"
      ],
      "text/plain": [
       "[1] 7240   26"
      ]
     },
     "metadata": {},
     "output_type": "display_data"
    },
    {
     "data": {
      "text/html": [
       "<table class=\"dataframe\">\n",
       "<caption>A data.frame: 6 × 28</caption>\n",
       "<thead>\n",
       "\t<tr><th></th><th scope=col>x</th><th scope=col>cis20cd</th><th scope=col>date</th><th scope=col>sars_cov2_gc_l_mean</th><th scope=col>suspended_solids_mg_l</th><th scope=col>ammonia_mg_l</th><th scope=col>ophosph_mg_l</th><th scope=col>sample_ph_pre_ansis</th><th scope=col>control_gc_l_mean</th><th scope=col>reac_vol_control</th><th scope=col>⋯</th><th scope=col>catchment_population_ons_mid_2019</th><th scope=col>catchment_area</th><th scope=col>site_skey</th><th scope=col>catch_in_cis_prop</th><th scope=col>catch_cis_population</th><th scope=col>median_prob</th><th scope=col>ll</th><th scope=col>ul</th><th scope=col>ww_site_code</th><th scope=col>n</th></tr>\n",
       "\t<tr><th></th><th scope=col>&lt;int&gt;</th><th scope=col>&lt;chr&gt;</th><th scope=col>&lt;chr&gt;</th><th scope=col>&lt;dbl&gt;</th><th scope=col>&lt;dbl&gt;</th><th scope=col>&lt;dbl&gt;</th><th scope=col>&lt;dbl&gt;</th><th scope=col>&lt;dbl&gt;</th><th scope=col>&lt;dbl&gt;</th><th scope=col>&lt;dbl&gt;</th><th scope=col>⋯</th><th scope=col>&lt;dbl&gt;</th><th scope=col>&lt;dbl&gt;</th><th scope=col>&lt;dbl&gt;</th><th scope=col>&lt;dbl&gt;</th><th scope=col>&lt;dbl&gt;</th><th scope=col>&lt;dbl&gt;</th><th scope=col>&lt;dbl&gt;</th><th scope=col>&lt;dbl&gt;</th><th scope=col>&lt;chr&gt;</th><th scope=col>&lt;int&gt;</th></tr>\n",
       "</thead>\n",
       "<tbody>\n",
       "\t<tr><th scope=row>1</th><td>0</td><td>J06000104</td><td>2020-09-04</td><td>  411.6003</td><td> 74</td><td>27</td><td>3.3</td><td>7.4</td><td>8877043</td><td>2</td><td>⋯</td><td>58579</td><td>75.71834</td><td>21565</td><td>0.190042</td><td>58576.83</td><td>0.1632855</td><td>0.09930407</td><td>0.2683391</td><td>UKENNE_NU_TP000055</td><td>133</td></tr>\n",
       "\t<tr><th scope=row>2</th><td>1</td><td>J06000104</td><td>2020-09-06</td><td>10322.5654</td><td>220</td><td>36</td><td>4.2</td><td>7.4</td><td>8877043</td><td>2</td><td>⋯</td><td>58579</td><td>75.71834</td><td>21565</td><td>0.190042</td><td>58576.83</td><td>0.1871473</td><td>0.11667896</td><td>0.2993406</td><td>UKENNE_NU_TP000055</td><td>133</td></tr>\n",
       "\t<tr><th scope=row>3</th><td>2</td><td>J06000104</td><td>2020-09-07</td><td> 1641.4827</td><td>260</td><td>32</td><td>4.1</td><td>7.4</td><td>8877043</td><td>2</td><td>⋯</td><td>58579</td><td>75.71834</td><td>21565</td><td>0.190042</td><td>58576.83</td><td>0.1990781</td><td>0.12536641</td><td>0.3148414</td><td>UKENNE_NU_TP000055</td><td>133</td></tr>\n",
       "\t<tr><th scope=row>4</th><td>3</td><td>J06000104</td><td>2020-09-09</td><td>   66.5000</td><td>650</td><td>33</td><td>4.2</td><td>7.4</td><td>8877043</td><td>2</td><td>⋯</td><td>58579</td><td>75.71834</td><td>21565</td><td>0.190042</td><td>58576.83</td><td>0.2229399</td><td>0.14274130</td><td>0.3458429</td><td>UKENNE_NU_TP000055</td><td>133</td></tr>\n",
       "\t<tr><th scope=row>5</th><td>4</td><td>J06000104</td><td>2020-09-11</td><td>  608.0800</td><td>230</td><td>36</td><td>4.5</td><td>7.4</td><td>8877043</td><td>2</td><td>⋯</td><td>58579</td><td>75.71834</td><td>21565</td><td>0.190042</td><td>58576.83</td><td>0.2536489</td><td>0.16576187</td><td>0.3854879</td><td>UKENNE_NU_TP000055</td><td>133</td></tr>\n",
       "\t<tr><th scope=row>6</th><td>5</td><td>J06000104</td><td>2020-09-13</td><td> 1991.5653</td><td>160</td><td>37</td><td>4.6</td><td>7.4</td><td>8877043</td><td>2</td><td>⋯</td><td>58579</td><td>75.71834</td><td>21565</td><td>0.190042</td><td>58576.83</td><td>0.2912053</td><td>0.19442813</td><td>0.4337764</td><td>UKENNE_NU_TP000055</td><td>133</td></tr>\n",
       "</tbody>\n",
       "</table>\n"
      ],
      "text/latex": [
       "A data.frame: 6 × 28\n",
       "\\begin{tabular}{r|lllllllllllllllllllll}\n",
       "  & x & cis20cd & date & sars\\_cov2\\_gc\\_l\\_mean & suspended\\_solids\\_mg\\_l & ammonia\\_mg\\_l & ophosph\\_mg\\_l & sample\\_ph\\_pre\\_ansis & control\\_gc\\_l\\_mean & reac\\_vol\\_control & ⋯ & catchment\\_population\\_ons\\_mid\\_2019 & catchment\\_area & site\\_skey & catch\\_in\\_cis\\_prop & catch\\_cis\\_population & median\\_prob & ll & ul & ww\\_site\\_code & n\\\\\n",
       "  & <int> & <chr> & <chr> & <dbl> & <dbl> & <dbl> & <dbl> & <dbl> & <dbl> & <dbl> & ⋯ & <dbl> & <dbl> & <dbl> & <dbl> & <dbl> & <dbl> & <dbl> & <dbl> & <chr> & <int>\\\\\n",
       "\\hline\n",
       "\t1 & 0 & J06000104 & 2020-09-04 &   411.6003 &  74 & 27 & 3.3 & 7.4 & 8877043 & 2 & ⋯ & 58579 & 75.71834 & 21565 & 0.190042 & 58576.83 & 0.1632855 & 0.09930407 & 0.2683391 & UKENNE\\_NU\\_TP000055 & 133\\\\\n",
       "\t2 & 1 & J06000104 & 2020-09-06 & 10322.5654 & 220 & 36 & 4.2 & 7.4 & 8877043 & 2 & ⋯ & 58579 & 75.71834 & 21565 & 0.190042 & 58576.83 & 0.1871473 & 0.11667896 & 0.2993406 & UKENNE\\_NU\\_TP000055 & 133\\\\\n",
       "\t3 & 2 & J06000104 & 2020-09-07 &  1641.4827 & 260 & 32 & 4.1 & 7.4 & 8877043 & 2 & ⋯ & 58579 & 75.71834 & 21565 & 0.190042 & 58576.83 & 0.1990781 & 0.12536641 & 0.3148414 & UKENNE\\_NU\\_TP000055 & 133\\\\\n",
       "\t4 & 3 & J06000104 & 2020-09-09 &    66.5000 & 650 & 33 & 4.2 & 7.4 & 8877043 & 2 & ⋯ & 58579 & 75.71834 & 21565 & 0.190042 & 58576.83 & 0.2229399 & 0.14274130 & 0.3458429 & UKENNE\\_NU\\_TP000055 & 133\\\\\n",
       "\t5 & 4 & J06000104 & 2020-09-11 &   608.0800 & 230 & 36 & 4.5 & 7.4 & 8877043 & 2 & ⋯ & 58579 & 75.71834 & 21565 & 0.190042 & 58576.83 & 0.2536489 & 0.16576187 & 0.3854879 & UKENNE\\_NU\\_TP000055 & 133\\\\\n",
       "\t6 & 5 & J06000104 & 2020-09-13 &  1991.5653 & 160 & 37 & 4.6 & 7.4 & 8877043 & 2 & ⋯ & 58579 & 75.71834 & 21565 & 0.190042 & 58576.83 & 0.2912053 & 0.19442813 & 0.4337764 & UKENNE\\_NU\\_TP000055 & 133\\\\\n",
       "\\end{tabular}\n"
      ],
      "text/markdown": [
       "\n",
       "A data.frame: 6 × 28\n",
       "\n",
       "| <!--/--> | x &lt;int&gt; | cis20cd &lt;chr&gt; | date &lt;chr&gt; | sars_cov2_gc_l_mean &lt;dbl&gt; | suspended_solids_mg_l &lt;dbl&gt; | ammonia_mg_l &lt;dbl&gt; | ophosph_mg_l &lt;dbl&gt; | sample_ph_pre_ansis &lt;dbl&gt; | control_gc_l_mean &lt;dbl&gt; | reac_vol_control &lt;dbl&gt; | ⋯ ⋯ | catchment_population_ons_mid_2019 &lt;dbl&gt; | catchment_area &lt;dbl&gt; | site_skey &lt;dbl&gt; | catch_in_cis_prop &lt;dbl&gt; | catch_cis_population &lt;dbl&gt; | median_prob &lt;dbl&gt; | ll &lt;dbl&gt; | ul &lt;dbl&gt; | ww_site_code &lt;chr&gt; | n &lt;int&gt; |\n",
       "|---|---|---|---|---|---|---|---|---|---|---|---|---|---|---|---|---|---|---|---|---|---|\n",
       "| 1 | 0 | J06000104 | 2020-09-04 |   411.6003 |  74 | 27 | 3.3 | 7.4 | 8877043 | 2 | ⋯ | 58579 | 75.71834 | 21565 | 0.190042 | 58576.83 | 0.1632855 | 0.09930407 | 0.2683391 | UKENNE_NU_TP000055 | 133 |\n",
       "| 2 | 1 | J06000104 | 2020-09-06 | 10322.5654 | 220 | 36 | 4.2 | 7.4 | 8877043 | 2 | ⋯ | 58579 | 75.71834 | 21565 | 0.190042 | 58576.83 | 0.1871473 | 0.11667896 | 0.2993406 | UKENNE_NU_TP000055 | 133 |\n",
       "| 3 | 2 | J06000104 | 2020-09-07 |  1641.4827 | 260 | 32 | 4.1 | 7.4 | 8877043 | 2 | ⋯ | 58579 | 75.71834 | 21565 | 0.190042 | 58576.83 | 0.1990781 | 0.12536641 | 0.3148414 | UKENNE_NU_TP000055 | 133 |\n",
       "| 4 | 3 | J06000104 | 2020-09-09 |    66.5000 | 650 | 33 | 4.2 | 7.4 | 8877043 | 2 | ⋯ | 58579 | 75.71834 | 21565 | 0.190042 | 58576.83 | 0.2229399 | 0.14274130 | 0.3458429 | UKENNE_NU_TP000055 | 133 |\n",
       "| 5 | 4 | J06000104 | 2020-09-11 |   608.0800 | 230 | 36 | 4.5 | 7.4 | 8877043 | 2 | ⋯ | 58579 | 75.71834 | 21565 | 0.190042 | 58576.83 | 0.2536489 | 0.16576187 | 0.3854879 | UKENNE_NU_TP000055 | 133 |\n",
       "| 6 | 5 | J06000104 | 2020-09-13 |  1991.5653 | 160 | 37 | 4.6 | 7.4 | 8877043 | 2 | ⋯ | 58579 | 75.71834 | 21565 | 0.190042 | 58576.83 | 0.2912053 | 0.19442813 | 0.4337764 | UKENNE_NU_TP000055 | 133 |\n",
       "\n"
      ],
      "text/plain": [
       "  x cis20cd   date       sars_cov2_gc_l_mean suspended_solids_mg_l ammonia_mg_l\n",
       "1 0 J06000104 2020-09-04   411.6003           74                   27          \n",
       "2 1 J06000104 2020-09-06 10322.5654          220                   36          \n",
       "3 2 J06000104 2020-09-07  1641.4827          260                   32          \n",
       "4 3 J06000104 2020-09-09    66.5000          650                   33          \n",
       "5 4 J06000104 2020-09-11   608.0800          230                   36          \n",
       "6 5 J06000104 2020-09-13  1991.5653          160                   37          \n",
       "  ophosph_mg_l sample_ph_pre_ansis control_gc_l_mean reac_vol_control ⋯\n",
       "1 3.3          7.4                 8877043           2                ⋯\n",
       "2 4.2          7.4                 8877043           2                ⋯\n",
       "3 4.1          7.4                 8877043           2                ⋯\n",
       "4 4.2          7.4                 8877043           2                ⋯\n",
       "5 4.5          7.4                 8877043           2                ⋯\n",
       "6 4.6          7.4                 8877043           2                ⋯\n",
       "  catchment_population_ons_mid_2019 catchment_area site_skey catch_in_cis_prop\n",
       "1 58579                             75.71834       21565     0.190042         \n",
       "2 58579                             75.71834       21565     0.190042         \n",
       "3 58579                             75.71834       21565     0.190042         \n",
       "4 58579                             75.71834       21565     0.190042         \n",
       "5 58579                             75.71834       21565     0.190042         \n",
       "6 58579                             75.71834       21565     0.190042         \n",
       "  catch_cis_population median_prob ll         ul        ww_site_code       n  \n",
       "1 58576.83             0.1632855   0.09930407 0.2683391 UKENNE_NU_TP000055 133\n",
       "2 58576.83             0.1871473   0.11667896 0.2993406 UKENNE_NU_TP000055 133\n",
       "3 58576.83             0.1990781   0.12536641 0.3148414 UKENNE_NU_TP000055 133\n",
       "4 58576.83             0.2229399   0.14274130 0.3458429 UKENNE_NU_TP000055 133\n",
       "5 58576.83             0.2536489   0.16576187 0.3854879 UKENNE_NU_TP000055 133\n",
       "6 58576.83             0.2912053   0.19442813 0.4337764 UKENNE_NU_TP000055 133"
      ]
     },
     "metadata": {},
     "output_type": "display_data"
    },
    {
     "data": {
      "text/html": [
       "<style>\n",
       ".list-inline {list-style: none; margin:0; padding: 0}\n",
       ".list-inline>li {display: inline-block}\n",
       ".list-inline>li:not(:last-child)::after {content: \"\\00b7\"; padding: 0 .5ex}\n",
       "</style>\n",
       "<ol class=list-inline><li>7240</li><li>28</li></ol>\n"
      ],
      "text/latex": [
       "\\begin{enumerate*}\n",
       "\\item 7240\n",
       "\\item 28\n",
       "\\end{enumerate*}\n"
      ],
      "text/markdown": [
       "1. 7240\n",
       "2. 28\n",
       "\n",
       "\n"
      ],
      "text/plain": [
       "[1] 7240   28"
      ]
     },
     "metadata": {},
     "output_type": "display_data"
    },
    {
     "data": {
      "text/html": [
       "<style>\n",
       ".list-inline {list-style: none; margin:0; padding: 0}\n",
       ".list-inline>li {display: inline-block}\n",
       ".list-inline>li:not(:last-child)::after {content: \"\\00b7\"; padding: 0 .5ex}\n",
       "</style>\n",
       "<ol class=list-inline><li>'x'</li><li>'cis20cd'</li><li>'date'</li><li>'sars_cov2_gc_l_mean'</li><li>'suspended_solids_mg_l'</li><li>'ammonia_mg_l'</li><li>'ophosph_mg_l'</li><li>'sample_ph_pre_ansis'</li><li>'control_gc_l_mean'</li><li>'reac_vol_control'</li><li>'raw_ansis_sars_repc_1'</li><li>'raw_ansis_sars_repc_2'</li><li>'raw_ansis_sars_repc_mean'</li><li>'raw_ansis_sars_repc_std'</li><li>'compo_frac'</li><li>'sars_below_lod'</li><li>'sars_below_loq'</li><li>'reception_delay'</li><li>'catchment_population_ons_mid_2019'</li><li>'catchment_area'</li><li>'site_skey'</li><li>'catch_in_cis_prop'</li><li>'catch_cis_population'</li><li>'median_prob'</li><li>'ll'</li><li>'ul'</li><li>'ww_site_code'</li><li>'n'</li></ol>\n"
      ],
      "text/latex": [
       "\\begin{enumerate*}\n",
       "\\item 'x'\n",
       "\\item 'cis20cd'\n",
       "\\item 'date'\n",
       "\\item 'sars\\_cov2\\_gc\\_l\\_mean'\n",
       "\\item 'suspended\\_solids\\_mg\\_l'\n",
       "\\item 'ammonia\\_mg\\_l'\n",
       "\\item 'ophosph\\_mg\\_l'\n",
       "\\item 'sample\\_ph\\_pre\\_ansis'\n",
       "\\item 'control\\_gc\\_l\\_mean'\n",
       "\\item 'reac\\_vol\\_control'\n",
       "\\item 'raw\\_ansis\\_sars\\_repc\\_1'\n",
       "\\item 'raw\\_ansis\\_sars\\_repc\\_2'\n",
       "\\item 'raw\\_ansis\\_sars\\_repc\\_mean'\n",
       "\\item 'raw\\_ansis\\_sars\\_repc\\_std'\n",
       "\\item 'compo\\_frac'\n",
       "\\item 'sars\\_below\\_lod'\n",
       "\\item 'sars\\_below\\_loq'\n",
       "\\item 'reception\\_delay'\n",
       "\\item 'catchment\\_population\\_ons\\_mid\\_2019'\n",
       "\\item 'catchment\\_area'\n",
       "\\item 'site\\_skey'\n",
       "\\item 'catch\\_in\\_cis\\_prop'\n",
       "\\item 'catch\\_cis\\_population'\n",
       "\\item 'median\\_prob'\n",
       "\\item 'll'\n",
       "\\item 'ul'\n",
       "\\item 'ww\\_site\\_code'\n",
       "\\item 'n'\n",
       "\\end{enumerate*}\n"
      ],
      "text/markdown": [
       "1. 'x'\n",
       "2. 'cis20cd'\n",
       "3. 'date'\n",
       "4. 'sars_cov2_gc_l_mean'\n",
       "5. 'suspended_solids_mg_l'\n",
       "6. 'ammonia_mg_l'\n",
       "7. 'ophosph_mg_l'\n",
       "8. 'sample_ph_pre_ansis'\n",
       "9. 'control_gc_l_mean'\n",
       "10. 'reac_vol_control'\n",
       "11. 'raw_ansis_sars_repc_1'\n",
       "12. 'raw_ansis_sars_repc_2'\n",
       "13. 'raw_ansis_sars_repc_mean'\n",
       "14. 'raw_ansis_sars_repc_std'\n",
       "15. 'compo_frac'\n",
       "16. 'sars_below_lod'\n",
       "17. 'sars_below_loq'\n",
       "18. 'reception_delay'\n",
       "19. 'catchment_population_ons_mid_2019'\n",
       "20. 'catchment_area'\n",
       "21. 'site_skey'\n",
       "22. 'catch_in_cis_prop'\n",
       "23. 'catch_cis_population'\n",
       "24. 'median_prob'\n",
       "25. 'll'\n",
       "26. 'ul'\n",
       "27. 'ww_site_code'\n",
       "28. 'n'\n",
       "\n",
       "\n"
      ],
      "text/plain": [
       " [1] \"x\"                                 \"cis20cd\"                          \n",
       " [3] \"date\"                              \"sars_cov2_gc_l_mean\"              \n",
       " [5] \"suspended_solids_mg_l\"             \"ammonia_mg_l\"                     \n",
       " [7] \"ophosph_mg_l\"                      \"sample_ph_pre_ansis\"              \n",
       " [9] \"control_gc_l_mean\"                 \"reac_vol_control\"                 \n",
       "[11] \"raw_ansis_sars_repc_1\"             \"raw_ansis_sars_repc_2\"            \n",
       "[13] \"raw_ansis_sars_repc_mean\"          \"raw_ansis_sars_repc_std\"          \n",
       "[15] \"compo_frac\"                        \"sars_below_lod\"                   \n",
       "[17] \"sars_below_loq\"                    \"reception_delay\"                  \n",
       "[19] \"catchment_population_ons_mid_2019\" \"catchment_area\"                   \n",
       "[21] \"site_skey\"                         \"catch_in_cis_prop\"                \n",
       "[23] \"catch_cis_population\"              \"median_prob\"                      \n",
       "[25] \"ll\"                                \"ul\"                               \n",
       "[27] \"ww_site_code\"                      \"n\"                                "
      ]
     },
     "metadata": {},
     "output_type": "display_data"
    }
   ],
   "source": [
    "# make a smaller dataset and left_join\n",
    "tcis2 <- tcis %>% select(ww_site_code,site_skey,date,cis20cd) %>%\n",
    "    group_by(ww_site_code,site_skey,cis20cd) %>%\n",
    "    summarize(n=n())\n",
    "dim(tcis2)\n",
    "head(tcis2)\n",
    "dim(dcis)\n",
    "# we actually only want the site name transferred over so we don't \n",
    "# care what the date\n",
    "# and left_join\n",
    "fcis <- left_join(dcis,tcis2,by=c(\"site_skey\"=\"site_skey\",\n",
    "                                 \"cis20cd\"=\"cis20cd\")) \n",
    "head(fcis)\n",
    "dim(fcis)\n",
    "names(fcis)"
   ]
  }
 ],
 "metadata": {
  "kernelspec": {
   "display_name": "R",
   "language": "R",
   "name": "ir"
  },
  "language_info": {
   "codemirror_mode": "r",
   "file_extension": ".r",
   "mimetype": "text/x-r-source",
   "name": "R",
   "pygments_lexer": "r",
   "version": "4.1.0"
  }
 },
 "nbformat": 4,
 "nbformat_minor": 5
}
