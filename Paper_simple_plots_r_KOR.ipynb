{
 "cells": [
  {
   "cell_type": "markdown",
   "id": "0029d361",
   "metadata": {},
   "source": [
    "# carry out some simple plots\n",
    "\n",
    "- tile plot of the data, are the first few weeks ok?\n"
   ]
  },
  {
   "cell_type": "code",
   "execution_count": 1,
   "id": "b582c402",
   "metadata": {},
   "outputs": [
    {
     "name": "stderr",
     "output_type": "stream",
     "text": [
      "Warning message:\n",
      "“Your system is mis-configured: ‘/etc/localtime’ is not a symlink”\n",
      "Warning message:\n",
      "“It is strongly recommended to set envionment variable TZ to ‘Etc/UCT’ (or equivalent)”\n",
      "── \u001b[1mAttaching packages\u001b[22m ─────────────────────────────────────── tidyverse 1.3.1 ──\n",
      "\n",
      "\u001b[32m✔\u001b[39m \u001b[34mggplot2\u001b[39m 3.3.4     \u001b[32m✔\u001b[39m \u001b[34mpurrr  \u001b[39m 0.3.4\n",
      "\u001b[32m✔\u001b[39m \u001b[34mtibble \u001b[39m 3.1.2     \u001b[32m✔\u001b[39m \u001b[34mdplyr  \u001b[39m 1.0.7\n",
      "\u001b[32m✔\u001b[39m \u001b[34mtidyr  \u001b[39m 1.1.3     \u001b[32m✔\u001b[39m \u001b[34mstringr\u001b[39m 1.4.0\n",
      "\u001b[32m✔\u001b[39m \u001b[34mreadr  \u001b[39m 1.4.0     \u001b[32m✔\u001b[39m \u001b[34mforcats\u001b[39m 0.5.1\n",
      "\n",
      "── \u001b[1mConflicts\u001b[22m ────────────────────────────────────────── tidyverse_conflicts() ──\n",
      "\u001b[31m✖\u001b[39m \u001b[34mdplyr\u001b[39m::\u001b[32mfilter()\u001b[39m masks \u001b[34mstats\u001b[39m::filter()\n",
      "\u001b[31m✖\u001b[39m \u001b[34mdplyr\u001b[39m::\u001b[32mlag()\u001b[39m    masks \u001b[34mstats\u001b[39m::lag()\n",
      "\n",
      "\n",
      "Attaching package: ‘janitor’\n",
      "\n",
      "\n",
      "The following objects are masked from ‘package:stats’:\n",
      "\n",
      "    chisq.test, fisher.test\n",
      "\n",
      "\n"
     ]
    }
   ],
   "source": [
    "#load in packages\n",
    "library(tidyverse)\n",
    "library(janitor)\n",
    "library(ggplot2)\n",
    "library(cowplot)"
   ]
  },
  {
   "cell_type": "code",
   "execution_count": 4,
   "id": "61790c89",
   "metadata": {},
   "outputs": [
    {
     "data": {
      "text/html": [
       "<style>\n",
       ".list-inline {list-style: none; margin:0; padding: 0}\n",
       ".list-inline>li {display: inline-block}\n",
       ".list-inline>li:not(:last-child)::after {content: \"\\00b7\"; padding: 0 .5ex}\n",
       "</style>\n",
       "<ol class=list-inline><li>7238</li><li>26</li></ol>\n"
      ],
      "text/latex": [
       "\\begin{enumerate*}\n",
       "\\item 7238\n",
       "\\item 26\n",
       "\\end{enumerate*}\n"
      ],
      "text/markdown": [
       "1. 7238\n",
       "2. 26\n",
       "\n",
       "\n"
      ],
      "text/plain": [
       "[1] 7238   26"
      ]
     },
     "metadata": {},
     "output_type": "display_data"
    },
    {
     "data": {
      "text/html": [
       "<table class=\"dataframe\">\n",
       "<caption>A data.frame: 6 × 26</caption>\n",
       "<thead>\n",
       "\t<tr><th></th><th scope=col>x</th><th scope=col>cis20cd</th><th scope=col>date</th><th scope=col>sars_cov2_gc_l_mean</th><th scope=col>suspended_solids_mg_l</th><th scope=col>ammonia_mg_l</th><th scope=col>ophosph_mg_l</th><th scope=col>sample_ph_pre_ansis</th><th scope=col>control_gc_l_mean</th><th scope=col>reac_vol_control</th><th scope=col>⋯</th><th scope=col>sars_below_loq</th><th scope=col>reception_delay</th><th scope=col>catchment_population_ons_mid_2019</th><th scope=col>catchment_area</th><th scope=col>site_skey</th><th scope=col>catch_in_cis_prop</th><th scope=col>catch_cis_population</th><th scope=col>median_prob</th><th scope=col>ll</th><th scope=col>ul</th></tr>\n",
       "\t<tr><th></th><th scope=col>&lt;int&gt;</th><th scope=col>&lt;chr&gt;</th><th scope=col>&lt;chr&gt;</th><th scope=col>&lt;dbl&gt;</th><th scope=col>&lt;dbl&gt;</th><th scope=col>&lt;dbl&gt;</th><th scope=col>&lt;dbl&gt;</th><th scope=col>&lt;dbl&gt;</th><th scope=col>&lt;dbl&gt;</th><th scope=col>&lt;dbl&gt;</th><th scope=col>⋯</th><th scope=col>&lt;dbl&gt;</th><th scope=col>&lt;dbl&gt;</th><th scope=col>&lt;dbl&gt;</th><th scope=col>&lt;dbl&gt;</th><th scope=col>&lt;dbl&gt;</th><th scope=col>&lt;dbl&gt;</th><th scope=col>&lt;dbl&gt;</th><th scope=col>&lt;dbl&gt;</th><th scope=col>&lt;dbl&gt;</th><th scope=col>&lt;dbl&gt;</th></tr>\n",
       "</thead>\n",
       "<tbody>\n",
       "\t<tr><th scope=row>1</th><td>0</td><td>J06000104</td><td>2020-09-04</td><td>  411.6003</td><td> 74</td><td>27</td><td>3.3</td><td>7.4</td><td>22729300</td><td>2</td><td>⋯</td><td>1</td><td>23.56667</td><td>58579</td><td>75.71834</td><td>21565</td><td>0.190042</td><td>58576.83</td><td>0.1632855</td><td>0.09930407</td><td>0.2683391</td></tr>\n",
       "\t<tr><th scope=row>2</th><td>1</td><td>J06000104</td><td>2020-09-06</td><td>10322.5654</td><td>220</td><td>36</td><td>4.2</td><td>7.4</td><td>22729300</td><td>2</td><td>⋯</td><td>0</td><td>20.88333</td><td>58579</td><td>75.71834</td><td>21565</td><td>0.190042</td><td>58576.83</td><td>0.1871473</td><td>0.11667896</td><td>0.2993406</td></tr>\n",
       "\t<tr><th scope=row>3</th><td>2</td><td>J06000104</td><td>2020-09-07</td><td> 1641.4827</td><td>260</td><td>32</td><td>4.1</td><td>7.4</td><td>22729300</td><td>2</td><td>⋯</td><td>0</td><td>23.40000</td><td>58579</td><td>75.71834</td><td>21565</td><td>0.190042</td><td>58576.83</td><td>0.1990781</td><td>0.12536641</td><td>0.3148414</td></tr>\n",
       "\t<tr><th scope=row>4</th><td>3</td><td>J06000104</td><td>2020-09-09</td><td>   66.5000</td><td>650</td><td>33</td><td>4.2</td><td>7.4</td><td>22729300</td><td>2</td><td>⋯</td><td>1</td><td>23.78333</td><td>58579</td><td>75.71834</td><td>21565</td><td>0.190042</td><td>58576.83</td><td>0.2229399</td><td>0.14274130</td><td>0.3458429</td></tr>\n",
       "\t<tr><th scope=row>5</th><td>4</td><td>J06000104</td><td>2020-09-11</td><td>  608.0800</td><td>230</td><td>36</td><td>4.5</td><td>7.4</td><td>22729300</td><td>2</td><td>⋯</td><td>1</td><td>23.61667</td><td>58579</td><td>75.71834</td><td>21565</td><td>0.190042</td><td>58576.83</td><td>0.2536489</td><td>0.16576187</td><td>0.3854879</td></tr>\n",
       "\t<tr><th scope=row>6</th><td>5</td><td>J06000104</td><td>2020-09-13</td><td> 1991.5646</td><td>160</td><td>37</td><td>4.6</td><td>7.4</td><td>22729300</td><td>2</td><td>⋯</td><td>0</td><td>24.46667</td><td>58579</td><td>75.71834</td><td>21565</td><td>0.190042</td><td>58576.83</td><td>0.2912053</td><td>0.19442813</td><td>0.4337764</td></tr>\n",
       "</tbody>\n",
       "</table>\n"
      ],
      "text/latex": [
       "A data.frame: 6 × 26\n",
       "\\begin{tabular}{r|lllllllllllllllllllll}\n",
       "  & x & cis20cd & date & sars\\_cov2\\_gc\\_l\\_mean & suspended\\_solids\\_mg\\_l & ammonia\\_mg\\_l & ophosph\\_mg\\_l & sample\\_ph\\_pre\\_ansis & control\\_gc\\_l\\_mean & reac\\_vol\\_control & ⋯ & sars\\_below\\_loq & reception\\_delay & catchment\\_population\\_ons\\_mid\\_2019 & catchment\\_area & site\\_skey & catch\\_in\\_cis\\_prop & catch\\_cis\\_population & median\\_prob & ll & ul\\\\\n",
       "  & <int> & <chr> & <chr> & <dbl> & <dbl> & <dbl> & <dbl> & <dbl> & <dbl> & <dbl> & ⋯ & <dbl> & <dbl> & <dbl> & <dbl> & <dbl> & <dbl> & <dbl> & <dbl> & <dbl> & <dbl>\\\\\n",
       "\\hline\n",
       "\t1 & 0 & J06000104 & 2020-09-04 &   411.6003 &  74 & 27 & 3.3 & 7.4 & 22729300 & 2 & ⋯ & 1 & 23.56667 & 58579 & 75.71834 & 21565 & 0.190042 & 58576.83 & 0.1632855 & 0.09930407 & 0.2683391\\\\\n",
       "\t2 & 1 & J06000104 & 2020-09-06 & 10322.5654 & 220 & 36 & 4.2 & 7.4 & 22729300 & 2 & ⋯ & 0 & 20.88333 & 58579 & 75.71834 & 21565 & 0.190042 & 58576.83 & 0.1871473 & 0.11667896 & 0.2993406\\\\\n",
       "\t3 & 2 & J06000104 & 2020-09-07 &  1641.4827 & 260 & 32 & 4.1 & 7.4 & 22729300 & 2 & ⋯ & 0 & 23.40000 & 58579 & 75.71834 & 21565 & 0.190042 & 58576.83 & 0.1990781 & 0.12536641 & 0.3148414\\\\\n",
       "\t4 & 3 & J06000104 & 2020-09-09 &    66.5000 & 650 & 33 & 4.2 & 7.4 & 22729300 & 2 & ⋯ & 1 & 23.78333 & 58579 & 75.71834 & 21565 & 0.190042 & 58576.83 & 0.2229399 & 0.14274130 & 0.3458429\\\\\n",
       "\t5 & 4 & J06000104 & 2020-09-11 &   608.0800 & 230 & 36 & 4.5 & 7.4 & 22729300 & 2 & ⋯ & 1 & 23.61667 & 58579 & 75.71834 & 21565 & 0.190042 & 58576.83 & 0.2536489 & 0.16576187 & 0.3854879\\\\\n",
       "\t6 & 5 & J06000104 & 2020-09-13 &  1991.5646 & 160 & 37 & 4.6 & 7.4 & 22729300 & 2 & ⋯ & 0 & 24.46667 & 58579 & 75.71834 & 21565 & 0.190042 & 58576.83 & 0.2912053 & 0.19442813 & 0.4337764\\\\\n",
       "\\end{tabular}\n"
      ],
      "text/markdown": [
       "\n",
       "A data.frame: 6 × 26\n",
       "\n",
       "| <!--/--> | x &lt;int&gt; | cis20cd &lt;chr&gt; | date &lt;chr&gt; | sars_cov2_gc_l_mean &lt;dbl&gt; | suspended_solids_mg_l &lt;dbl&gt; | ammonia_mg_l &lt;dbl&gt; | ophosph_mg_l &lt;dbl&gt; | sample_ph_pre_ansis &lt;dbl&gt; | control_gc_l_mean &lt;dbl&gt; | reac_vol_control &lt;dbl&gt; | ⋯ ⋯ | sars_below_loq &lt;dbl&gt; | reception_delay &lt;dbl&gt; | catchment_population_ons_mid_2019 &lt;dbl&gt; | catchment_area &lt;dbl&gt; | site_skey &lt;dbl&gt; | catch_in_cis_prop &lt;dbl&gt; | catch_cis_population &lt;dbl&gt; | median_prob &lt;dbl&gt; | ll &lt;dbl&gt; | ul &lt;dbl&gt; |\n",
       "|---|---|---|---|---|---|---|---|---|---|---|---|---|---|---|---|---|---|---|---|---|---|\n",
       "| 1 | 0 | J06000104 | 2020-09-04 |   411.6003 |  74 | 27 | 3.3 | 7.4 | 22729300 | 2 | ⋯ | 1 | 23.56667 | 58579 | 75.71834 | 21565 | 0.190042 | 58576.83 | 0.1632855 | 0.09930407 | 0.2683391 |\n",
       "| 2 | 1 | J06000104 | 2020-09-06 | 10322.5654 | 220 | 36 | 4.2 | 7.4 | 22729300 | 2 | ⋯ | 0 | 20.88333 | 58579 | 75.71834 | 21565 | 0.190042 | 58576.83 | 0.1871473 | 0.11667896 | 0.2993406 |\n",
       "| 3 | 2 | J06000104 | 2020-09-07 |  1641.4827 | 260 | 32 | 4.1 | 7.4 | 22729300 | 2 | ⋯ | 0 | 23.40000 | 58579 | 75.71834 | 21565 | 0.190042 | 58576.83 | 0.1990781 | 0.12536641 | 0.3148414 |\n",
       "| 4 | 3 | J06000104 | 2020-09-09 |    66.5000 | 650 | 33 | 4.2 | 7.4 | 22729300 | 2 | ⋯ | 1 | 23.78333 | 58579 | 75.71834 | 21565 | 0.190042 | 58576.83 | 0.2229399 | 0.14274130 | 0.3458429 |\n",
       "| 5 | 4 | J06000104 | 2020-09-11 |   608.0800 | 230 | 36 | 4.5 | 7.4 | 22729300 | 2 | ⋯ | 1 | 23.61667 | 58579 | 75.71834 | 21565 | 0.190042 | 58576.83 | 0.2536489 | 0.16576187 | 0.3854879 |\n",
       "| 6 | 5 | J06000104 | 2020-09-13 |  1991.5646 | 160 | 37 | 4.6 | 7.4 | 22729300 | 2 | ⋯ | 0 | 24.46667 | 58579 | 75.71834 | 21565 | 0.190042 | 58576.83 | 0.2912053 | 0.19442813 | 0.4337764 |\n",
       "\n"
      ],
      "text/plain": [
       "  x cis20cd   date       sars_cov2_gc_l_mean suspended_solids_mg_l ammonia_mg_l\n",
       "1 0 J06000104 2020-09-04   411.6003           74                   27          \n",
       "2 1 J06000104 2020-09-06 10322.5654          220                   36          \n",
       "3 2 J06000104 2020-09-07  1641.4827          260                   32          \n",
       "4 3 J06000104 2020-09-09    66.5000          650                   33          \n",
       "5 4 J06000104 2020-09-11   608.0800          230                   36          \n",
       "6 5 J06000104 2020-09-13  1991.5646          160                   37          \n",
       "  ophosph_mg_l sample_ph_pre_ansis control_gc_l_mean reac_vol_control ⋯\n",
       "1 3.3          7.4                 22729300          2                ⋯\n",
       "2 4.2          7.4                 22729300          2                ⋯\n",
       "3 4.1          7.4                 22729300          2                ⋯\n",
       "4 4.2          7.4                 22729300          2                ⋯\n",
       "5 4.5          7.4                 22729300          2                ⋯\n",
       "6 4.6          7.4                 22729300          2                ⋯\n",
       "  sars_below_loq reception_delay catchment_population_ons_mid_2019\n",
       "1 1              23.56667        58579                            \n",
       "2 0              20.88333        58579                            \n",
       "3 0              23.40000        58579                            \n",
       "4 1              23.78333        58579                            \n",
       "5 1              23.61667        58579                            \n",
       "6 0              24.46667        58579                            \n",
       "  catchment_area site_skey catch_in_cis_prop catch_cis_population median_prob\n",
       "1 75.71834       21565     0.190042          58576.83             0.1632855  \n",
       "2 75.71834       21565     0.190042          58576.83             0.1871473  \n",
       "3 75.71834       21565     0.190042          58576.83             0.1990781  \n",
       "4 75.71834       21565     0.190042          58576.83             0.2229399  \n",
       "5 75.71834       21565     0.190042          58576.83             0.2536489  \n",
       "6 75.71834       21565     0.190042          58576.83             0.2912053  \n",
       "  ll         ul       \n",
       "1 0.09930407 0.2683391\n",
       "2 0.11667896 0.2993406\n",
       "3 0.12536641 0.3148414\n",
       "4 0.14274130 0.3458429\n",
       "5 0.16576187 0.3854879\n",
       "6 0.19442813 0.4337764"
      ]
     },
     "metadata": {},
     "output_type": "display_data"
    },
    {
     "data": {
      "text/html": [
       "<table class=\"dataframe\">\n",
       "<caption>A tibble: 6 × 4</caption>\n",
       "<thead>\n",
       "\t<tr><th scope=col>cis20cd</th><th scope=col>n</th><th scope=col>date_min</th><th scope=col>date_max</th></tr>\n",
       "\t<tr><th scope=col>&lt;chr&gt;</th><th scope=col>&lt;int&gt;</th><th scope=col>&lt;chr&gt;</th><th scope=col>&lt;chr&gt;</th></tr>\n",
       "</thead>\n",
       "<tbody>\n",
       "\t<tr><td>J06000104</td><td> 87</td><td>2020-09-04</td><td>2021-02-10</td></tr>\n",
       "\t<tr><td>J06000105</td><td> 86</td><td>2020-09-04</td><td>2021-02-10</td></tr>\n",
       "\t<tr><td>J06000107</td><td> 84</td><td>2020-09-04</td><td>2021-02-10</td></tr>\n",
       "\t<tr><td>J06000108</td><td> 88</td><td>2020-09-04</td><td>2021-02-10</td></tr>\n",
       "\t<tr><td>J06000109</td><td>108</td><td>2020-09-04</td><td>2021-02-10</td></tr>\n",
       "\t<tr><td>J06000110</td><td> 89</td><td>2020-09-04</td><td>2021-02-10</td></tr>\n",
       "</tbody>\n",
       "</table>\n"
      ],
      "text/latex": [
       "A tibble: 6 × 4\n",
       "\\begin{tabular}{llll}\n",
       " cis20cd & n & date\\_min & date\\_max\\\\\n",
       " <chr> & <int> & <chr> & <chr>\\\\\n",
       "\\hline\n",
       "\t J06000104 &  87 & 2020-09-04 & 2021-02-10\\\\\n",
       "\t J06000105 &  86 & 2020-09-04 & 2021-02-10\\\\\n",
       "\t J06000107 &  84 & 2020-09-04 & 2021-02-10\\\\\n",
       "\t J06000108 &  88 & 2020-09-04 & 2021-02-10\\\\\n",
       "\t J06000109 & 108 & 2020-09-04 & 2021-02-10\\\\\n",
       "\t J06000110 &  89 & 2020-09-04 & 2021-02-10\\\\\n",
       "\\end{tabular}\n"
      ],
      "text/markdown": [
       "\n",
       "A tibble: 6 × 4\n",
       "\n",
       "| cis20cd &lt;chr&gt; | n &lt;int&gt; | date_min &lt;chr&gt; | date_max &lt;chr&gt; |\n",
       "|---|---|---|---|\n",
       "| J06000104 |  87 | 2020-09-04 | 2021-02-10 |\n",
       "| J06000105 |  86 | 2020-09-04 | 2021-02-10 |\n",
       "| J06000107 |  84 | 2020-09-04 | 2021-02-10 |\n",
       "| J06000108 |  88 | 2020-09-04 | 2021-02-10 |\n",
       "| J06000109 | 108 | 2020-09-04 | 2021-02-10 |\n",
       "| J06000110 |  89 | 2020-09-04 | 2021-02-10 |\n",
       "\n"
      ],
      "text/plain": [
       "  cis20cd   n   date_min   date_max  \n",
       "1 J06000104  87 2020-09-04 2021-02-10\n",
       "2 J06000105  86 2020-09-04 2021-02-10\n",
       "3 J06000107  84 2020-09-04 2021-02-10\n",
       "4 J06000108  88 2020-09-04 2021-02-10\n",
       "5 J06000109 108 2020-09-04 2021-02-10\n",
       "6 J06000110  89 2020-09-04 2021-02-10"
      ]
     },
     "metadata": {},
     "output_type": "display_data"
    }
   ],
   "source": [
    "# read in data\n",
    "# it's unclear to me how to change dir in notebook, park this for now...\n",
    "datadir <- c(\"/home/ec2-user/SageMaker/jbc-wastewater-analysis/data/\")\n",
    "dat <- read.csv(paste0(datadir,\"agg_data_inner_11_cis_mar22.csv\")) %>% clean_names()\n",
    "dim(dat)\n",
    "head(dat)\n",
    "\n",
    "tmp <- dat %>% group_by(cis20cd) %>% summarize(n=n(),\n",
    "                                              date_min = min(date),\n",
    "                                              date_max = max(date))\n",
    "head(tmp)\n"
   ]
  },
  {
   "cell_type": "code",
   "execution_count": 20,
   "id": "fe69205d",
   "metadata": {},
   "outputs": [
    {
     "name": "stdout",
     "output_type": "stream",
     "text": [
      "    Min.  1st Qu.   Median     Mean  3rd Qu.     Max. \n",
      "     1.8   3428.8  12036.8  34767.4  38913.4 790518.7 \n"
     ]
    },
    {
     "data": {
      "text/html": [
       "<strong>png:</strong> 2"
      ],
      "text/latex": [
       "\\textbf{png:} 2"
      ],
      "text/markdown": [
       "**png:** 2"
      ],
      "text/plain": [
       "png \n",
       "  2 "
      ]
     },
     "metadata": {},
     "output_type": "display_data"
    },
    {
     "data": {
      "text/html": [
       "<strong>png:</strong> 2"
      ],
      "text/latex": [
       "\\textbf{png:} 2"
      ],
      "text/markdown": [
       "**png:** 2"
      ],
      "text/plain": [
       "png \n",
       "  2 "
      ]
     },
     "metadata": {},
     "output_type": "display_data"
    },
    {
     "data": {
      "text/html": [
       "<strong>png:</strong> 2"
      ],
      "text/latex": [
       "\\textbf{png:} 2"
      ],
      "text/markdown": [
       "**png:** 2"
      ],
      "text/plain": [
       "png \n",
       "  2 "
      ]
     },
     "metadata": {},
     "output_type": "display_data"
    }
   ],
   "source": [
    "# tile plot\n",
    "#datadir <- c(\"/home/ec2-user/SageMaker/jbc-wastewater-analysis/data/\")\n",
    "\n",
    "print(summary(dat$sars_cov2_gc_l_mean))\n",
    "p1 <- ggplot(data=dat,aes(x=date,y=cis20cd,fill=log10(sars_cov2_gc_l_mean))) + geom_tile()\n",
    "pdf(paste0(datadir,'clean_data_ww_tile.pdf'),height=7,width=9)\n",
    "p1\n",
    "dev.off()\n",
    "\n",
    "p2 <- ggplot(data=dat,aes(x=date,y=cis20cd,fill=median_prob)) + geom_tile()\n",
    "pdf(paste0(datadir,'clean_data_cis_tile.pdf'),height=7,width=9)\n",
    "p2\n",
    "dev.off()\n",
    "\n",
    "p3 <- ggplot(data=dat,aes(y=log10(median_prob),x=log10(sars_cov2_gc_l_mean),col=cis20cd)) + geom_point()\n",
    "pdf(paste0(datadir,'clean_data_ww_cis_point.pdf'),height=7,width=9)\n",
    "p3\n",
    "dev.off()"
   ]
  },
  {
   "cell_type": "markdown",
   "id": "171eb2b1",
   "metadata": {},
   "source": [
    "## 2. Compare raw and aggregated data for a few CIDs\n",
    "\n",
    "So I can understand what the difference is / what is being filled in "
   ]
  },
  {
   "cell_type": "code",
   "execution_count": 8,
   "id": "9ede79e1",
   "metadata": {},
   "outputs": [
    {
     "data": {
      "text/html": [
       "<style>\n",
       ".list-inline {list-style: none; margin:0; padding: 0}\n",
       ".list-inline>li {display: inline-block}\n",
       ".list-inline>li:not(:last-child)::after {content: \"\\00b7\"; padding: 0 .5ex}\n",
       "</style>\n",
       "<ol class=list-inline><li>7238</li><li>22</li></ol>\n"
      ],
      "text/latex": [
       "\\begin{enumerate*}\n",
       "\\item 7238\n",
       "\\item 22\n",
       "\\end{enumerate*}\n"
      ],
      "text/markdown": [
       "1. 7238\n",
       "2. 22\n",
       "\n",
       "\n"
      ],
      "text/plain": [
       "[1] 7238   22"
      ]
     },
     "metadata": {},
     "output_type": "display_data"
    },
    {
     "data": {
      "text/html": [
       "<table class=\"dataframe\">\n",
       "<caption>A data.frame: 6 × 22</caption>\n",
       "<thead>\n",
       "\t<tr><th></th><th scope=col>x</th><th scope=col>cis20cd</th><th scope=col>date</th><th scope=col>sars_cov2_gc_l_mean</th><th scope=col>suspended_solids_mg_l</th><th scope=col>ammonia_mg_l</th><th scope=col>ophosph_mg_l</th><th scope=col>sample_ph_pre_ansis</th><th scope=col>control_gc_l_mean</th><th scope=col>reac_vol_control</th><th scope=col>⋯</th><th scope=col>sars_below_lod</th><th scope=col>sars_below_loq</th><th scope=col>reception_delay</th><th scope=col>catchment_population_ons_mid_2019</th><th scope=col>catchment_area</th><th scope=col>catch_in_cis_prop</th><th scope=col>catch_cis_population</th><th scope=col>median_prob</th><th scope=col>ll</th><th scope=col>ul</th></tr>\n",
       "\t<tr><th></th><th scope=col>&lt;int&gt;</th><th scope=col>&lt;chr&gt;</th><th scope=col>&lt;chr&gt;</th><th scope=col>&lt;dbl&gt;</th><th scope=col>&lt;dbl&gt;</th><th scope=col>&lt;dbl&gt;</th><th scope=col>&lt;dbl&gt;</th><th scope=col>&lt;dbl&gt;</th><th scope=col>&lt;dbl&gt;</th><th scope=col>&lt;dbl&gt;</th><th scope=col>⋯</th><th scope=col>&lt;dbl&gt;</th><th scope=col>&lt;dbl&gt;</th><th scope=col>&lt;dbl&gt;</th><th scope=col>&lt;dbl&gt;</th><th scope=col>&lt;dbl&gt;</th><th scope=col>&lt;dbl&gt;</th><th scope=col>&lt;dbl&gt;</th><th scope=col>&lt;dbl&gt;</th><th scope=col>&lt;dbl&gt;</th><th scope=col>&lt;dbl&gt;</th></tr>\n",
       "</thead>\n",
       "<tbody>\n",
       "\t<tr><th scope=row>1</th><td>0</td><td>J06000104</td><td>2020-09-04</td><td>  411.6003</td><td> 74</td><td>27</td><td>3.3</td><td>7.4</td><td>22729300</td><td>2</td><td>⋯</td><td>0</td><td>0</td><td>23.56667</td><td>58579</td><td>75.71834</td><td>0.190042</td><td>58576.83</td><td>0.1632855</td><td>0.09930407</td><td>0.2683391</td></tr>\n",
       "\t<tr><th scope=row>2</th><td>1</td><td>J06000104</td><td>2020-09-06</td><td>10322.5654</td><td>220</td><td>36</td><td>4.2</td><td>7.4</td><td>22729300</td><td>2</td><td>⋯</td><td>0</td><td>0</td><td>20.88333</td><td>58579</td><td>75.71834</td><td>0.190042</td><td>58576.83</td><td>0.1871473</td><td>0.11667896</td><td>0.2993406</td></tr>\n",
       "\t<tr><th scope=row>3</th><td>2</td><td>J06000104</td><td>2020-09-07</td><td> 1641.4827</td><td>260</td><td>32</td><td>4.1</td><td>7.4</td><td>22729300</td><td>2</td><td>⋯</td><td>0</td><td>0</td><td>23.40000</td><td>58579</td><td>75.71834</td><td>0.190042</td><td>58576.83</td><td>0.1990781</td><td>0.12536641</td><td>0.3148414</td></tr>\n",
       "\t<tr><th scope=row>4</th><td>3</td><td>J06000104</td><td>2020-09-09</td><td>   66.5000</td><td>650</td><td>33</td><td>4.2</td><td>7.4</td><td>22729300</td><td>2</td><td>⋯</td><td>0</td><td>0</td><td>23.78333</td><td>58579</td><td>75.71834</td><td>0.190042</td><td>58576.83</td><td>0.2229399</td><td>0.14274130</td><td>0.3458429</td></tr>\n",
       "\t<tr><th scope=row>5</th><td>4</td><td>J06000104</td><td>2020-09-11</td><td>  608.0800</td><td>230</td><td>36</td><td>4.5</td><td>7.4</td><td>22729300</td><td>2</td><td>⋯</td><td>0</td><td>0</td><td>23.61667</td><td>58579</td><td>75.71834</td><td>0.190042</td><td>58576.83</td><td>0.2536489</td><td>0.16576187</td><td>0.3854879</td></tr>\n",
       "\t<tr><th scope=row>6</th><td>5</td><td>J06000104</td><td>2020-09-13</td><td> 1991.5646</td><td>160</td><td>37</td><td>4.6</td><td>7.4</td><td>22729300</td><td>2</td><td>⋯</td><td>0</td><td>0</td><td>24.46667</td><td>58579</td><td>75.71834</td><td>0.190042</td><td>58576.83</td><td>0.2912053</td><td>0.19442813</td><td>0.4337764</td></tr>\n",
       "</tbody>\n",
       "</table>\n"
      ],
      "text/latex": [
       "A data.frame: 6 × 22\n",
       "\\begin{tabular}{r|lllllllllllllllllllll}\n",
       "  & x & cis20cd & date & sars\\_cov2\\_gc\\_l\\_mean & suspended\\_solids\\_mg\\_l & ammonia\\_mg\\_l & ophosph\\_mg\\_l & sample\\_ph\\_pre\\_ansis & control\\_gc\\_l\\_mean & reac\\_vol\\_control & ⋯ & sars\\_below\\_lod & sars\\_below\\_loq & reception\\_delay & catchment\\_population\\_ons\\_mid\\_2019 & catchment\\_area & catch\\_in\\_cis\\_prop & catch\\_cis\\_population & median\\_prob & ll & ul\\\\\n",
       "  & <int> & <chr> & <chr> & <dbl> & <dbl> & <dbl> & <dbl> & <dbl> & <dbl> & <dbl> & ⋯ & <dbl> & <dbl> & <dbl> & <dbl> & <dbl> & <dbl> & <dbl> & <dbl> & <dbl> & <dbl>\\\\\n",
       "\\hline\n",
       "\t1 & 0 & J06000104 & 2020-09-04 &   411.6003 &  74 & 27 & 3.3 & 7.4 & 22729300 & 2 & ⋯ & 0 & 0 & 23.56667 & 58579 & 75.71834 & 0.190042 & 58576.83 & 0.1632855 & 0.09930407 & 0.2683391\\\\\n",
       "\t2 & 1 & J06000104 & 2020-09-06 & 10322.5654 & 220 & 36 & 4.2 & 7.4 & 22729300 & 2 & ⋯ & 0 & 0 & 20.88333 & 58579 & 75.71834 & 0.190042 & 58576.83 & 0.1871473 & 0.11667896 & 0.2993406\\\\\n",
       "\t3 & 2 & J06000104 & 2020-09-07 &  1641.4827 & 260 & 32 & 4.1 & 7.4 & 22729300 & 2 & ⋯ & 0 & 0 & 23.40000 & 58579 & 75.71834 & 0.190042 & 58576.83 & 0.1990781 & 0.12536641 & 0.3148414\\\\\n",
       "\t4 & 3 & J06000104 & 2020-09-09 &    66.5000 & 650 & 33 & 4.2 & 7.4 & 22729300 & 2 & ⋯ & 0 & 0 & 23.78333 & 58579 & 75.71834 & 0.190042 & 58576.83 & 0.2229399 & 0.14274130 & 0.3458429\\\\\n",
       "\t5 & 4 & J06000104 & 2020-09-11 &   608.0800 & 230 & 36 & 4.5 & 7.4 & 22729300 & 2 & ⋯ & 0 & 0 & 23.61667 & 58579 & 75.71834 & 0.190042 & 58576.83 & 0.2536489 & 0.16576187 & 0.3854879\\\\\n",
       "\t6 & 5 & J06000104 & 2020-09-13 &  1991.5646 & 160 & 37 & 4.6 & 7.4 & 22729300 & 2 & ⋯ & 0 & 0 & 24.46667 & 58579 & 75.71834 & 0.190042 & 58576.83 & 0.2912053 & 0.19442813 & 0.4337764\\\\\n",
       "\\end{tabular}\n"
      ],
      "text/markdown": [
       "\n",
       "A data.frame: 6 × 22\n",
       "\n",
       "| <!--/--> | x &lt;int&gt; | cis20cd &lt;chr&gt; | date &lt;chr&gt; | sars_cov2_gc_l_mean &lt;dbl&gt; | suspended_solids_mg_l &lt;dbl&gt; | ammonia_mg_l &lt;dbl&gt; | ophosph_mg_l &lt;dbl&gt; | sample_ph_pre_ansis &lt;dbl&gt; | control_gc_l_mean &lt;dbl&gt; | reac_vol_control &lt;dbl&gt; | ⋯ ⋯ | sars_below_lod &lt;dbl&gt; | sars_below_loq &lt;dbl&gt; | reception_delay &lt;dbl&gt; | catchment_population_ons_mid_2019 &lt;dbl&gt; | catchment_area &lt;dbl&gt; | catch_in_cis_prop &lt;dbl&gt; | catch_cis_population &lt;dbl&gt; | median_prob &lt;dbl&gt; | ll &lt;dbl&gt; | ul &lt;dbl&gt; |\n",
       "|---|---|---|---|---|---|---|---|---|---|---|---|---|---|---|---|---|---|---|---|---|---|\n",
       "| 1 | 0 | J06000104 | 2020-09-04 |   411.6003 |  74 | 27 | 3.3 | 7.4 | 22729300 | 2 | ⋯ | 0 | 0 | 23.56667 | 58579 | 75.71834 | 0.190042 | 58576.83 | 0.1632855 | 0.09930407 | 0.2683391 |\n",
       "| 2 | 1 | J06000104 | 2020-09-06 | 10322.5654 | 220 | 36 | 4.2 | 7.4 | 22729300 | 2 | ⋯ | 0 | 0 | 20.88333 | 58579 | 75.71834 | 0.190042 | 58576.83 | 0.1871473 | 0.11667896 | 0.2993406 |\n",
       "| 3 | 2 | J06000104 | 2020-09-07 |  1641.4827 | 260 | 32 | 4.1 | 7.4 | 22729300 | 2 | ⋯ | 0 | 0 | 23.40000 | 58579 | 75.71834 | 0.190042 | 58576.83 | 0.1990781 | 0.12536641 | 0.3148414 |\n",
       "| 4 | 3 | J06000104 | 2020-09-09 |    66.5000 | 650 | 33 | 4.2 | 7.4 | 22729300 | 2 | ⋯ | 0 | 0 | 23.78333 | 58579 | 75.71834 | 0.190042 | 58576.83 | 0.2229399 | 0.14274130 | 0.3458429 |\n",
       "| 5 | 4 | J06000104 | 2020-09-11 |   608.0800 | 230 | 36 | 4.5 | 7.4 | 22729300 | 2 | ⋯ | 0 | 0 | 23.61667 | 58579 | 75.71834 | 0.190042 | 58576.83 | 0.2536489 | 0.16576187 | 0.3854879 |\n",
       "| 6 | 5 | J06000104 | 2020-09-13 |  1991.5646 | 160 | 37 | 4.6 | 7.4 | 22729300 | 2 | ⋯ | 0 | 0 | 24.46667 | 58579 | 75.71834 | 0.190042 | 58576.83 | 0.2912053 | 0.19442813 | 0.4337764 |\n",
       "\n"
      ],
      "text/plain": [
       "  x cis20cd   date       sars_cov2_gc_l_mean suspended_solids_mg_l ammonia_mg_l\n",
       "1 0 J06000104 2020-09-04   411.6003           74                   27          \n",
       "2 1 J06000104 2020-09-06 10322.5654          220                   36          \n",
       "3 2 J06000104 2020-09-07  1641.4827          260                   32          \n",
       "4 3 J06000104 2020-09-09    66.5000          650                   33          \n",
       "5 4 J06000104 2020-09-11   608.0800          230                   36          \n",
       "6 5 J06000104 2020-09-13  1991.5646          160                   37          \n",
       "  ophosph_mg_l sample_ph_pre_ansis control_gc_l_mean reac_vol_control ⋯\n",
       "1 3.3          7.4                 22729300          2                ⋯\n",
       "2 4.2          7.4                 22729300          2                ⋯\n",
       "3 4.1          7.4                 22729300          2                ⋯\n",
       "4 4.2          7.4                 22729300          2                ⋯\n",
       "5 4.5          7.4                 22729300          2                ⋯\n",
       "6 4.6          7.4                 22729300          2                ⋯\n",
       "  sars_below_lod sars_below_loq reception_delay\n",
       "1 0              0              23.56667       \n",
       "2 0              0              20.88333       \n",
       "3 0              0              23.40000       \n",
       "4 0              0              23.78333       \n",
       "5 0              0              23.61667       \n",
       "6 0              0              24.46667       \n",
       "  catchment_population_ons_mid_2019 catchment_area catch_in_cis_prop\n",
       "1 58579                             75.71834       0.190042         \n",
       "2 58579                             75.71834       0.190042         \n",
       "3 58579                             75.71834       0.190042         \n",
       "4 58579                             75.71834       0.190042         \n",
       "5 58579                             75.71834       0.190042         \n",
       "6 58579                             75.71834       0.190042         \n",
       "  catch_cis_population median_prob ll         ul       \n",
       "1 58576.83             0.1632855   0.09930407 0.2683391\n",
       "2 58576.83             0.1871473   0.11667896 0.2993406\n",
       "3 58576.83             0.1990781   0.12536641 0.3148414\n",
       "4 58576.83             0.2229399   0.14274130 0.3458429\n",
       "5 58576.83             0.2536489   0.16576187 0.3854879\n",
       "6 58576.83             0.2912053   0.19442813 0.4337764"
      ]
     },
     "metadata": {},
     "output_type": "display_data"
    },
    {
     "data": {
      "text/html": [
       "<style>\n",
       ".list-inline {list-style: none; margin:0; padding: 0}\n",
       ".list-inline>li {display: inline-block}\n",
       ".list-inline>li:not(:last-child)::after {content: \"\\00b7\"; padding: 0 .5ex}\n",
       "</style>\n",
       "<ol class=list-inline><li>10284</li><li>119</li></ol>\n"
      ],
      "text/latex": [
       "\\begin{enumerate*}\n",
       "\\item 10284\n",
       "\\item 119\n",
       "\\end{enumerate*}\n"
      ],
      "text/markdown": [
       "1. 10284\n",
       "2. 119\n",
       "\n",
       "\n"
      ],
      "text/plain": [
       "[1] 10284   119"
      ]
     },
     "metadata": {},
     "output_type": "display_data"
    },
    {
     "data": {
      "text/html": [
       "<style>\n",
       ".list-inline {list-style: none; margin:0; padding: 0}\n",
       ".list-inline>li {display: inline-block}\n",
       ".list-inline>li:not(:last-child)::after {content: \"\\00b7\"; padding: 0 .5ex}\n",
       "</style>\n",
       "<ol class=list-inline><li>'x'</li><li>'startday'</li><li>'ww_site_code'</li><li>'sample_id'</li><li>'timestamp_cdw_processed'</li><li>'site_skey'</li><li>'date'</li><li>'time_sample_collected'</li><li>'date_sample_received'</li><li>'time_sample_received'</li><li>'date_sample_analysed'</li><li>'time_sample_analysed'</li><li>'date_sample_reported'</li><li>'time_sample_reported'</li><li>'sub_sample_volume_ml'</li><li>'temp_within_limits_ind'</li><li>'transit_within_limits_ind'</li><li>'target_gene_ind'</li><li>'ansis_control'</li><li>'reac_vol_sars'</li><li>'reac_vol_control'</li><li>'raw_ansis_sars_repc_1'</li><li>'raw_ansis_sars_repc_2'</li><li>'raw_ansis_sars_repc_3'</li><li>'raw_ansis_sars_repc_mean'</li><li>'raw_ansis_sars_repc_std'</li><li>'raw_ansis_sars_ct_repc_1'</li><li>'raw_ansis_sars_ct_repc_2'</li><li>'raw_ansis_sars_ct_repc_3'</li><li>'raw_ansis_control_repc_1'</li><li>'raw_ansis_control_repc_2'</li><li>'raw_ansis_control_repc_3'</li><li>'raw_ansis_control_ct_repc_1'</li><li>'raw_ansis_control_ct_repc_2'</li><li>'raw_ansis_control_ct_repc_3'</li><li>'raw_ansis_control_con_repc_1'</li><li>'raw_ansis_control_con_repc_2'</li><li>'raw_ansis_control_con_repc_3'</li><li>'raw_ansis_control_ct_con_repc_1'</li><li>'raw_ansis_control_ct_con_repc_2'</li><li>'raw_ansis_control_ct_con_repc_3'</li><li>'sars_cov2_gc_l_mean'</li><li>'control_gc_l_mean'</li><li>'lab_analysis_method'</li><li>'lod_sars_gc_l'</li><li>'lod_control_gc_l'</li><li>'lod_sars_ct'</li><li>'lod_control_ct'</li><li>'loq_sars_gc_l'</li><li>'loq_control_gc_l'</li><li>'loq_sars_ct'</li><li>'loq_control_ct'</li><li>'rna_detected_ind'</li><li>'analysis_lab_code'</li><li>'sample_ph_pre_ansis'</li><li>'conductivity_ms_cm'</li><li>'suspended_solids_mg_l'</li><li>'dry_matter_mg_l'</li><li>'ammonia_mg_l'</li><li>'ophosph_mg_l'</li><li>'turbidity_ntu'</li><li>'grab_compo_ind'</li><li>'autosample_volume_ml'</li><li>'compo_win_start_time'</li><li>'comp_collect_interval_min'</li><li>'lab_comments'</li><li>'sample_barcode_scan'</li><li>'date_compo_started'</li><li>'time_compo_started'</li><li>'date_compo_ended'</li><li>'time_compo_ended'</li><li>'flow_percentile_5'</li><li>'flow_percentile_95'</li><li>'flow_median'</li><li>'flow_normalised_sars_cov2_gc_l_mean'</li><li>'flow_normalised_sars_cov2_gc_l_mean_percentile_5'</li><li>'flow_normalised_sars_cov2_gc_l_mean_percentile_95'</li><li>'anomaly_type_code'</li><li>'anomaly_type_name'</li><li>'anomaly_type_description'</li><li>'site_type'</li><li>'catchment_population_ons_mid_2019'</li><li>'compo_frac'</li><li>'sars_below_lod'</li><li>'sars_below_loq'</li><li>'has_comments'</li><li>'lab_analysis_1_1_1'</li><li>'lab_analysis_1_1_2'</li><li>'lab_analysis_1_2_1'</li><li>'target_gene_n1'</li><li>'site_sewage_treatment_plant'</li><li>'water_company_abbr'</li><li>'water_company_aw'</li><li>'water_company_nw'</li><li>'water_company_st'</li><li>'water_company_sw'</li><li>'water_company_sws'</li><li>'water_company_tw'</li><li>'water_company_uu'</li><li>'water_company_ww'</li><li>'water_company_wxw'</li><li>'water_company_yw'</li><li>'reception_delay'</li><li>'year_coll'</li><li>'rep1na'</li><li>'rep2na'</li><li>'raw_ansis_sars_repc_mean_v2'</li><li>'repc_mean_check'</li><li>'sars_c'</li><li>'sars_cov2_gc_l_mean_v2'</li><li>'grab_compo_boo'</li><li>'catchment_area'</li><li>'dayofweek'</li><li>'cis20cd'</li><li>'catch_in_cis_prop'</li><li>'catch_cis_population'</li><li>'median_prob'</li><li>'ll'</li><li>'ul'</li></ol>\n"
      ],
      "text/latex": [
       "\\begin{enumerate*}\n",
       "\\item 'x'\n",
       "\\item 'startday'\n",
       "\\item 'ww\\_site\\_code'\n",
       "\\item 'sample\\_id'\n",
       "\\item 'timestamp\\_cdw\\_processed'\n",
       "\\item 'site\\_skey'\n",
       "\\item 'date'\n",
       "\\item 'time\\_sample\\_collected'\n",
       "\\item 'date\\_sample\\_received'\n",
       "\\item 'time\\_sample\\_received'\n",
       "\\item 'date\\_sample\\_analysed'\n",
       "\\item 'time\\_sample\\_analysed'\n",
       "\\item 'date\\_sample\\_reported'\n",
       "\\item 'time\\_sample\\_reported'\n",
       "\\item 'sub\\_sample\\_volume\\_ml'\n",
       "\\item 'temp\\_within\\_limits\\_ind'\n",
       "\\item 'transit\\_within\\_limits\\_ind'\n",
       "\\item 'target\\_gene\\_ind'\n",
       "\\item 'ansis\\_control'\n",
       "\\item 'reac\\_vol\\_sars'\n",
       "\\item 'reac\\_vol\\_control'\n",
       "\\item 'raw\\_ansis\\_sars\\_repc\\_1'\n",
       "\\item 'raw\\_ansis\\_sars\\_repc\\_2'\n",
       "\\item 'raw\\_ansis\\_sars\\_repc\\_3'\n",
       "\\item 'raw\\_ansis\\_sars\\_repc\\_mean'\n",
       "\\item 'raw\\_ansis\\_sars\\_repc\\_std'\n",
       "\\item 'raw\\_ansis\\_sars\\_ct\\_repc\\_1'\n",
       "\\item 'raw\\_ansis\\_sars\\_ct\\_repc\\_2'\n",
       "\\item 'raw\\_ansis\\_sars\\_ct\\_repc\\_3'\n",
       "\\item 'raw\\_ansis\\_control\\_repc\\_1'\n",
       "\\item 'raw\\_ansis\\_control\\_repc\\_2'\n",
       "\\item 'raw\\_ansis\\_control\\_repc\\_3'\n",
       "\\item 'raw\\_ansis\\_control\\_ct\\_repc\\_1'\n",
       "\\item 'raw\\_ansis\\_control\\_ct\\_repc\\_2'\n",
       "\\item 'raw\\_ansis\\_control\\_ct\\_repc\\_3'\n",
       "\\item 'raw\\_ansis\\_control\\_con\\_repc\\_1'\n",
       "\\item 'raw\\_ansis\\_control\\_con\\_repc\\_2'\n",
       "\\item 'raw\\_ansis\\_control\\_con\\_repc\\_3'\n",
       "\\item 'raw\\_ansis\\_control\\_ct\\_con\\_repc\\_1'\n",
       "\\item 'raw\\_ansis\\_control\\_ct\\_con\\_repc\\_2'\n",
       "\\item 'raw\\_ansis\\_control\\_ct\\_con\\_repc\\_3'\n",
       "\\item 'sars\\_cov2\\_gc\\_l\\_mean'\n",
       "\\item 'control\\_gc\\_l\\_mean'\n",
       "\\item 'lab\\_analysis\\_method'\n",
       "\\item 'lod\\_sars\\_gc\\_l'\n",
       "\\item 'lod\\_control\\_gc\\_l'\n",
       "\\item 'lod\\_sars\\_ct'\n",
       "\\item 'lod\\_control\\_ct'\n",
       "\\item 'loq\\_sars\\_gc\\_l'\n",
       "\\item 'loq\\_control\\_gc\\_l'\n",
       "\\item 'loq\\_sars\\_ct'\n",
       "\\item 'loq\\_control\\_ct'\n",
       "\\item 'rna\\_detected\\_ind'\n",
       "\\item 'analysis\\_lab\\_code'\n",
       "\\item 'sample\\_ph\\_pre\\_ansis'\n",
       "\\item 'conductivity\\_ms\\_cm'\n",
       "\\item 'suspended\\_solids\\_mg\\_l'\n",
       "\\item 'dry\\_matter\\_mg\\_l'\n",
       "\\item 'ammonia\\_mg\\_l'\n",
       "\\item 'ophosph\\_mg\\_l'\n",
       "\\item 'turbidity\\_ntu'\n",
       "\\item 'grab\\_compo\\_ind'\n",
       "\\item 'autosample\\_volume\\_ml'\n",
       "\\item 'compo\\_win\\_start\\_time'\n",
       "\\item 'comp\\_collect\\_interval\\_min'\n",
       "\\item 'lab\\_comments'\n",
       "\\item 'sample\\_barcode\\_scan'\n",
       "\\item 'date\\_compo\\_started'\n",
       "\\item 'time\\_compo\\_started'\n",
       "\\item 'date\\_compo\\_ended'\n",
       "\\item 'time\\_compo\\_ended'\n",
       "\\item 'flow\\_percentile\\_5'\n",
       "\\item 'flow\\_percentile\\_95'\n",
       "\\item 'flow\\_median'\n",
       "\\item 'flow\\_normalised\\_sars\\_cov2\\_gc\\_l\\_mean'\n",
       "\\item 'flow\\_normalised\\_sars\\_cov2\\_gc\\_l\\_mean\\_percentile\\_5'\n",
       "\\item 'flow\\_normalised\\_sars\\_cov2\\_gc\\_l\\_mean\\_percentile\\_95'\n",
       "\\item 'anomaly\\_type\\_code'\n",
       "\\item 'anomaly\\_type\\_name'\n",
       "\\item 'anomaly\\_type\\_description'\n",
       "\\item 'site\\_type'\n",
       "\\item 'catchment\\_population\\_ons\\_mid\\_2019'\n",
       "\\item 'compo\\_frac'\n",
       "\\item 'sars\\_below\\_lod'\n",
       "\\item 'sars\\_below\\_loq'\n",
       "\\item 'has\\_comments'\n",
       "\\item 'lab\\_analysis\\_1\\_1\\_1'\n",
       "\\item 'lab\\_analysis\\_1\\_1\\_2'\n",
       "\\item 'lab\\_analysis\\_1\\_2\\_1'\n",
       "\\item 'target\\_gene\\_n1'\n",
       "\\item 'site\\_sewage\\_treatment\\_plant'\n",
       "\\item 'water\\_company\\_abbr'\n",
       "\\item 'water\\_company\\_aw'\n",
       "\\item 'water\\_company\\_nw'\n",
       "\\item 'water\\_company\\_st'\n",
       "\\item 'water\\_company\\_sw'\n",
       "\\item 'water\\_company\\_sws'\n",
       "\\item 'water\\_company\\_tw'\n",
       "\\item 'water\\_company\\_uu'\n",
       "\\item 'water\\_company\\_ww'\n",
       "\\item 'water\\_company\\_wxw'\n",
       "\\item 'water\\_company\\_yw'\n",
       "\\item 'reception\\_delay'\n",
       "\\item 'year\\_coll'\n",
       "\\item 'rep1na'\n",
       "\\item 'rep2na'\n",
       "\\item 'raw\\_ansis\\_sars\\_repc\\_mean\\_v2'\n",
       "\\item 'repc\\_mean\\_check'\n",
       "\\item 'sars\\_c'\n",
       "\\item 'sars\\_cov2\\_gc\\_l\\_mean\\_v2'\n",
       "\\item 'grab\\_compo\\_boo'\n",
       "\\item 'catchment\\_area'\n",
       "\\item 'dayofweek'\n",
       "\\item 'cis20cd'\n",
       "\\item 'catch\\_in\\_cis\\_prop'\n",
       "\\item 'catch\\_cis\\_population'\n",
       "\\item 'median\\_prob'\n",
       "\\item 'll'\n",
       "\\item 'ul'\n",
       "\\end{enumerate*}\n"
      ],
      "text/markdown": [
       "1. 'x'\n",
       "2. 'startday'\n",
       "3. 'ww_site_code'\n",
       "4. 'sample_id'\n",
       "5. 'timestamp_cdw_processed'\n",
       "6. 'site_skey'\n",
       "7. 'date'\n",
       "8. 'time_sample_collected'\n",
       "9. 'date_sample_received'\n",
       "10. 'time_sample_received'\n",
       "11. 'date_sample_analysed'\n",
       "12. 'time_sample_analysed'\n",
       "13. 'date_sample_reported'\n",
       "14. 'time_sample_reported'\n",
       "15. 'sub_sample_volume_ml'\n",
       "16. 'temp_within_limits_ind'\n",
       "17. 'transit_within_limits_ind'\n",
       "18. 'target_gene_ind'\n",
       "19. 'ansis_control'\n",
       "20. 'reac_vol_sars'\n",
       "21. 'reac_vol_control'\n",
       "22. 'raw_ansis_sars_repc_1'\n",
       "23. 'raw_ansis_sars_repc_2'\n",
       "24. 'raw_ansis_sars_repc_3'\n",
       "25. 'raw_ansis_sars_repc_mean'\n",
       "26. 'raw_ansis_sars_repc_std'\n",
       "27. 'raw_ansis_sars_ct_repc_1'\n",
       "28. 'raw_ansis_sars_ct_repc_2'\n",
       "29. 'raw_ansis_sars_ct_repc_3'\n",
       "30. 'raw_ansis_control_repc_1'\n",
       "31. 'raw_ansis_control_repc_2'\n",
       "32. 'raw_ansis_control_repc_3'\n",
       "33. 'raw_ansis_control_ct_repc_1'\n",
       "34. 'raw_ansis_control_ct_repc_2'\n",
       "35. 'raw_ansis_control_ct_repc_3'\n",
       "36. 'raw_ansis_control_con_repc_1'\n",
       "37. 'raw_ansis_control_con_repc_2'\n",
       "38. 'raw_ansis_control_con_repc_3'\n",
       "39. 'raw_ansis_control_ct_con_repc_1'\n",
       "40. 'raw_ansis_control_ct_con_repc_2'\n",
       "41. 'raw_ansis_control_ct_con_repc_3'\n",
       "42. 'sars_cov2_gc_l_mean'\n",
       "43. 'control_gc_l_mean'\n",
       "44. 'lab_analysis_method'\n",
       "45. 'lod_sars_gc_l'\n",
       "46. 'lod_control_gc_l'\n",
       "47. 'lod_sars_ct'\n",
       "48. 'lod_control_ct'\n",
       "49. 'loq_sars_gc_l'\n",
       "50. 'loq_control_gc_l'\n",
       "51. 'loq_sars_ct'\n",
       "52. 'loq_control_ct'\n",
       "53. 'rna_detected_ind'\n",
       "54. 'analysis_lab_code'\n",
       "55. 'sample_ph_pre_ansis'\n",
       "56. 'conductivity_ms_cm'\n",
       "57. 'suspended_solids_mg_l'\n",
       "58. 'dry_matter_mg_l'\n",
       "59. 'ammonia_mg_l'\n",
       "60. 'ophosph_mg_l'\n",
       "61. 'turbidity_ntu'\n",
       "62. 'grab_compo_ind'\n",
       "63. 'autosample_volume_ml'\n",
       "64. 'compo_win_start_time'\n",
       "65. 'comp_collect_interval_min'\n",
       "66. 'lab_comments'\n",
       "67. 'sample_barcode_scan'\n",
       "68. 'date_compo_started'\n",
       "69. 'time_compo_started'\n",
       "70. 'date_compo_ended'\n",
       "71. 'time_compo_ended'\n",
       "72. 'flow_percentile_5'\n",
       "73. 'flow_percentile_95'\n",
       "74. 'flow_median'\n",
       "75. 'flow_normalised_sars_cov2_gc_l_mean'\n",
       "76. 'flow_normalised_sars_cov2_gc_l_mean_percentile_5'\n",
       "77. 'flow_normalised_sars_cov2_gc_l_mean_percentile_95'\n",
       "78. 'anomaly_type_code'\n",
       "79. 'anomaly_type_name'\n",
       "80. 'anomaly_type_description'\n",
       "81. 'site_type'\n",
       "82. 'catchment_population_ons_mid_2019'\n",
       "83. 'compo_frac'\n",
       "84. 'sars_below_lod'\n",
       "85. 'sars_below_loq'\n",
       "86. 'has_comments'\n",
       "87. 'lab_analysis_1_1_1'\n",
       "88. 'lab_analysis_1_1_2'\n",
       "89. 'lab_analysis_1_2_1'\n",
       "90. 'target_gene_n1'\n",
       "91. 'site_sewage_treatment_plant'\n",
       "92. 'water_company_abbr'\n",
       "93. 'water_company_aw'\n",
       "94. 'water_company_nw'\n",
       "95. 'water_company_st'\n",
       "96. 'water_company_sw'\n",
       "97. 'water_company_sws'\n",
       "98. 'water_company_tw'\n",
       "99. 'water_company_uu'\n",
       "100. 'water_company_ww'\n",
       "101. 'water_company_wxw'\n",
       "102. 'water_company_yw'\n",
       "103. 'reception_delay'\n",
       "104. 'year_coll'\n",
       "105. 'rep1na'\n",
       "106. 'rep2na'\n",
       "107. 'raw_ansis_sars_repc_mean_v2'\n",
       "108. 'repc_mean_check'\n",
       "109. 'sars_c'\n",
       "110. 'sars_cov2_gc_l_mean_v2'\n",
       "111. 'grab_compo_boo'\n",
       "112. 'catchment_area'\n",
       "113. 'dayofweek'\n",
       "114. 'cis20cd'\n",
       "115. 'catch_in_cis_prop'\n",
       "116. 'catch_cis_population'\n",
       "117. 'median_prob'\n",
       "118. 'll'\n",
       "119. 'ul'\n",
       "\n",
       "\n"
      ],
      "text/plain": [
       "  [1] \"x\"                                                \n",
       "  [2] \"startday\"                                         \n",
       "  [3] \"ww_site_code\"                                     \n",
       "  [4] \"sample_id\"                                        \n",
       "  [5] \"timestamp_cdw_processed\"                          \n",
       "  [6] \"site_skey\"                                        \n",
       "  [7] \"date\"                                             \n",
       "  [8] \"time_sample_collected\"                            \n",
       "  [9] \"date_sample_received\"                             \n",
       " [10] \"time_sample_received\"                             \n",
       " [11] \"date_sample_analysed\"                             \n",
       " [12] \"time_sample_analysed\"                             \n",
       " [13] \"date_sample_reported\"                             \n",
       " [14] \"time_sample_reported\"                             \n",
       " [15] \"sub_sample_volume_ml\"                             \n",
       " [16] \"temp_within_limits_ind\"                           \n",
       " [17] \"transit_within_limits_ind\"                        \n",
       " [18] \"target_gene_ind\"                                  \n",
       " [19] \"ansis_control\"                                    \n",
       " [20] \"reac_vol_sars\"                                    \n",
       " [21] \"reac_vol_control\"                                 \n",
       " [22] \"raw_ansis_sars_repc_1\"                            \n",
       " [23] \"raw_ansis_sars_repc_2\"                            \n",
       " [24] \"raw_ansis_sars_repc_3\"                            \n",
       " [25] \"raw_ansis_sars_repc_mean\"                         \n",
       " [26] \"raw_ansis_sars_repc_std\"                          \n",
       " [27] \"raw_ansis_sars_ct_repc_1\"                         \n",
       " [28] \"raw_ansis_sars_ct_repc_2\"                         \n",
       " [29] \"raw_ansis_sars_ct_repc_3\"                         \n",
       " [30] \"raw_ansis_control_repc_1\"                         \n",
       " [31] \"raw_ansis_control_repc_2\"                         \n",
       " [32] \"raw_ansis_control_repc_3\"                         \n",
       " [33] \"raw_ansis_control_ct_repc_1\"                      \n",
       " [34] \"raw_ansis_control_ct_repc_2\"                      \n",
       " [35] \"raw_ansis_control_ct_repc_3\"                      \n",
       " [36] \"raw_ansis_control_con_repc_1\"                     \n",
       " [37] \"raw_ansis_control_con_repc_2\"                     \n",
       " [38] \"raw_ansis_control_con_repc_3\"                     \n",
       " [39] \"raw_ansis_control_ct_con_repc_1\"                  \n",
       " [40] \"raw_ansis_control_ct_con_repc_2\"                  \n",
       " [41] \"raw_ansis_control_ct_con_repc_3\"                  \n",
       " [42] \"sars_cov2_gc_l_mean\"                              \n",
       " [43] \"control_gc_l_mean\"                                \n",
       " [44] \"lab_analysis_method\"                              \n",
       " [45] \"lod_sars_gc_l\"                                    \n",
       " [46] \"lod_control_gc_l\"                                 \n",
       " [47] \"lod_sars_ct\"                                      \n",
       " [48] \"lod_control_ct\"                                   \n",
       " [49] \"loq_sars_gc_l\"                                    \n",
       " [50] \"loq_control_gc_l\"                                 \n",
       " [51] \"loq_sars_ct\"                                      \n",
       " [52] \"loq_control_ct\"                                   \n",
       " [53] \"rna_detected_ind\"                                 \n",
       " [54] \"analysis_lab_code\"                                \n",
       " [55] \"sample_ph_pre_ansis\"                              \n",
       " [56] \"conductivity_ms_cm\"                               \n",
       " [57] \"suspended_solids_mg_l\"                            \n",
       " [58] \"dry_matter_mg_l\"                                  \n",
       " [59] \"ammonia_mg_l\"                                     \n",
       " [60] \"ophosph_mg_l\"                                     \n",
       " [61] \"turbidity_ntu\"                                    \n",
       " [62] \"grab_compo_ind\"                                   \n",
       " [63] \"autosample_volume_ml\"                             \n",
       " [64] \"compo_win_start_time\"                             \n",
       " [65] \"comp_collect_interval_min\"                        \n",
       " [66] \"lab_comments\"                                     \n",
       " [67] \"sample_barcode_scan\"                              \n",
       " [68] \"date_compo_started\"                               \n",
       " [69] \"time_compo_started\"                               \n",
       " [70] \"date_compo_ended\"                                 \n",
       " [71] \"time_compo_ended\"                                 \n",
       " [72] \"flow_percentile_5\"                                \n",
       " [73] \"flow_percentile_95\"                               \n",
       " [74] \"flow_median\"                                      \n",
       " [75] \"flow_normalised_sars_cov2_gc_l_mean\"              \n",
       " [76] \"flow_normalised_sars_cov2_gc_l_mean_percentile_5\" \n",
       " [77] \"flow_normalised_sars_cov2_gc_l_mean_percentile_95\"\n",
       " [78] \"anomaly_type_code\"                                \n",
       " [79] \"anomaly_type_name\"                                \n",
       " [80] \"anomaly_type_description\"                         \n",
       " [81] \"site_type\"                                        \n",
       " [82] \"catchment_population_ons_mid_2019\"                \n",
       " [83] \"compo_frac\"                                       \n",
       " [84] \"sars_below_lod\"                                   \n",
       " [85] \"sars_below_loq\"                                   \n",
       " [86] \"has_comments\"                                     \n",
       " [87] \"lab_analysis_1_1_1\"                               \n",
       " [88] \"lab_analysis_1_1_2\"                               \n",
       " [89] \"lab_analysis_1_2_1\"                               \n",
       " [90] \"target_gene_n1\"                                   \n",
       " [91] \"site_sewage_treatment_plant\"                      \n",
       " [92] \"water_company_abbr\"                               \n",
       " [93] \"water_company_aw\"                                 \n",
       " [94] \"water_company_nw\"                                 \n",
       " [95] \"water_company_st\"                                 \n",
       " [96] \"water_company_sw\"                                 \n",
       " [97] \"water_company_sws\"                                \n",
       " [98] \"water_company_tw\"                                 \n",
       " [99] \"water_company_uu\"                                 \n",
       "[100] \"water_company_ww\"                                 \n",
       "[101] \"water_company_wxw\"                                \n",
       "[102] \"water_company_yw\"                                 \n",
       "[103] \"reception_delay\"                                  \n",
       "[104] \"year_coll\"                                        \n",
       "[105] \"rep1na\"                                           \n",
       "[106] \"rep2na\"                                           \n",
       "[107] \"raw_ansis_sars_repc_mean_v2\"                      \n",
       "[108] \"repc_mean_check\"                                  \n",
       "[109] \"sars_c\"                                           \n",
       "[110] \"sars_cov2_gc_l_mean_v2\"                           \n",
       "[111] \"grab_compo_boo\"                                   \n",
       "[112] \"catchment_area\"                                   \n",
       "[113] \"dayofweek\"                                        \n",
       "[114] \"cis20cd\"                                          \n",
       "[115] \"catch_in_cis_prop\"                                \n",
       "[116] \"catch_cis_population\"                             \n",
       "[117] \"median_prob\"                                      \n",
       "[118] \"ll\"                                               \n",
       "[119] \"ul\"                                               "
      ]
     },
     "metadata": {},
     "output_type": "display_data"
    }
   ],
   "source": [
    "# read in data\n",
    "datadir <- c(\"/home/ec2-user/SageMaker/jbc-wastewater-analysis/data/\")\n",
    "datagg <- read.csv(paste0(datadir,\"agg_data_inner_11_cis_mar22.csv\")) %>% clean_names()\n",
    "dim(datagg)\n",
    "head(datagg)\n",
    "datraw <- read.csv(paste0(datadir,\"raw_data_ww_10_cis_mar22.csv\")) %>% clean_names()\n",
    "dim(datraw)\n",
    "#names(datraw)"
   ]
  },
  {
   "cell_type": "code",
   "execution_count": 10,
   "id": "79f62d3c",
   "metadata": {},
   "outputs": [
    {
     "name": "stdout",
     "output_type": "stream",
     "text": [
      " [1] \"J06000104\" \"J06000105\" \"J06000106\" \"J06000107\" \"J06000108\" \"J06000109\"\n",
      " [7] \"J06000110\" \"J06000111\" \"J06000112\" \"J06000113\" \"J06000114\" \"J06000115\"\n",
      "[13] \"J06000116\" \"J06000117\" \"J06000118\" \"J06000119\" \"J06000120\" \"J06000121\"\n"
     ]
    }
   ],
   "source": [
    "#table(datraw$cis20cd)\n",
    "# select the relevant values\n"
   ]
  },
  {
   "cell_type": "code",
   "execution_count": 47,
   "id": "5ac9368a",
   "metadata": {},
   "outputs": [
    {
     "name": "stdout",
     "output_type": "stream",
     "text": [
      " [1] \"J06000104\" \"J06000105\" \"J06000107\" \"J06000108\" \"J06000109\" \"J06000110\"\n",
      " [7] \"J06000111\" \"J06000112\" \"J06000113\" \"J06000114\" \"J06000115\" \"J06000116\"\n",
      "[13] \"J06000117\" \"J06000118\" \"J06000119\" \"J06000120\" \"J06000121\"\n",
      " [1] \"2020-09-04\" \"2020-09-06\" \"2020-09-07\" \"2020-09-09\" \"2020-09-11\"\n",
      " [6] \"2020-09-13\" \"2020-09-14\" \"2020-09-16\" \"2020-09-18\" \"2020-09-20\"\n",
      "[1] \"Date\"\n",
      "[1] 1\n",
      "[1] 2\n",
      "[1] 3\n",
      "[1] 4\n",
      "[1] 5\n",
      "[1] 6\n"
     ]
    },
    {
     "data": {
      "text/html": [
       "<strong>png:</strong> 2"
      ],
      "text/latex": [
       "\\textbf{png:} 2"
      ],
      "text/markdown": [
       "**png:** 2"
      ],
      "text/plain": [
       "png \n",
       "  2 "
      ]
     },
     "metadata": {},
     "output_type": "display_data"
    },
    {
     "name": "stdout",
     "output_type": "stream",
     "text": [
      "[1] \"J06000109\" \"J06000110\" \"J06000126\" \"J06000127\" \"J06000153\" \"J06000157\"\n",
      "[1] 1\n",
      "[1] 2\n",
      "[1] 3\n",
      "[1] 4\n",
      "[1] 5\n",
      "[1] 6\n"
     ]
    },
    {
     "data": {
      "text/html": [
       "<strong>png:</strong> 2"
      ],
      "text/latex": [
       "\\textbf{png:} 2"
      ],
      "text/markdown": [
       "**png:** 2"
      ],
      "text/plain": [
       "png \n",
       "  2 "
      ]
     },
     "metadata": {},
     "output_type": "display_data"
    }
   ],
   "source": [
    "cisv <- paste0(\"J06000\",104:121)[c(-3)]\n",
    "print(cisv)\n",
    "# do a subplot?\n",
    "datraw$date <- as.Date((datraw$date),'%Y-%m-%d')\n",
    "#print(tmp)\n",
    "datagg$date <- as.Date((datagg$date),'%Y-%m-%d')\n",
    "\n",
    "print(datraw$date2[1:10])\n",
    "print(class(datagg$date))\n",
    "\n",
    "#print(tmp[1:10])\n",
    "pdf(\"check_raw_agg_data_1mapping.pdf\",height=9,width=12)\n",
    "par(mfrow=c(2,3))\n",
    "for(i in 1:6){\n",
    "    # raw\n",
    "    tmp1 <- datraw %>% filter(cis20cd==cisv[i])\n",
    "    plot(tmp1$date2,tmp1$sars_cov2_gc_l_mean,pch=19,\n",
    "         col='black',main=cisv[i],\n",
    "        xlab=\"Date\",ylab=\"Sars-Cov-2 in WW (gc/l)\")\n",
    "    # agg\n",
    "    tmp2 <- datagg %>% filter(cis20cd==cisv[i])\n",
    "    #print(dim(tmp2))\n",
    "    points(tmp2$date,tmp2$sars_cov2_gc_l_mean,pch=23,col='green3')\n",
    "    print(i)\n",
    "}\n",
    "dev.off()\n",
    "\n",
    "cisv <- paste0(\"J06000\",c(109,110,126,127,153,157))\n",
    "print(cisv)\n",
    "pdf(\"check_raw_agg_data_2mapping.pdf\",height=9,width=12)\n",
    "par(mfrow=c(2,3))\n",
    "for(i in 1:6){\n",
    "    # raw\n",
    "    tmp1 <- datraw %>% filter(cis20cd==cisv[i])\n",
    "    vals <- names(table(tmp1$ww_site_code))\n",
    "    plot(tmp1$date2[tmp1$ww_site_code==vals[1]],\n",
    "         tmp1$sars_cov2_gc_l_mean[tmp1$ww_site_code==vals[1]],pch=19,\n",
    "         col='black',main=cisv[i],\n",
    "        xlab=\"Date\",ylab=\"Sars-Cov-2 in WW (gc/l)\")\n",
    "    points(tmp1$date2[tmp1$ww_site_code==vals[2]],\n",
    "         tmp1$sars_cov2_gc_l_mean[tmp1$ww_site_code==vals[2]],pch=19,\n",
    "         col='blue',main=cisv[i])\n",
    "    # agg\n",
    "    tmp2 <- datagg %>% filter(cis20cd==cisv[i])\n",
    "    #print(dim(tmp2))\n",
    "    points(tmp2$date,tmp2$sars_cov2_gc_l_mean,pch=23,col='green3')\n",
    "    print(i)\n",
    "}\n",
    "dev.off()\n"
   ]
  },
  {
   "cell_type": "code",
   "execution_count": null,
   "id": "5da3ae3b",
   "metadata": {},
   "outputs": [],
   "source": []
  }
 ],
 "metadata": {
  "kernelspec": {
   "display_name": "R",
   "language": "R",
   "name": "ir"
  },
  "language_info": {
   "codemirror_mode": "r",
   "file_extension": ".r",
   "mimetype": "text/x-r-source",
   "name": "R",
   "pygments_lexer": "r",
   "version": "4.1.0"
  }
 },
 "nbformat": 4,
 "nbformat_minor": 5
}
