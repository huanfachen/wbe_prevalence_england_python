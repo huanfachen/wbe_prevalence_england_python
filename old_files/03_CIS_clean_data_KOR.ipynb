{
 "cells": [
  {
   "cell_type": "markdown",
   "id": "1988bca7",
   "metadata": {},
   "source": [
    "### Preparing dataset"
   ]
  },
  {
   "cell_type": "code",
   "execution_count": 93,
   "id": "7f4af080",
   "metadata": {},
   "outputs": [],
   "source": [
    "variable_labels = {\n",
    "    'sars_cov2_gc_l_mean': 'SARS-CoV-2 concentration',\n",
    "    'sample_ph_pre_ansis':'sample pH',\n",
    "    'ammonia_mg_l':'ammonia concentration',\n",
    "    'control_gc_l_mean':'control volume',\n",
    "    'ophosph_mg_l':'phosphate concentration',\n",
    "    'suspended_solids_mg_l':'suspended solids',\n",
    "    'sars_below_loq':'below LOQ',\n",
    "    'sars_below_lod':'below LOD',\n",
    "    'compo_frac':'composites fraction',\n",
    "    'reception_delay':'reception delay',\n",
    "    'catch_cis_population':'covered population',\n",
    "    'catch_in_cis_prop':'subregion population fraction',\n",
    "    \"catchment_population_ons_mid_2019\": \"catchment population\",\n",
    "    \"catchment_area\": 'catchment area'\n",
    "}"
   ]
  },
  {
   "cell_type": "code",
   "execution_count": 94,
   "id": "90e944ab",
   "metadata": {},
   "outputs": [],
   "source": [
    "import numpy as np\n",
    "import pandas as pd\n",
    "import sklearn \n",
    "import scipy\n",
    "import geopandas as gpd\n",
    "\n",
    "import datetime\n",
    "import matplotlib.pylab as plt\n",
    "import wastewater as ww\n",
    "from wastewater.ml_utils import Dataset, RandomIntercepts, RandomEffects"
   ]
  },
  {
   "cell_type": "code",
   "execution_count": 95,
   "id": "8347ef2f",
   "metadata": {},
   "outputs": [
    {
     "name": "stderr",
     "output_type": "stream",
     "text": [
      "/home/ec2-user/SageMaker/jbc-wastewater-analysis/wastewater/data/loading_cis.py:19: UserWarning: Data not yet ingested properly, please change the link to ingested dataset as soon as possible.\n",
      "  warnings.warn('Data not yet ingested properly, please change the link to ingested dataset as soon as possible.')\n",
      "/home/ec2-user/SageMaker/jbc-wastewater-analysis/wastewater/data/loading_cis.py:32: FutureWarning: In a future version of pandas all arguments of DataFrame.drop except for the argument 'labels' will be keyword-only\n",
      "  df_cis = df_cis.drop(df_cis.columns[0], 1)\n",
      "/home/ec2-user/SageMaker/jbc-wastewater-analysis/wastewater/data/loading_cis.py:33: FutureWarning: In a future version of pandas all arguments of DataFrame.drop except for the argument 'labels' will be keyword-only\n",
      "  df_cis = df_cis.drop(['CIS.name', 'RGN19CD'],1).merge(df_cis[['cis_num', 'CIS.name', 'RGN19CD']].drop_duplicates().dropna())\n"
     ]
    },
    {
     "name": "stdout",
     "output_type": "stream",
     "text": [
      "Loading latest flow normalisation file: 20220322_EXPORT_SARS_COV2_FLOW_NORMALISATION.csv\n",
      "Loading latest anomaly file: 20211018_EXPORT_SARS_COV2_CONCENTRATION_ANOMALY.csv\n",
      "Missing values (-2 convention) have been replaced by nan\n",
      "Samples to be rerun (-1 convention) have been replaced by nan\n",
      "599 samples with wrong or missing dates (date_sample_collected) have been removed.\n",
      "Selected 311 sites after filter on SEWAGE TREATMENT PLANT (site_type)\n",
      "Selected 306 sites after filter on UK* codes\n",
      "Selected 45 sites with first sample before 2021-01-01\n",
      "LOD ([-4]) and LOQ ([-3, 0]) codes for ['flow_normalised_sars_cov2_gc_l_mean', 'sars_cov2_gc_l_mean'] have been replaced by LOD/2 and LOQ/2 respectively, using default values of LOD=133 and LOQ=1333 where missing in data.\n"
     ]
    },
    {
     "name": "stderr",
     "output_type": "stream",
     "text": [
      "/home/ec2-user/SageMaker/jbc-wastewater-analysis/wastewater/preprocessing.py:476: FutureWarning: The pandas.datetime class is deprecated and will be removed from pandas in a future version. Import from datetime module instead.\n",
      "  reception_time = pd.to_datetime(df_ww.time_sample_received.astype(str).str.pad(4, fillchar='0'), format='%H%M')- pd.datetime(1900,1,1)\n",
      "/home/ec2-user/SageMaker/jbc-wastewater-analysis/wastewater/preprocessing.py:477: FutureWarning: The pandas.datetime class is deprecated and will be removed from pandas in a future version. Import from datetime module instead.\n",
      "  collection_time = pd.to_datetime(df_ww.time_sample_collected.astype(str).str.pad(4, fillchar='0'), format='%H%M')- pd.datetime(1900,1,1)\n"
     ]
    }
   ],
   "source": [
    "# CIS Data\n",
    "df_cis = ww.load_cis(daily=False).rename(columns={'CIS.name':\"CIS20CD\"})\n",
    "df_cis_interpolated = ww.load_cis(daily=True, kind='linear').rename(columns={'CIS.name':\"CIS20CD\"})\n",
    "\n",
    "# Preprocess WW data\n",
    "df_ww = ww.read_ww()\n",
    "df_ww.to_csv(f'{ww.data_dir}/raw_data_1_dec21.csv')      # example saving to data_dir\n",
    "df_ww = ww.drop_wrong_dates(df_ww)\n",
    "df_ww.to_csv(f'{ww.data_dir}/raw_data_2_dec21.csv')      # example saving to data_dir\n",
    "df_ww = ww.select_specific_sites(df_ww)\n",
    "df_ww.to_csv(f'{ww.data_dir}/raw_data_3_dec21.csv') # example saving to data_dir\n",
    "df_ww = ww.select_sites_sampled_before(df_ww, '2021-01-01')\n",
    "df_ww.to_csv(f'{ww.data_dir}/raw_data_4_dec21.csv') # example saving to data_dir\n",
    "df_ww =  df_ww.merge(ww.read_sites()[['ww_site_code', 'catchment_population_ons_mid_2019', 'ww_catchment_code']])\n",
    "df_ww.to_csv(f'{ww.data_dir}/raw_data_5_dec21.csv')\n",
    "df_ww = df_ww.drop_duplicates(subset=['date_sample_collected', 'ww_site_code'])\n",
    "df_ww.to_csv(f'{ww.data_dir}/raw_data_6_dec21.csv') \n",
    "# it would be preferable here to change the calculation of SARS-CoV-2 gc/l for those without replicate data\n",
    "df_ww = ww.replace_loq_lod(df_ww, 133, 1333)\n",
    "df_ww.loc[df_ww.ophosph_mg_l==-3, 'ophosph_mg_l'] = np.nan\n",
    "df_ww = ww.add_new_ww_features(df_ww, reception_delay=True)\n",
    "df_ww.to_csv(f'{ww.data_dir}/raw_data_7_dec21.csv') # example saving to data_dir\n",
    "\n"
   ]
  },
  {
   "cell_type": "code",
   "execution_count": 96,
   "id": "48bb1fdd",
   "metadata": {},
   "outputs": [
    {
     "name": "stdout",
     "output_type": "stream",
     "text": [
      "count    12832.000000\n",
      "mean        65.945461\n",
      "std        213.362472\n",
      "min         -4.000000\n",
      "25%         -3.000000\n",
      "50%          9.033613\n",
      "75%         40.686093\n",
      "max       5059.119141\n",
      "Name: raw_ansis_sars_repc_1, dtype: float64\n",
      "14441\n",
      "first replicate =  1609  and  11.14 %\n",
      "second replicate =  1609  and  11.14 %\n"
     ]
    }
   ],
   "source": [
    "# check whether replicate data pre-freb 2021 are loaded in\n",
    "# below doesn't 'quite' get to it, but ~10% samples are with NAs, so that's ok\n",
    "df_ww.head()\n",
    "# list(df_ww.columns)\n",
    "# 'raw_ansis_sars_repc_1',\n",
    "# 'raw_ansis_sars_repc_2',\n",
    "print(df_ww['raw_ansis_sars_repc_1'].describe())\n",
    "nas1 = df_ww['raw_ansis_sars_repc_1'].isna().sum()\n",
    "nas2 = df_ww['raw_ansis_sars_repc_2'].isna().sum()\n",
    "rows = len(df_ww)\n",
    "print(rows)\n",
    "print('first replicate = ',nas1,' and ', round(100*(nas1/rows),2),'%')\n",
    "print('second replicate = ',nas2,' and ', round(100*(nas2/rows),2),'%')"
   ]
  },
  {
   "cell_type": "code",
   "execution_count": 97,
   "id": "8eabdd34",
   "metadata": {},
   "outputs": [
    {
     "name": "stdout",
     "output_type": "stream",
     "text": [
      "year_coll  rep1na\n",
      "2020       False     3376\n",
      "           True       745\n",
      "2021       False     7712\n",
      "           True       803\n",
      "2022       False     1744\n",
      "           True        61\n",
      "dtype: int64\n"
     ]
    }
   ],
   "source": [
    "# add in year of collection from date\n",
    "df_ww['year_coll'] = pd.DatetimeIndex(df_ww['date_sample_collected']).year\n",
    "df_ww['rep1na'] = df_ww['raw_ansis_sars_repc_1'].isna()\n",
    "df_ww['rep2na'] = df_ww['raw_ansis_sars_repc_2'].isna()\n",
    "# create a table of observations\n",
    "#print(df_ww['year_coll'].value_counts())\n",
    "#print(df_ww['rep1na'].value_counts())\n",
    "# to have NAs by year of collection I think I need to..\n",
    "# - create a variable 0/1 of whether replicate is NA or not\n",
    "# - create a table = df_ww.groupby('year_coll','is_na').size()\n",
    "table = df_ww.groupby(['year_coll','rep1na']).size()\n",
    "print(table)"
   ]
  },
  {
   "cell_type": "code",
   "execution_count": 98,
   "id": "f2d8ffbc",
   "metadata": {
    "scrolled": true
   },
   "outputs": [
    {
     "name": "stdout",
     "output_type": "stream",
     "text": [
      "count    1.283000e+04\n",
      "mean    -3.645851e-01\n",
      "std      1.513021e+00\n",
      "min     -2.813997e+01\n",
      "25%     -9.536743e-07\n",
      "50%      0.000000e+00\n",
      "75%      0.000000e+00\n",
      "max      2.845380e+01\n",
      "Name: repc_mean_check, dtype: float64\n",
      "This number of values are incorrectly calculated 9277 and percentage 64.24070355238557\n"
     ]
    }
   ],
   "source": [
    "# check how the mean value s calculated, and update if it isn't correct.\n",
    "# raw_ansis_sars_repc_mean\n",
    "# df_ww['raw_ansis_sars_repc_mean_v2'] = (df_ww['raw_ansis_sars_repc_1'] + df_ww['raw_ansis_sars_repc_2'])/2\n",
    "# need to select obs where only 1 rep is available, and update\n",
    " \n",
    "def my_repfun (var1,var2,var3):\n",
    "    df_ww[var3] = np.where((df_ww[var1]<0), df_ww[var2], (df_ww[var1]+df_ww[var2])/2) # if values of var1 <0, use var2 only \n",
    "    df_ww[var3] = np.where((df_ww[var2]<0), df_ww[var1], df_ww[var3]) # if values of var2 <0, use var3 only, now that we have made it \n",
    "    df_ww[var3] = np.where((df_ww[var1].isna()), df_ww[var2], df_ww[var3]) # if values of var2 <0, use var3 only, now that we have made it \n",
    "    df_ww[var3] = np.where((df_ww[var2].isna()), df_ww[var1], df_ww[var3]) # if values of var2 <0, use var3 only, now that we have made it \n",
    "    return df_ww\n",
    "\n",
    "df_ww = my_repfun('raw_ansis_sars_repc_1','raw_ansis_sars_repc_2','raw_ansis_sars_repc_mean_v2')\n",
    "df_ww['repc_mean_check'] = df_ww['raw_ansis_sars_repc_mean'] - df_ww['raw_ansis_sars_repc_mean_v2']\n",
    "print(df_ww['repc_mean_check'].describe())\n",
    "tmp = sum(df_ww['repc_mean_check']!=0)\n",
    "print('This number of values are incorrectly calculated',tmp,'and percentage',100*(tmp/rows))\n",
    "\n",
    "# well ... this hasn't been corrected!"
   ]
  },
  {
   "cell_type": "code",
   "execution_count": 99,
   "id": "96ec06be",
   "metadata": {},
   "outputs": [
    {
     "data": {
      "image/png": "[encoded data removed]",
      "text/plain": [
       "<Figure size 648x432 with 1 Axes>"
      ]
     },
     "metadata": {
      "needs_background": "light"
     },
     "output_type": "display_data"
    }
   ],
   "source": [
    "# correct the sars_cov2_gc_l_mean here..\n",
    "df_ww['sars_c'] = df_ww['sars_cov2_gc_l_mean']/df_ww['raw_ansis_sars_repc_mean']\n",
    "df_ww['sars_cov2_gc_l_mean_v2'] = df_ww['raw_ansis_sars_repc_mean_v2']*df_ww['sars_c']\n",
    "# scatter plot\n",
    "\n",
    "fig, ax = plt.subplots(figsize=(9,6))\n",
    "ax.scatter(df_ww['sars_cov2_gc_l_mean_v2'],df_ww['sars_cov2_gc_l_mean'])\n",
    "ax.set_xscale(\"log\")\n",
    "ax.set_yscale(\"log\")\n",
    "plt.savefig(f'{ww.data_dir}/check_gc_l.png')"
   ]
  },
  {
   "cell_type": "code",
   "execution_count": 100,
   "id": "71139fbc",
   "metadata": {},
   "outputs": [],
   "source": [
    "# re-define the gc_cl here\n",
    "df_ww['sars_cov2_gc_l_mean'] = df_ww['sars_cov2_gc_l_mean_v2']  "
   ]
  },
  {
   "cell_type": "markdown",
   "id": "36f29e0b",
   "metadata": {},
   "source": [
    "## Generate summary stats for the variables here \n",
    "This is before any aggregation needed to relate to CIS"
   ]
  },
  {
   "cell_type": "code",
   "execution_count": 175,
   "id": "aea3a033",
   "metadata": {},
   "outputs": [
    {
     "name": "stdout",
     "output_type": "stream",
     "text": [
      "[0.11162661865521778, 0.11141887680908524, 0.0, 0.0, 0.0, 0.936430995083443, 0.06647739076241257, 0.09805415137455854, 0.5899175957343674, 0.0055397825635343815]\n"
     ]
    }
   ],
   "source": [
    "# summary stats, andchecking that specific stats have been generated correctly.\n",
    "# included % missing\n",
    "#print(df_ww.columns.values)\n",
    "\n",
    "#df_ww['raw_ansis_sars_repc_std'] = np.std(df_ww['raw_ansis_sars_repc_1','raw_ansis_sars_repc_2'])\n",
    "def my_stdfun (var1,var2):\n",
    "    tmp1 = (df_ww[var1] + df_ww[var2])/2  # mean\n",
    "    tmp2 = pow((pow((tmp1-df_ww[var1]),2) + pow((tmp1-df_ww[var2]),2))/2,0.5) # sd\n",
    "    return tmp2\n",
    "\n",
    "df_ww['raw_ansis_sars_repc_std'] = my_stdfun('raw_ansis_sars_repc_1','raw_ansis_sars_repc_2')\n",
    "\n",
    "df_ww['sars_below_lod'] = np.where(df_ww['raw_ansis_sars_repc_mean_v2']>133,1,0)\n",
    "df_ww['sars_below_loq'] = np.where(df_ww['raw_ansis_sars_repc_mean_v2']>1333,1,0)\n",
    "df_ww['grab_compo_boo'] = np.where(df_ww['grab_compo_ind']=='Composite',1,0)\n",
    "\n",
    "#df_ww['grab_compo_boo'].describe()\n",
    "\n",
    "cols = ['sars_cov2_gc_l_mean','raw_ansis_sars_repc_std',\n",
    "        'sars_below_lod','sars_below_loq',\n",
    "        'reac_vol_control',\n",
    "       'sample_ph_pre_ansis','ammonia_mg_l',\n",
    "       'ophosph_mg_l','suspended_solids_mg_l',\n",
    "        'reception_delay',\n",
    "        'grab_compo_boo'\n",
    "        \n",
    "#         ,\n",
    "#        'time_sample_collected'\n",
    "       ]\n",
    "\n",
    "def my_isnafun (var1):\n",
    "    df_ww[var1] = df_ww[var1].replace('nan',np.NaN)\n",
    "    tmp2 = df[var1].isnull()\n",
    "    tmp3 = tmp2.mean()\n",
    "    return tmp3\n",
    "\n",
    "out = []\n",
    "for var in cols[0:9]:\n",
    "    my_isnafun(var)\n",
    "    \n",
    "for var in cols[0:10]:\n",
    "    out.append(df_ww[var].isnull().mean())\n",
    "\n",
    "print(out)\n",
    "\n",
    "t1 = df_ww[cols].describe()\n",
    "# #t1.append(out)\n",
    "#print(t1)\n",
    "#out[10] = df_ww['grab_compo_boo'].isnull().mean()\n",
    "\n",
    "#t2 = t1.append(out)\n",
    "#print(t2)\n",
    "\n",
    "# write to file\n",
    "t1.to_csv(f'{ww.data_dir}/data_describe_mar22.csv') \n",
    "\n"
   ]
  },
  {
   "cell_type": "markdown",
   "id": "4b82e7d0",
   "metadata": {},
   "source": [
    "## Rest of the data cleaning continues here"
   ]
  },
  {
   "cell_type": "code",
   "execution_count": 176,
   "id": "c07d2f59",
   "metadata": {},
   "outputs": [
    {
     "name": "stderr",
     "output_type": "stream",
     "text": [
      "/home/ec2-user/anaconda3/envs/wastewater/lib/python3.8/site-packages/geopandas/geodataframe.py:577: RuntimeWarning: Sequential read of iterator was interrupted. Resetting iterator. This can negatively impact the performance.\n",
      "  for feature in features_lst:\n",
      "/tmp/ipykernel_25529/4248926751.py:6: FutureWarning: In a future version of pandas all arguments of DataFrame.drop except for the argument 'labels' will be keyword-only\n",
      "  df_ww = df_ww.drop('ww_catchment_code', 1)\n",
      "/home/ec2-user/SageMaker/jbc-wastewater-analysis/wastewater/preprocessing.py:540: FutureWarning: In a future version of pandas all arguments of concat except for the argument 'objs' will be keyword-only\n",
      "  df_diagnostic = pd.concat([diag, diag2, diag3, diag4, diag5], 1)\n"
     ]
    }
   ],
   "source": [
    "# add area (function would be good)\n",
    "gdf_catch = gpd.read_file('s3://dash-879281191186-prod-s3-data-wip/jbc-wip/01. Data/01. Raw/Waste Water/ww_dataset_staging/ww_ons/20201120_ONS_WW_ENGLAND_CATCHMENT_BOUNDARIES.csv')\n",
    "gdf_catch.set_crs(epsg=27700, inplace=True, allow_override=True)\n",
    "gdf_catch = gdf_catch.to_crs('epsg:3857')\n",
    "df_ww = df_ww.merge(gdf_catch.set_index('CATCHMENT_CODE').geometry.area.reset_index().rename(columns={'CATCHMENT_CODE':'ww_catchment_code', 0:'catchment_area'}))\n",
    "df_ww = df_ww.drop('ww_catchment_code', 1)\n",
    "df_ww.catchment_area /= 1e6 # in km\n",
    "\n",
    "df_ww, _ = ww.impute_ww(df_ww)\n",
    "df_ww  = df_ww.rename(columns={'date_sample_collected': 'date'})\n",
    "df_ww.to_csv(f'{ww.data_dir}/raw_data_8_dec21.csv') # example saving to data_dir\n",
    "# df_diagnostic.to_csv(f'{ww.data_dir}/diag_data_8_dec21.csv')\n"
   ]
  },
  {
   "cell_type": "code",
   "execution_count": 177,
   "id": "8a314ec7",
   "metadata": {},
   "outputs": [
    {
     "data": {
      "text/plain": [
       "0.48950903677030677"
      ]
     },
     "execution_count": 177,
     "metadata": {},
     "output_type": "execute_result"
    }
   ],
   "source": [
    "(df_ww.grab_compo_ind == 'Composite').mean()"
   ]
  },
  {
   "cell_type": "code",
   "execution_count": 178,
   "id": "c899ca0f",
   "metadata": {},
   "outputs": [
    {
     "name": "stderr",
     "output_type": "stream",
     "text": [
      "/home/ec2-user/SageMaker/jbc-wastewater-analysis/wastewater/data/loading_lookups.py:93: FutureWarning: In a future version of pandas all arguments of DataFrame.drop except for the argument 'labels' will be keyword-only\n",
      "  df_lookup = df_lookup.drop(['CATCHMENT_CODE', 'CATCHMENT_NAME'], 1)\n",
      "/home/ec2-user/SageMaker/jbc-wastewater-analysis/wastewater/data/loading_lookups.py:103: UserWarning: This dataset needs to be ingested properly: jbc-staging-data-wip/jbc-wip/01. Data/01. Raw/Waste Water/ww_users/mario/ukmidyearestimates20192019ladcodes.xls\n",
      "  warnings.warn('This dataset needs to be ingested properly: jbc-staging-data-wip/jbc-wip/01. Data/01. Raw/Waste Water/ww_users/mario/ukmidyearestimates20192019ladcodes.xls')\n"
     ]
    },
    {
     "name": "stdout",
     "output_type": "stream",
     "text": [
      "(39087, 115)\n"
     ]
    },
    {
     "name": "stderr",
     "output_type": "stream",
     "text": [
      "/tmp/ipykernel_25529/3349236651.py:14: FutureWarning: Indexing with multiple keys (implicitly converted to a tuple of keys) will be deprecated, use a list instead.\n",
      "  subregions_pop = df_lookup.loc[df_lookup.CIS20CD.isin(df_ww.CIS20CD)\n"
     ]
    }
   ],
   "source": [
    "threshold = 1 / 1000\n",
    "df_lookup = ww.load_cis_to_site_lookup()\n",
    "\n",
    "# select sites whose population is at least 1/1000 of the subregion\n",
    "df_lookup = df_lookup[df_lookup.catch_in_cis_prop > threshold]  \n",
    "\n",
    "\n",
    "# Add lookup CIS regions info\n",
    "df_ww = df_ww.merge(df_lookup[['CIS20CD','ww_site_code', 'catch_in_cis_prop', 'catch_cis_population']] , \n",
    "                    on='ww_site_code', how='inner')\n",
    "df_ww.to_csv(f'{ww.data_dir}/raw_data_9_dec21.csv') #\n",
    "\n",
    "# getting the populations\n",
    "subregions_pop = df_lookup.loc[df_lookup.CIS20CD.isin(df_ww.CIS20CD) \n",
    "                 & df_lookup.ww_site_code.isin(df_ww.ww_site_code)]\\\n",
    "                 .groupby('CIS20CD')['catch_in_cis_prop','catch_cis_population'].sum().reset_index()\n",
    "print(df_ww.shape)"
   ]
  },
  {
   "cell_type": "code",
   "execution_count": 5,
   "id": "8c6fb5f3",
   "metadata": {},
   "outputs": [],
   "source": [
    "# Export preprocessed WW dataset before aggregating to CIS subregions\n",
    "# save = True #False\n",
    "# bucket = \"s3://jbc-staging-data-wip/jbc-wip/01. Data/01. Raw/Waste Water/ww_users/mario/cis_results\"\n",
    "# if save:\n",
    "#     df_ww.to_csv(bucket+'/df_ww_preprocessed.csv', index=False)"
   ]
  },
  {
   "cell_type": "code",
   "execution_count": 179,
   "id": "bd0fa1ef",
   "metadata": {},
   "outputs": [
    {
     "data": {
      "text/plain": [
       "(45, 83)"
      ]
     },
     "execution_count": 179,
     "metadata": {},
     "output_type": "execute_result"
    }
   ],
   "source": [
    "df_ww.ww_site_code.nunique(), len(set(subregions_pop.CIS20CD.unique()).intersection(df_ww.CIS20CD.unique()))"
   ]
  },
  {
   "cell_type": "code",
   "execution_count": 180,
   "id": "f5e40b44",
   "metadata": {},
   "outputs": [
    {
     "name": "stdout",
     "output_type": "stream",
     "text": [
      "                            count          mean           std       min  \\\n",
      "raw_ansis_sars_repc_1     39087.0     89.288436    274.150777 -4.000000   \n",
      "raw_ansis_sars_repc_2     39087.0     91.862158    301.861244 -4.000000   \n",
      "raw_ansis_sars_repc_mean  39087.0    112.764711    387.210589 -4.000000   \n",
      "raw_ansis_sars_repc_std   39087.0     14.923901     45.098493  0.000000   \n",
      "sars_cov2_gc_l_mean       39087.0  23984.516625  51926.771583 -6.623212   \n",
      "time_sample_collected     39087.0    952.394735    203.633574  0.000000   \n",
      "\n",
      "                                  25%          50%           75%           max  \n",
      "raw_ansis_sars_repc_1        2.729000    13.547982     54.792053  5.059119e+03  \n",
      "raw_ansis_sars_repc_2        1.690000    12.152000     54.100990  6.798662e+03  \n",
      "raw_ansis_sars_repc_mean     2.776670    14.312210     62.273972  9.425240e+03  \n",
      "raw_ansis_sars_repc_std      0.827964     3.525249     10.066950  8.697712e+02  \n",
      "sars_cov2_gc_l_mean       1963.199951  7104.800186  22656.801544  1.647030e+06  \n",
      "time_sample_collected      810.000000   915.000000   1028.500000  2.020000e+03  \n",
      "(39087, 115)\n",
      "(10284, 118)\n"
     ]
    }
   ],
   "source": [
    "print(df_ww.describe()[['raw_ansis_sars_repc_1', 'raw_ansis_sars_repc_2',\n",
    "                    'raw_ansis_sars_repc_mean','raw_ansis_sars_repc_std',\n",
    "                  'sars_cov2_gc_l_mean','time_sample_collected',]].T)\n",
    "print(df_ww.shape)\n",
    "# table for site key\n",
    "table = df_ww.groupby(['ww_site_code']).size()\n",
    "#print(table)\n",
    "#print(df_ww.head())\n",
    "table.to_csv(f'{ww.data_dir}/check_ww_site_codes.csv')\n",
    "\n",
    "# Add cis data\n",
    "df_ww = df_ww.merge(df_cis_interpolated, how='inner').sort_values(['CIS20CD', 'date'])  # change for left\n",
    "df_ww.head()\n",
    "df_ww.to_csv(f'{ww.data_dir}/raw_data_ww_10_cis_mar22.csv') #\n",
    "table = df_ww.groupby(['ww_site_code','CIS20CD']).size()\n",
    "table.to_csv(f'{ww.data_dir}/check_ww_site_cis_codes.csv')\n",
    "print(df_ww.shape)"
   ]
  },
  {
   "cell_type": "code",
   "execution_count": 181,
   "id": "d38445ef",
   "metadata": {},
   "outputs": [
    {
     "name": "stdout",
     "output_type": "stream",
     "text": [
      "cis_population removed.\n"
     ]
    }
   ],
   "source": [
    "# note i've updated this\n",
    "# cols = ['sars_cov2_gc_l_mean','raw_ansis_sars_repc_std',\n",
    "#         'sars_below_lod','sars_below_loq',\n",
    "#         'reac_vol_control',\n",
    "#        'sample_ph_pre_ansis','ammonia_mg_l',\n",
    "#        'ophosph_mg_l','suspended_solids_mg_l',\n",
    "#         'reception_delay',\n",
    "#         'grab_compo_boo'\n",
    "sample_variables = ['sars_cov2_gc_l_mean', \n",
    "                    'suspended_solids_mg_l',\n",
    "                    'ammonia_mg_l', 'ophosph_mg_l', \n",
    "                    'sample_ph_pre_ansis', \n",
    "                    'control_gc_l_mean','reac_vol_control', # \"reac_vol_sars\", \n",
    "                    'raw_ansis_sars_repc_std',\n",
    "                    'grab_compo_boo',\n",
    "                    'sars_below_lod', 'sars_below_loq', \n",
    "                    'reception_delay'\n",
    "#                    'ww_site_code',  # try here?\n",
    "#                     'date',\n",
    "#                   'analysis_lab_code',\n",
    "                     #'lab_analysis_1.1.1', 'lab_analysis_1.1.2',\n",
    "                     #'target_gene_N1'\n",
    "                 # 'raw_ansis_sars_repc_1', 'raw_ansis_sars_repc_2',\n",
    "                    #'raw_ansis_sars_repc_mean',\n",
    "\n",
    "                   ]\n",
    "\n",
    "site_variables = [\n",
    "                  'catchment_population_ons_mid_2019',\n",
    "                  'catchment_area'\n",
    "                   # 'site_skey',  # numeric so should be ok.\n",
    "#                    'ww_site_code',\n",
    "#                   'water_company_AE',\n",
    "#                   'water_company_AW', 'water_company_NW', 'water_company_ST',\n",
    "#                   'water_company_SW', 'water_company_SWS', 'water_company_TW',\n",
    "#                   'water_company_UU', 'water_company_WW', 'water_company_WXW',\n",
    "#                   'water_company_YW'\n",
    "]\n",
    "\n",
    "cis_variables = ['catch_in_cis_prop', 'catch_cis_population', 'cis_population']\n",
    "\n",
    "all_variables = sample_variables + site_variables + cis_variables\n",
    "\n",
    "for var in all_variables:\n",
    "    if var not in df_ww:\n",
    "        print(var, 'removed.')\n",
    "        all_variables.remove(var)"
   ]
  },
  {
   "cell_type": "code",
   "execution_count": 90,
   "id": "403dd8da",
   "metadata": {},
   "outputs": [
    {
     "data": {
      "text/plain": [
       "('catch_in_cis_prop', 'cis_population')"
      ]
     },
     "execution_count": 90,
     "metadata": {},
     "output_type": "execute_result"
    }
   ],
   "source": [
    "'sars_cov2_gc_l_mean', \n",
    "'suspended_solids_mg_l', \n",
    "'ammonia_mg_l', \n",
    "'ophosph_mg_l', \n",
    "'sample_ph_pre_ansis', \n",
    "'control_gc_l_mean',\n",
    "'compo_frac',\n",
    "'sars_below_lod', 'sars_below_loq', \n",
    "'reception_delay'\n",
    "'catchment_population_ons_mid_2019','catchment_area',\n",
    "'catch_in_cis_prop',  'cis_population'"
   ]
  },
  {
   "cell_type": "code",
   "execution_count": 182,
   "id": "15ba3041",
   "metadata": {
    "scrolled": true
   },
   "outputs": [
    {
     "name": "stdout",
     "output_type": "stream",
     "text": [
      "(7238, 18)\n"
     ]
    },
    {
     "name": "stderr",
     "output_type": "stream",
     "text": [
      "/tmp/ipykernel_25529/3316621821.py:11: FutureWarning: In a future version of pandas all arguments of DataFrame.drop except for the argument 'labels' will be keyword-only\n",
      "  df_ww_agg = df_ww_agg.drop(['catch_in_cis_prop','catch_cis_population'], 1).merge(subregions_pop)\n"
     ]
    }
   ],
   "source": [
    "# this function aggregates the data based the fields in 'groupby'\n",
    "def weighted_agg(variables, weight_column, agg_function):\n",
    "    def fn(s):\n",
    "        weights = s[weight_column]\n",
    "        return pd.Series({ col : np.average(s[col], weights=weights) for col in variables})\n",
    "    return fn\n",
    "\n",
    "weighted_avg = weighted_agg(all_variables, 'catch_cis_population', np.nansum)\n",
    "\n",
    "df_ww_agg = df_ww.groupby(['CIS20CD', 'date']).apply(weighted_avg).reset_index()\n",
    "df_ww_agg = df_ww_agg.drop(['catch_in_cis_prop','catch_cis_population'], 1).merge(subregions_pop)\n",
    "\n",
    "print(df_ww_agg.shape)\n",
    "table = df_ww_agg.groupby(['CIS20CD']).size()\n",
    "table.to_csv(f'{ww.data_dir}/check_df_ww_agg_cis_codes.csv')\n"
   ]
  },
  {
   "cell_type": "code",
   "execution_count": 184,
   "id": "d77e687d",
   "metadata": {},
   "outputs": [
    {
     "name": "stdout",
     "output_type": "stream",
     "text": [
      "(7238, 21)\n",
      "(7238, 21)\n"
     ]
    }
   ],
   "source": [
    "# Add cis data\n",
    "df = df_ww_agg.merge(df_cis_interpolated, how='inner').sort_values(['CIS20CD', 'date'])  # change for left\n",
    "df = df.dropna(subset=['CIS20CD', 'date'])\n",
    "\n",
    "df.CIS20CD.nunique()\n",
    "\n",
    "df_total = df_ww_agg.merge(df_cis_interpolated, how='left').sort_values(['CIS20CD', 'date'])  # change for left\n",
    "df_total = df_total.dropna(subset=['CIS20CD', 'date'])\n",
    "\n",
    "#print(df_ww.shape)\n",
    "print(df.shape)\n",
    "print(df_total.shape)"
   ]
  },
  {
   "cell_type": "code",
   "execution_count": 185,
   "id": "0223874b",
   "metadata": {},
   "outputs": [
    {
     "name": "stdout",
     "output_type": "stream",
     "text": [
      "(7238, 21)\n"
     ]
    }
   ],
   "source": [
    "print(df.shape)\n",
    "df.to_csv(f'{ww.data_dir}/agg_data_inner_11_cis_mar22.csv') #\n",
    "# 'df' has fewer variables...than 'df_ww'\n",
    "df_total.to_csv(f'{ww.data_dir}/agg_data_left_12_cis_mar22.csv') #\n",
    "# export_dataset = False\n",
    "# if export_dataset:\n",
    "#     df.to_csv(ww.output_dir+'/df_ww_cis.csv', index=False)\n",
    "#     df.to_csv('s3://jbc-staging-data-wip/jbc-wip/01. Data/01. Raw/Waste Water/ww_users/mario/df_ww_cis.csv', index=False)"
   ]
  },
  {
   "cell_type": "code",
   "execution_count": 186,
   "id": "75539e1d",
   "metadata": {},
   "outputs": [
    {
     "data": {
      "text/html": [
       "<div>\n",
       "<style scoped>\n",
       "    .dataframe tbody tr th:only-of-type {\n",
       "        vertical-align: middle;\n",
       "    }\n",
       "\n",
       "    .dataframe tbody tr th {\n",
       "        vertical-align: top;\n",
       "    }\n",
       "\n",
       "    .dataframe thead th {\n",
       "        text-align: right;\n",
       "    }\n",
       "</style>\n",
       "<table border=\"1\" class=\"dataframe\">\n",
       "  <thead>\n",
       "    <tr style=\"text-align: right;\">\n",
       "      <th></th>\n",
       "      <th>CIS20CD</th>\n",
       "      <th>date</th>\n",
       "      <th>sars_cov2_gc_l_mean</th>\n",
       "      <th>suspended_solids_mg_l</th>\n",
       "      <th>ammonia_mg_l</th>\n",
       "      <th>ophosph_mg_l</th>\n",
       "      <th>sample_ph_pre_ansis</th>\n",
       "      <th>control_gc_l_mean</th>\n",
       "      <th>reac_vol_control</th>\n",
       "      <th>raw_ansis_sars_repc_std</th>\n",
       "      <th>...</th>\n",
       "      <th>sars_below_lod</th>\n",
       "      <th>sars_below_loq</th>\n",
       "      <th>reception_delay</th>\n",
       "      <th>catchment_population_ons_mid_2019</th>\n",
       "      <th>catchment_area</th>\n",
       "      <th>catch_in_cis_prop</th>\n",
       "      <th>catch_cis_population</th>\n",
       "      <th>median_prob</th>\n",
       "      <th>ll</th>\n",
       "      <th>ul</th>\n",
       "    </tr>\n",
       "  </thead>\n",
       "  <tbody>\n",
       "    <tr>\n",
       "      <th>0</th>\n",
       "      <td>J06000104</td>\n",
       "      <td>2020-09-04</td>\n",
       "      <td>411.600257</td>\n",
       "      <td>74.0</td>\n",
       "      <td>27.0</td>\n",
       "      <td>3.3</td>\n",
       "      <td>7.4</td>\n",
       "      <td>22729300.0</td>\n",
       "      <td>2.0</td>\n",
       "      <td>3.049336</td>\n",
       "      <td>...</td>\n",
       "      <td>0.0</td>\n",
       "      <td>0.0</td>\n",
       "      <td>23.566667</td>\n",
       "      <td>58579.0</td>\n",
       "      <td>75.718339</td>\n",
       "      <td>0.190042</td>\n",
       "      <td>58576.83105</td>\n",
       "      <td>0.163286</td>\n",
       "      <td>0.099304</td>\n",
       "      <td>0.268339</td>\n",
       "    </tr>\n",
       "    <tr>\n",
       "      <th>1</th>\n",
       "      <td>J06000104</td>\n",
       "      <td>2020-09-06</td>\n",
       "      <td>10322.565430</td>\n",
       "      <td>220.0</td>\n",
       "      <td>36.0</td>\n",
       "      <td>4.2</td>\n",
       "      <td>7.4</td>\n",
       "      <td>22729300.0</td>\n",
       "      <td>2.0</td>\n",
       "      <td>38.126480</td>\n",
       "      <td>...</td>\n",
       "      <td>0.0</td>\n",
       "      <td>0.0</td>\n",
       "      <td>20.883333</td>\n",
       "      <td>58579.0</td>\n",
       "      <td>75.718339</td>\n",
       "      <td>0.190042</td>\n",
       "      <td>58576.83105</td>\n",
       "      <td>0.187147</td>\n",
       "      <td>0.116679</td>\n",
       "      <td>0.299341</td>\n",
       "    </tr>\n",
       "    <tr>\n",
       "      <th>2</th>\n",
       "      <td>J06000104</td>\n",
       "      <td>2020-09-07</td>\n",
       "      <td>1641.482698</td>\n",
       "      <td>260.0</td>\n",
       "      <td>32.0</td>\n",
       "      <td>4.1</td>\n",
       "      <td>7.4</td>\n",
       "      <td>22729300.0</td>\n",
       "      <td>2.0</td>\n",
       "      <td>5.061951</td>\n",
       "      <td>...</td>\n",
       "      <td>0.0</td>\n",
       "      <td>0.0</td>\n",
       "      <td>23.400000</td>\n",
       "      <td>58579.0</td>\n",
       "      <td>75.718339</td>\n",
       "      <td>0.190042</td>\n",
       "      <td>58576.83105</td>\n",
       "      <td>0.199078</td>\n",
       "      <td>0.125366</td>\n",
       "      <td>0.314841</td>\n",
       "    </tr>\n",
       "    <tr>\n",
       "      <th>3</th>\n",
       "      <td>J06000104</td>\n",
       "      <td>2020-09-09</td>\n",
       "      <td>66.500000</td>\n",
       "      <td>650.0</td>\n",
       "      <td>33.0</td>\n",
       "      <td>4.2</td>\n",
       "      <td>7.4</td>\n",
       "      <td>22729300.0</td>\n",
       "      <td>2.0</td>\n",
       "      <td>0.000000</td>\n",
       "      <td>...</td>\n",
       "      <td>0.0</td>\n",
       "      <td>0.0</td>\n",
       "      <td>23.783333</td>\n",
       "      <td>58579.0</td>\n",
       "      <td>75.718339</td>\n",
       "      <td>0.190042</td>\n",
       "      <td>58576.83105</td>\n",
       "      <td>0.222940</td>\n",
       "      <td>0.142741</td>\n",
       "      <td>0.345843</td>\n",
       "    </tr>\n",
       "    <tr>\n",
       "      <th>4</th>\n",
       "      <td>J06000104</td>\n",
       "      <td>2020-09-11</td>\n",
       "      <td>608.080049</td>\n",
       "      <td>230.0</td>\n",
       "      <td>36.0</td>\n",
       "      <td>4.5</td>\n",
       "      <td>7.4</td>\n",
       "      <td>22729300.0</td>\n",
       "      <td>2.0</td>\n",
       "      <td>0.428277</td>\n",
       "      <td>...</td>\n",
       "      <td>0.0</td>\n",
       "      <td>0.0</td>\n",
       "      <td>23.616667</td>\n",
       "      <td>58579.0</td>\n",
       "      <td>75.718339</td>\n",
       "      <td>0.190042</td>\n",
       "      <td>58576.83105</td>\n",
       "      <td>0.253649</td>\n",
       "      <td>0.165762</td>\n",
       "      <td>0.385488</td>\n",
       "    </tr>\n",
       "  </tbody>\n",
       "</table>\n",
       "<p>5 rows × 21 columns</p>\n",
       "</div>"
      ],
      "text/plain": [
       "     CIS20CD       date  sars_cov2_gc_l_mean  suspended_solids_mg_l  \\\n",
       "0  J06000104 2020-09-04           411.600257                   74.0   \n",
       "1  J06000104 2020-09-06         10322.565430                  220.0   \n",
       "2  J06000104 2020-09-07          1641.482698                  260.0   \n",
       "3  J06000104 2020-09-09            66.500000                  650.0   \n",
       "4  J06000104 2020-09-11           608.080049                  230.0   \n",
       "\n",
       "   ammonia_mg_l  ophosph_mg_l  sample_ph_pre_ansis  control_gc_l_mean  \\\n",
       "0          27.0           3.3                  7.4         22729300.0   \n",
       "1          36.0           4.2                  7.4         22729300.0   \n",
       "2          32.0           4.1                  7.4         22729300.0   \n",
       "3          33.0           4.2                  7.4         22729300.0   \n",
       "4          36.0           4.5                  7.4         22729300.0   \n",
       "\n",
       "   reac_vol_control  raw_ansis_sars_repc_std  ...  sars_below_lod  \\\n",
       "0               2.0                 3.049336  ...             0.0   \n",
       "1               2.0                38.126480  ...             0.0   \n",
       "2               2.0                 5.061951  ...             0.0   \n",
       "3               2.0                 0.000000  ...             0.0   \n",
       "4               2.0                 0.428277  ...             0.0   \n",
       "\n",
       "   sars_below_loq  reception_delay  catchment_population_ons_mid_2019  \\\n",
       "0             0.0        23.566667                            58579.0   \n",
       "1             0.0        20.883333                            58579.0   \n",
       "2             0.0        23.400000                            58579.0   \n",
       "3             0.0        23.783333                            58579.0   \n",
       "4             0.0        23.616667                            58579.0   \n",
       "\n",
       "   catchment_area  catch_in_cis_prop  catch_cis_population  median_prob  \\\n",
       "0       75.718339           0.190042           58576.83105     0.163286   \n",
       "1       75.718339           0.190042           58576.83105     0.187147   \n",
       "2       75.718339           0.190042           58576.83105     0.199078   \n",
       "3       75.718339           0.190042           58576.83105     0.222940   \n",
       "4       75.718339           0.190042           58576.83105     0.253649   \n",
       "\n",
       "         ll        ul  \n",
       "0  0.099304  0.268339  \n",
       "1  0.116679  0.299341  \n",
       "2  0.125366  0.314841  \n",
       "3  0.142741  0.345843  \n",
       "4  0.165762  0.385488  \n",
       "\n",
       "[5 rows x 21 columns]"
      ]
     },
     "execution_count": 186,
     "metadata": {},
     "output_type": "execute_result"
    }
   ],
   "source": [
    "\n",
    "# print(df.describe()[['raw_ansis_sars_repc_1', 'raw_ansis_sars_repc_2',\n",
    "#                     'raw_ansis_sars_repc_mean','raw_ansis_sars_repc_std',\n",
    "#                         'sars_cov2_gc_l_mean','median_prob']].T)\n",
    "df.head()"
   ]
  },
  {
   "cell_type": "code",
   "execution_count": null,
   "id": "c3be318a",
   "metadata": {},
   "outputs": [],
   "source": []
  }
 ],
 "metadata": {
  "kernelspec": {
   "display_name": "Python (wastewater)",
   "language": "python",
   "name": "wastewater"
  },
  "language_info": {
   "codemirror_mode": {
    "name": "ipython",
    "version": 3
   },
   "file_extension": ".py",
   "mimetype": "text/x-python",
   "name": "python",
   "nbconvert_exporter": "python",
   "pygments_lexer": "ipython3",
   "version": "3.8.10"
  }
 },
 "nbformat": 4,
 "nbformat_minor": 5
}
