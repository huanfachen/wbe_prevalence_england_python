{
 "cells": [
  {
   "cell_type": "code",
   "execution_count": 1,
   "id": "570edfd1",
   "metadata": {},
   "outputs": [],
   "source": [
    "# check some code here\n",
    "import pandas as pd\n",
    "import numpy as np"
   ]
  },
  {
   "cell_type": "code",
   "execution_count": 35,
   "id": "1887c9eb",
   "metadata": {},
   "outputs": [
    {
     "name": "stdout",
     "output_type": "stream",
     "text": [
      "   dum  rep1  rep2   alt  alt2\n",
      "0    1  20.0   5.0  25.0  25.0\n",
      "1    2  -3.0  10.0   7.0  10.0\n",
      "2    3   NaN  20.0   NaN  20.0\n",
      "3    4  45.0  -4.0  41.0  45.0\n",
      "4    5   4.0   NaN   NaN   4.0\n"
     ]
    }
   ],
   "source": [
    "# here we want a function that combines the replicate data, and cleans where the data isn't what it should be...\n",
    "# the conditions are specified\n",
    "\n",
    "raw_data = {'dum':[1,2,3,4,5],'rep1':[20,-3,np.nan,45,4],'rep2':[5,10,20,-4,np.nan]}\n",
    "df = pd.DataFrame(raw_data,columns = ['dum','rep1','rep2'])\n",
    "df['alt'] = df['rep1']+df['rep2']\n",
    "#print(df)\n",
    "\n",
    "def my_repfun (var1,var2,var3):\n",
    "    df[var3] = np.where((df[var1]<0), df[var2], df[var1]+df[var2]) # if values of var1 <0, use var2 only \n",
    "    df[var3] = np.where((df[var2]<0), df[var1], df[var3]) # if values of var2 <0, use var3 only, now that we have made it \n",
    "    df[var3] = np.where((df[var1].isna()), df[var2], df[var3]) # if values of var2 <0, use var3 only, now that we have made it \n",
    "    df[var3] = np.where((df[var2].isna()), df[var1], df[var3]) # if values of var2 <0, use var3 only, now that we have made it \n",
    "    return df\n",
    "\n",
    "df = my_repfun('rep1','rep2','alt2')\n",
    "print(df)"
   ]
  },
  {
   "cell_type": "code",
   "execution_count": 17,
   "id": "7e2c21d1",
   "metadata": {},
   "outputs": [
    {
     "name": "stdout",
     "output_type": "stream",
     "text": [
      "   dum  rep1   std\n",
      "0    1  20.0   9.5\n",
      "1    2  -3.0   2.5\n",
      "2    3   NaN   NaN\n",
      "3    4  45.0  20.5\n",
      "4    5   4.0   0.5\n"
     ]
    }
   ],
   "source": [
    "# check the use of pd.std\n",
    "raw_data = {'dum':[1,2,3,4,5],'rep1':[20,-3,np.nan,45,4]}\n",
    "df = pd.DataFrame(raw_data,columns = ['dum','rep1'])\n",
    "\n",
    "# def my_meanfun (var1,var2,var3):\n",
    "#     df[var3] = (df[var1] + df[var2])/2\n",
    "#     return df\n",
    "def my_stdfun (var1,var2):\n",
    "    tmp1 = (df[var1] + df[var2])/2  # mean\n",
    "    tmp2 = pow((pow((tmp1-df[var1]),2) + pow((tmp1-df[var2]),2))/2,0.5) # sd\n",
    "    return tmp2\n",
    "\n",
    "df['std'] = my_stdfun('dum','rep1')\n",
    "print(df)"
   ]
  },
  {
   "cell_type": "code",
   "execution_count": 35,
   "id": "30e7ff27",
   "metadata": {},
   "outputs": [
    {
     "name": "stdout",
     "output_type": "stream",
     "text": [
      "0.2\n",
      "[0.0, 0.2]\n",
      "   dum  rep1 grab  grabo\n",
      "0    1  20.0  yes      1\n",
      "1    2  -3.0  yes      1\n",
      "2    3   NaN  yes      1\n",
      "3    4  45.0  yes      1\n",
      "4    5   4.0   no      0\n"
     ]
    }
   ],
   "source": [
    "# create a % nan of a variable\n",
    "raw_data = {'dum':[1,2,3,4,5],'rep1':[20,-3,'nan',45,4],\n",
    "            'grab':['yes','yes','yes','yes','no']}\n",
    "df = pd.DataFrame(raw_data,columns = ['dum','rep1','grab'])\n",
    "\n",
    "def my_isnafun (var1):\n",
    "    df[var1] = df[var1].replace('nan',np.NaN)\n",
    "    tmp1 = np.where(df[var1].isnull(),1,0)\n",
    "    tmp2 = tmp1.mean()\n",
    "    return tmp2\n",
    "\n",
    "t2 = my_isnafun('rep1')\n",
    "print(t2)\n",
    "cols = ['dum','rep1']\n",
    "\n",
    "out = []\n",
    "for var in cols:\n",
    "    out.append(my_isnafun(var))\n",
    "    \n",
    "print(out)\n",
    "\n",
    "df['grabo'] = np.where(df['grab']=='yes',1,0)\n",
    "\n",
    "print(df)\n",
    "                   "
   ]
  },
  {
   "cell_type": "code",
   "execution_count": null,
   "id": "a855bc6b",
   "metadata": {},
   "outputs": [],
   "source": []
  }
 ],
 "metadata": {
  "kernelspec": {
   "display_name": "Python (wastewater)",
   "language": "python",
   "name": "wastewater"
  },
  "language_info": {
   "codemirror_mode": {
    "name": "ipython",
    "version": 3
   },
   "file_extension": ".py",
   "mimetype": "text/x-python",
   "name": "python",
   "nbconvert_exporter": "python",
   "pygments_lexer": "ipython3",
   "version": "3.8.10"
  }
 },
 "nbformat": 4,
 "nbformat_minor": 5
}
