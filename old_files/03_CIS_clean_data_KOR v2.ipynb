{
 "cells": [
  {
   "cell_type": "markdown",
   "id": "6daa9331",
   "metadata": {},
   "source": [
    "### Preparing dataset"
   ]
  },
  {
   "cell_type": "code",
   "execution_count": 49,
   "id": "0afb434f",
   "metadata": {},
   "outputs": [],
   "source": [
    "variable_labels = {\n",
    "    'sars_cov2_gc_l_mean': 'SARS-CoV-2 concentration',\n",
    "    'sample_ph_pre_ansis':'sample pH',\n",
    "    'ammonia_mg_l':'ammonia concentration',\n",
    "    'control_gc_l_mean':'control volume',\n",
    "    'ophosph_mg_l':'phosphate concentration',\n",
    "    'suspended_solids_mg_l':'suspended solids',\n",
    "    'sars_below_loq':'below LOQ',\n",
    "    'sars_below_lod':'below LOD',\n",
    "    'compo_frac':'composites fraction',\n",
    "    'reception_delay':'reception delay',\n",
    "    'catch_cis_population':'covered population',\n",
    "    'catch_in_cis_prop':'subregion population fraction',\n",
    "    \"catchment_population_ons_mid_2019\": \"catchment population\",\n",
    "    \"catchment_area\": 'catchment area'\n",
    "}"
   ]
  },
  {
   "cell_type": "code",
   "execution_count": 50,
   "id": "cdfd7095",
   "metadata": {},
   "outputs": [],
   "source": [
    "import numpy as np\n",
    "import pandas as pd\n",
    "import sklearn \n",
    "import scipy\n",
    "import geopandas as gpd\n",
    "\n",
    "import datetime\n",
    "import matplotlib.pylab as plt\n",
    "import wastewater as ww\n",
    "from wastewater.ml_utils import Dataset, RandomIntercepts, RandomEffects"
   ]
  },
  {
   "cell_type": "code",
   "execution_count": 76,
   "id": "ae9d5acb",
   "metadata": {},
   "outputs": [
    {
     "name": "stderr",
     "output_type": "stream",
     "text": [
      "/home/ec2-user/SageMaker/jbc-wastewater-analysis/wastewater/data/loading_cis.py:19: UserWarning: Data not yet ingested properly, please change the link to ingested dataset as soon as possible.\n",
      "  warnings.warn('Data not yet ingested properly, please change the link to ingested dataset as soon as possible.')\n",
      "/home/ec2-user/SageMaker/jbc-wastewater-analysis/wastewater/data/loading_cis.py:32: FutureWarning: In a future version of pandas all arguments of DataFrame.drop except for the argument 'labels' will be keyword-only\n",
      "  df_cis = df_cis.drop(df_cis.columns[0], 1)\n",
      "/home/ec2-user/SageMaker/jbc-wastewater-analysis/wastewater/data/loading_cis.py:33: FutureWarning: In a future version of pandas all arguments of DataFrame.drop except for the argument 'labels' will be keyword-only\n",
      "  df_cis = df_cis.drop(['CIS.name', 'RGN19CD'],1).merge(df_cis[['cis_num', 'CIS.name', 'RGN19CD']].drop_duplicates().dropna())\n"
     ]
    },
    {
     "name": "stdout",
     "output_type": "stream",
     "text": [
      "Loading latest flow normalisation file: 20220401_EXPORT_SARS_COV2_FLOW_NORMALISATION.csv\n",
      "Loading latest anomaly file: 20211018_EXPORT_SARS_COV2_CONCENTRATION_ANOMALY.csv\n",
      "Missing values (-2 convention) have been replaced by nan\n",
      "Samples to be rerun (-1 convention) have been replaced by nan\n",
      "156 samples with wrong or missing dates (date_sample_collected) have been removed.\n",
      "Selected 311 sites after filter on SEWAGE TREATMENT PLANT (site_type)\n",
      "Selected 306 sites after filter on UK* codes\n",
      "Selected 45 sites with first sample before 2021-01-01\n",
      "LOD ([-4]) and LOQ ([-3, 0]) codes for ['flow_normalised_sars_cov2_gc_l_mean', 'sars_cov2_gc_l_mean'] have been replaced by LOD/2 and LOQ/2 respectively, using default values of LOD=133 and LOQ=1333 where missing in data.\n"
     ]
    },
    {
     "name": "stderr",
     "output_type": "stream",
     "text": [
      "/home/ec2-user/SageMaker/jbc-wastewater-analysis/wastewater/preprocessing.py:476: FutureWarning: The pandas.datetime class is deprecated and will be removed from pandas in a future version. Import from datetime module instead.\n",
      "  reception_time = pd.to_datetime(df_ww.time_sample_received.astype(str).str.pad(4, fillchar='0'), format='%H%M')- pd.datetime(1900,1,1)\n",
      "/home/ec2-user/SageMaker/jbc-wastewater-analysis/wastewater/preprocessing.py:477: FutureWarning: The pandas.datetime class is deprecated and will be removed from pandas in a future version. Import from datetime module instead.\n",
      "  collection_time = pd.to_datetime(df_ww.time_sample_collected.astype(str).str.pad(4, fillchar='0'), format='%H%M')- pd.datetime(1900,1,1)\n"
     ]
    }
   ],
   "source": [
    "# CIS Data\n",
    "df_cis = ww.load_cis(daily=False).rename(columns={'CIS.name':\"CIS20CD\"})\n",
    "df_cis_interpolated = ww.load_cis(daily=True, kind='linear').rename(columns={'CIS.name':\"CIS20CD\"})\n",
    "\n",
    "# Preprocess WW data\n",
    "df_ww = ww.read_ww()\n",
    "df_ww.to_csv(f'{ww.data_dir}/raw_data_1_dec21.csv')      # example saving to data_dir\n",
    "df_ww = ww.drop_wrong_dates(df_ww)\n",
    "df_ww.to_csv(f'{ww.data_dir}/raw_data_2_dec21.csv')      # example saving to data_dir\n",
    "df_ww = ww.select_specific_sites(df_ww)\n",
    "df_ww.to_csv(f'{ww.data_dir}/raw_data_3_dec21.csv') # example saving to data_dir\n",
    "df_ww = ww.select_sites_sampled_before(df_ww, '2021-01-01')\n",
    "df_ww.to_csv(f'{ww.data_dir}/raw_data_4_dec21.csv') # example saving to data_dir\n",
    "df_ww =  df_ww.merge(ww.read_sites()[['ww_site_code', 'catchment_population_ons_mid_2019', 'ww_catchment_code']])\n",
    "df_ww.to_csv(f'{ww.data_dir}/raw_data_5_dec21.csv')\n",
    "df_ww = df_ww.drop_duplicates(subset=['date_sample_collected', 'ww_site_code'])\n",
    "df_ww.to_csv(f'{ww.data_dir}/raw_data_6_dec21.csv') \n",
    "# it would be preferable here to change the calculation of SARS-CoV-2 gc/l for those without replicate data\n",
    "df_ww = ww.replace_loq_lod(df_ww, 133, 1333)\n",
    "df_ww.loc[df_ww.ophosph_mg_l==-3, 'ophosph_mg_l'] = np.nan\n",
    "df_ww = ww.add_new_ww_features(df_ww, reception_delay=True)\n",
    "df_ww.to_csv(f'{ww.data_dir}/raw_data_7_dec21.csv') # example saving to data_dir\n",
    "\n"
   ]
  },
  {
   "cell_type": "code",
   "execution_count": 77,
   "id": "332f7f0c",
   "metadata": {},
   "outputs": [
    {
     "name": "stdout",
     "output_type": "stream",
     "text": [
      "count    13090.000000\n",
      "mean        65.577188\n",
      "std        211.495841\n",
      "min         -4.000000\n",
      "25%         -3.000000\n",
      "50%          9.213000\n",
      "75%         41.341500\n",
      "max       5059.119141\n",
      "Name: raw_ansis_sars_repc_1, dtype: float64\n",
      "14703\n",
      "first replicate =  1613  and  10.97 %\n",
      "second replicate =  1613  and  10.97 %\n"
     ]
    }
   ],
   "source": [
    "# check whether replicate data pre-freb 2021 are loaded in\n",
    "# below doesn't 'quite' get to it, but ~10% samples are with NAs, so that's ok\n",
    "df_ww.head()\n",
    "# list(df_ww.columns)\n",
    "# 'raw_ansis_sars_repc_1',\n",
    "# 'raw_ansis_sars_repc_2',\n",
    "print(df_ww['raw_ansis_sars_repc_1'].describe())\n",
    "nas1 = df_ww['raw_ansis_sars_repc_1'].isna().sum()\n",
    "nas2 = df_ww['raw_ansis_sars_repc_2'].isna().sum()\n",
    "rows = len(df_ww)\n",
    "print(rows)\n",
    "print('first replicate = ',nas1,' and ', round(100*(nas1/rows),2),'%')\n",
    "print('second replicate = ',nas2,' and ', round(100*(nas2/rows),2),'%')"
   ]
  },
  {
   "cell_type": "code",
   "execution_count": 78,
   "id": "13a72d46",
   "metadata": {},
   "outputs": [
    {
     "name": "stdout",
     "output_type": "stream",
     "text": [
      "year_coll  rep1na\n",
      "2020       False     3376\n",
      "           True       745\n",
      "2021       False     7712\n",
      "           True       803\n",
      "2022       False     2002\n",
      "           True        65\n",
      "dtype: int64\n"
     ]
    }
   ],
   "source": [
    "# add in year of collection from date\n",
    "df_ww['year_coll'] = pd.DatetimeIndex(df_ww['date_sample_collected']).year\n",
    "df_ww['rep1na'] = df_ww['raw_ansis_sars_repc_1'].isna()\n",
    "df_ww['rep2na'] = df_ww['raw_ansis_sars_repc_2'].isna()\n",
    "# create a table of observations\n",
    "#print(df_ww['year_coll'].value_counts())\n",
    "#print(df_ww['rep1na'].value_counts())\n",
    "# to have NAs by year of collection I think I need to..\n",
    "# - create a variable 0/1 of whether replicate is NA or not\n",
    "# - create a table = df_ww.groupby('year_coll','is_na').size()\n",
    "table = df_ww.groupby(['year_coll','rep1na']).size()\n",
    "print(table)"
   ]
  },
  {
   "cell_type": "code",
   "execution_count": 79,
   "id": "c5ec4c7e",
   "metadata": {
    "scrolled": true
   },
   "outputs": [
    {
     "name": "stdout",
     "output_type": "stream",
     "text": [
      "count    1.308800e+04\n",
      "mean    -3.591783e-01\n",
      "std      1.499844e+00\n",
      "min     -2.813997e+01\n",
      "25%     -9.536743e-07\n",
      "50%      0.000000e+00\n",
      "75%      0.000000e+00\n",
      "max      2.845380e+01\n",
      "Name: repc_mean_check, dtype: float64\n",
      "This number of values are incorrectly calculated 9443 and percentage 64.22498809766715\n"
     ]
    }
   ],
   "source": [
    "# check how the mean value s calculated, and update if it isn't correct.\n",
    "# raw_ansis_sars_repc_mean\n",
    "df_ww['raw_ansis_sars_repc_mean_v2'] = (df_ww['raw_ansis_sars_repc_1'] + df_ww['raw_ansis_sars_repc_2'])/2\n",
    "# need to select obs where only 1 rep is available, and update\n",
    " \n",
    "def my_repfun (var1,var2,var3):\n",
    "    df_ww[var3] = np.where((df_ww[var1]<0), df_ww[var2], (df_ww[var1]+df_ww[var2])/2) # if values of var1 <0, use var2 only \n",
    "    df_ww[var3] = np.where((df_ww[var2]<0), df_ww[var1], df_ww[var3]) # if values of var2 <0, use var3 only, now that we have made it \n",
    "    df_ww[var3] = np.where((df_ww[var1].isna()), df_ww[var2], df_ww[var3]) # if values of var2 <0, use var3 only, now that we have made it \n",
    "    df_ww[var3] = np.where((df_ww[var2].isna()), df_ww[var1], df_ww[var3]) # if values of var2 <0, use var3 only, now that we have made it \n",
    "    return df_ww\n",
    "\n",
    "df_ww = my_repfun('raw_ansis_sars_repc_1','raw_ansis_sars_repc_2','raw_ansis_sars_repc_mean_v2')\n",
    "df_ww['repc_mean_check'] = df_ww['raw_ansis_sars_repc_mean'] - df_ww['raw_ansis_sars_repc_mean_v2']\n",
    "print(df_ww['repc_mean_check'].describe())\n",
    "tmp = sum(df_ww['repc_mean_check']!=0)\n",
    "print('This number of values are incorrectly calculated',tmp,'and percentage',100*(tmp/rows))\n",
    "\n",
    "# well ... this hasn't been corrected!"
   ]
  },
  {
   "cell_type": "code",
   "execution_count": 108,
   "id": "43f0f90c",
   "metadata": {},
   "outputs": [
    {
     "name": "stdout",
     "output_type": "stream",
     "text": [
      "count    4863.000000\n",
      "mean      199.789809\n",
      "std       267.434127\n",
      "min      -222.166667\n",
      "25%       133.333301\n",
      "50%       133.333333\n",
      "75%       133.333354\n",
      "max      1333.343318\n",
      "Name: sars_c, dtype: float64\n",
      "count    4.863000e+03\n",
      "mean     1.986251e+04\n",
      "std      4.501435e+04\n",
      "min      7.334348e-07\n",
      "25%      3.317594e+02\n",
      "50%      4.905575e+03\n",
      "75%      1.821719e+04\n",
      "max      7.905188e+05\n",
      "Name: sars_cov2_gc_l_mean_v2, dtype: float64\n",
      "count    4866.000000\n",
      "mean      133.716820\n",
      "std       328.735897\n",
      "min        -4.000000\n",
      "25%         0.590000\n",
      "50%        20.449941\n",
      "75%       111.495934\n",
      "max      5928.890381\n",
      "Name: raw_ansis_sars_repc_mean_v2, dtype: float64\n",
      "[-3.0, 0.0004200779949314892, 0.0008858250148477935, 0.0030471610371023, 0.003753105007490337, 0.008254924789071, 0.01345393131487065, 0.018377894768491367, 0.0199999995529651]\n"
     ]
    },
    {
     "data": {
      "image/png": "[encoded data removed]",
      "text/plain": [
       "<Figure size 432x288 with 1 Axes>"
      ]
     },
     "metadata": {
      "needs_background": "light"
     },
     "output_type": "display_data"
    },
    {
     "data": {
      "image/png": "[encoded data removed]",
      "text/plain": [
       "<Figure size 648x432 with 1 Axes>"
      ]
     },
     "metadata": {
      "needs_background": "light"
     },
     "output_type": "display_data"
    }
   ],
   "source": [
    "# correct the sars_cov2_gc_l_mean here..\n",
    "df_ww['sars_c'] = df_ww['sars_cov2_gc_l_mean']/df_ww['raw_ansis_sars_repc_mean']\n",
    "df_ww['sars_cov2_gc_l_mean_v2'] = df_ww['raw_ansis_sars_repc_mean_v2']*df_ww['sars_c']\n",
    "# scatter plot\n",
    "\n",
    "print(df_ww['sars_c'].describe())\n",
    "\n",
    "print(df_ww['sars_cov2_gc_l_mean_v2'].describe())\n",
    "\n",
    "print(df_ww['raw_ansis_sars_repc_mean_v2'].describe())\n",
    "\n",
    "print(sorted(df_ww['raw_ansis_sars_repc_mean_v2'].unique())[1:10])\n",
    "\n",
    "hist = df_ww['raw_ansis_sars_repc_mean_v2'].hist(bins=100)\n",
    "hist.set_xlim(-10,1000)\n",
    "\n",
    "fig, ax = plt.subplots(figsize=(9,6))\n",
    "ax.scatter(df_ww['sars_cov2_gc_l_mean_v2'],df_ww['sars_cov2_gc_l_mean'])\n",
    "ax.set_xscale(\"log\")\n",
    "ax.set_yscale(\"log\")\n",
    "plt.savefig(f'{ww.data_dir}/check_gc_l.png')\n",
    "\n"
   ]
  },
  {
   "cell_type": "code",
   "execution_count": 84,
   "id": "f45516f3",
   "metadata": {},
   "outputs": [],
   "source": [
    "# re-define the gc_cl here\n",
    "df_ww['sars_cov2_gc_l_mean'] = df_ww['sars_cov2_gc_l_mean_v2']  "
   ]
  },
  {
   "cell_type": "markdown",
   "id": "dc42c33a",
   "metadata": {},
   "source": [
    "## Generate summary stats for the variables here \n",
    "This is before any aggregation needed to relate to CIS"
   ]
  },
  {
   "cell_type": "code",
   "execution_count": 111,
   "id": "8658d1ef",
   "metadata": {},
   "outputs": [],
   "source": [
    "# summary stats, andchecking that specific stats have been generated correctly.\n",
    "# included % missing\n",
    "#print(df_ww.columns.values)\n",
    "\n",
    "#df_ww['raw_ansis_sars_repc_std'] = np.std(df_ww['raw_ansis_sars_repc_1','raw_ansis_sars_repc_2'])\n",
    "def my_stdfun (var1,var2):\n",
    "    tmp1 = (df_ww[var1] + df_ww[var2])/2  # mean\n",
    "    tmp2 = pow((pow((tmp1-df_ww[var1]),2) + pow((tmp1-df_ww[var2]),2))/2,0.5) # sd\n",
    "    return tmp2\n",
    "\n",
    "df_ww['raw_ansis_sars_repc_std'] = my_stdfun('raw_ansis_sars_repc_1','raw_ansis_sars_repc_2')\n",
    "\n",
    "df_ww['sars_below_lod'] = np.where(df_ww['sars_cov2_gc_l_mean']<133,1,0)\n",
    "df_ww['sars_below_loq'] = np.where(df_ww['sars_cov2_gc_l_mean']<1333,1,0)\n",
    "df_ww['grab_compo_boo'] = np.where(df_ww['grab_compo_ind']=='Composite',1,0)\n",
    "\n",
    "#df_ww['grab_compo_boo'].describe()\n",
    "\n",
    "cols = ['sars_cov2_gc_l_mean','raw_ansis_sars_repc_std',\n",
    "        'raw_ansis_sars_repc_mean_v2',\n",
    "        'sars_below_lod','sars_below_loq',\n",
    "        'reac_vol_control',\n",
    "       'sample_ph_pre_ansis','ammonia_mg_l',\n",
    "       'ophosph_mg_l','suspended_solids_mg_l',\n",
    "        'reception_delay',\n",
    "        'grab_compo_boo'\n",
    "        \n",
    "#         ,\n",
    "#        'time_sample_collected'\n",
    "       ]\n",
    "\n",
    "def my_isnafun (var1):\n",
    "    df_ww[var1] = df_ww[var1].replace('nan',np.NaN)\n",
    "    tmp2 = df[var1].isnull()\n",
    "    tmp3 = tmp2.mean()\n",
    "    return tmp3\n",
    "\n",
    "# out = []\n",
    "# for var in cols[0:9]:\n",
    "#     my_isnafun(var)\n",
    "    \n",
    "# for var in cols[0:10]:\n",
    "#     out.append(df_ww[var].isnull().mean())\n",
    "\n",
    "# print(out)\n"
   ]
  },
  {
   "cell_type": "code",
   "execution_count": 112,
   "id": "f214cc9d",
   "metadata": {},
   "outputs": [
    {
     "name": "stdout",
     "output_type": "stream",
     "text": [
      "count                    6228\n",
      "unique                    193\n",
      "top       2020-10-30 00:00:00\n",
      "freq                       45\n",
      "first     2020-07-06 00:00:00\n",
      "last      2021-03-30 00:00:00\n",
      "Name: date_sample_collected, dtype: object\n",
      "Number of unique sites =  45\n",
      "Number of raw obs =  (6228, 110)\n",
      "Null values in gc/l =  1365\n",
      "count      4863.000000\n",
      "mean      19625.938574\n",
      "std       45087.294800\n",
      "min          -6.623212\n",
      "25%         235.191177\n",
      "50%        4371.329840\n",
      "75%       18023.976176\n",
      "max      790518.720052\n",
      "Name: sars_cov2_gc_l_mean, dtype: float64\n",
      "       sars_cov2_gc_l_mean  raw_ansis_sars_repc_std  \\\n",
      "count          4863.000000              4863.000000   \n",
      "mean          19625.938574                21.789739   \n",
      "std           45087.294800                51.395641   \n",
      "min              -6.623212                 0.000000   \n",
      "25%             235.191177                 0.153690   \n",
      "50%            4371.329840                 5.555550   \n",
      "75%           18023.976176                18.635729   \n",
      "max          790518.720052               869.771240   \n",
      "\n",
      "       raw_ansis_sars_repc_mean_v2  sars_below_lod  sars_below_loq  \\\n",
      "count                  4863.000000     4863.000000     4863.000000   \n",
      "mean                    133.782488        0.244911        0.337240   \n",
      "std                     328.826190        0.430078        0.472816   \n",
      "min                      -4.000000        0.000000        0.000000   \n",
      "25%                       0.600000        0.000000        0.000000   \n",
      "50%                      20.407467        0.000000        0.000000   \n",
      "75%                     111.644876        0.000000        1.000000   \n",
      "max                    5928.890381        1.000000        1.000000   \n",
      "\n",
      "       reac_vol_control  sample_ph_pre_ansis  ammonia_mg_l  ophosph_mg_l  \\\n",
      "count       4863.000000           471.000000   4308.000000   4156.000000   \n",
      "mean           1.974501             7.600467     31.213487      3.484557   \n",
      "std            0.157650             0.270878     15.340275      2.285216   \n",
      "min            1.000000             6.800000     -3.000000      0.000000   \n",
      "25%            2.000000             7.400000     21.000000      2.200000   \n",
      "50%            2.000000             7.600000     30.000000      3.200000   \n",
      "75%            2.000000             7.800000     40.000000      4.400000   \n",
      "max            2.000000             8.290000    130.000000     38.570000   \n",
      "\n",
      "       suspended_solids_mg_l  reception_delay  grab_compo_boo  \n",
      "count            4146.000000      4852.000000     4863.000000  \n",
      "mean              258.752050        24.034968        0.542052  \n",
      "std               157.583022         5.012423        0.498280  \n",
      "min                10.000000        12.166667        0.000000  \n",
      "25%               160.000000        22.233333        0.000000  \n",
      "50%               240.000000        23.533333        1.000000  \n",
      "75%               330.000000        25.000000        1.000000  \n",
      "max              3900.000000       151.416667        1.000000  \n"
     ]
    },
    {
     "name": "stderr",
     "output_type": "stream",
     "text": [
      "/tmp/ipykernel_31504/1424692558.py:8: FutureWarning: Treating datetime data as categorical rather than numeric in `.describe` is deprecated and will be removed in a future version of pandas. Specify `datetime_is_numeric=True` to silence this warning and adopt the future behavior now.\n",
      "  t2 = df_ww['date_sample_collected'].describe()\n"
     ]
    }
   ],
   "source": [
    "# check we have the right time period...\n",
    "fdate = '2020-07-01'\n",
    "ldate = '2021-03-31'\n",
    "\n",
    "df_ww = df_ww.loc[(df_ww['date_sample_collected'] > fdate) & \n",
    "                   (df_ww['date_sample_collected'] < ldate)] \n",
    "\n",
    "t2 = df_ww['date_sample_collected'].describe()\n",
    "print(t2)\n",
    "\n",
    "t3 = df_ww['ww_site_code'].unique()\n",
    "print('Number of unique sites = ',len(t3))\n",
    "\n",
    "print('Number of raw obs = ',df_ww.shape)\n",
    "\n",
    "out = df_ww['sars_cov2_gc_l_mean'].isnull().sum()\n",
    "print('Null values in gc/l = ',out)\n",
    "\n",
    "df_wwdp = df_ww.dropna(subset=['sars_cov2_gc_l_mean'])\n",
    "\n",
    "#print(df_ww['sars_cov2_gc_l_mean'].describe())\n",
    "print(df_wwdp['sars_cov2_gc_l_mean'].describe())\n",
    "\n",
    "t1 = df_wwdp[cols].describe()\n",
    "# #t1.append(out)\n",
    "print(t1)\n",
    "\n",
    "# ** so if there is NA in the gc/l these obs should really be removed.\n",
    "# 4863 of the 6228 are NA? \n",
    "\n",
    "\n",
    "#t2 = t1.append(out)\n",
    "#print(t2)\n",
    "\n",
    "# write to file\n",
    "t1.to_csv(f'{ww.data_dir}/data_describe_mar22.csv') \n",
    "\n"
   ]
  },
  {
   "cell_type": "code",
   "execution_count": 113,
   "id": "c0b17f58",
   "metadata": {},
   "outputs": [],
   "source": [
    "# we should really output to file here...\n",
    "cols = ['date_sample_collected','ww_site_code',\n",
    "        'sars_cov2_gc_l_mean','raw_ansis_sars_repc_std',\n",
    "        'sars_below_lod','sars_below_loq',\n",
    "        'reac_vol_control',\n",
    "       'sample_ph_pre_ansis','ammonia_mg_l',\n",
    "       'ophosph_mg_l','suspended_solids_mg_l',\n",
    "        'reception_delay',\n",
    "        'grab_compo_boo'\n",
    "\n",
    "       ]\n",
    "\n",
    "df_wwdp[cols].to_csv(f'{ww.data_dir}/raw_data_pre_cis_mar22.csv') \n"
   ]
  },
  {
   "cell_type": "markdown",
   "id": "0e5356b7",
   "metadata": {},
   "source": [
    "## Rest of the data cleaning continues here"
   ]
  },
  {
   "cell_type": "code",
   "execution_count": 114,
   "id": "47270301",
   "metadata": {},
   "outputs": [
    {
     "name": "stderr",
     "output_type": "stream",
     "text": [
      "/home/ec2-user/anaconda3/envs/wastewater/lib/python3.8/site-packages/geopandas/geodataframe.py:577: RuntimeWarning: Sequential read of iterator was interrupted. Resetting iterator. This can negatively impact the performance.\n",
      "  for feature in features_lst:\n",
      "/tmp/ipykernel_31504/4248926751.py:6: FutureWarning: In a future version of pandas all arguments of DataFrame.drop except for the argument 'labels' will be keyword-only\n",
      "  df_ww = df_ww.drop('ww_catchment_code', 1)\n",
      "/home/ec2-user/SageMaker/jbc-wastewater-analysis/wastewater/preprocessing.py:540: FutureWarning: In a future version of pandas all arguments of concat except for the argument 'objs' will be keyword-only\n",
      "  df_diagnostic = pd.concat([diag, diag2, diag3, diag4, diag5], 1)\n"
     ]
    }
   ],
   "source": [
    "# add area (function would be good)\n",
    "gdf_catch = gpd.read_file('s3://dash-879281191186-prod-s3-data-wip/jbc-wip/01. Data/01. Raw/Waste Water/ww_dataset_staging/ww_ons/20201120_ONS_WW_ENGLAND_CATCHMENT_BOUNDARIES.csv')\n",
    "gdf_catch.set_crs(epsg=27700, inplace=True, allow_override=True)\n",
    "gdf_catch = gdf_catch.to_crs('epsg:3857')\n",
    "df_ww = df_ww.merge(gdf_catch.set_index('CATCHMENT_CODE').geometry.area.reset_index().rename(columns={'CATCHMENT_CODE':'ww_catchment_code', 0:'catchment_area'}))\n",
    "df_ww = df_ww.drop('ww_catchment_code', 1)\n",
    "df_ww.catchment_area /= 1e6 # in km\n",
    "\n",
    "df_ww, _ = ww.impute_ww(df_ww)\n",
    "df_ww  = df_ww.rename(columns={'date_sample_collected': 'date'})\n",
    "df_ww.to_csv(f'{ww.data_dir}/raw_data_8_dec21.csv') # example saving to data_dir\n",
    "# df_diagnostic.to_csv(f'{ww.data_dir}/diag_data_8_dec21.csv')\n"
   ]
  },
  {
   "cell_type": "code",
   "execution_count": 115,
   "id": "94d0d979",
   "metadata": {},
   "outputs": [
    {
     "data": {
      "text/plain": [
       "0.5746628131021194"
      ]
     },
     "execution_count": 115,
     "metadata": {},
     "output_type": "execute_result"
    }
   ],
   "source": [
    "(df_ww.grab_compo_ind == 'Composite').mean()"
   ]
  },
  {
   "cell_type": "code",
   "execution_count": 116,
   "id": "9b94c6c4",
   "metadata": {},
   "outputs": [
    {
     "name": "stderr",
     "output_type": "stream",
     "text": [
      "/home/ec2-user/SageMaker/jbc-wastewater-analysis/wastewater/data/loading_lookups.py:93: FutureWarning: In a future version of pandas all arguments of DataFrame.drop except for the argument 'labels' will be keyword-only\n",
      "  df_lookup = df_lookup.drop(['CATCHMENT_CODE', 'CATCHMENT_NAME'], 1)\n",
      "/home/ec2-user/SageMaker/jbc-wastewater-analysis/wastewater/data/loading_lookups.py:103: UserWarning: This dataset needs to be ingested properly: jbc-staging-data-wip/jbc-wip/01. Data/01. Raw/Waste Water/ww_users/mario/ukmidyearestimates20192019ladcodes.xls\n",
      "  warnings.warn('This dataset needs to be ingested properly: jbc-staging-data-wip/jbc-wip/01. Data/01. Raw/Waste Water/ww_users/mario/ukmidyearestimates20192019ladcodes.xls')\n"
     ]
    },
    {
     "name": "stdout",
     "output_type": "stream",
     "text": [
      "(16788, 115)\n"
     ]
    },
    {
     "name": "stderr",
     "output_type": "stream",
     "text": [
      "/tmp/ipykernel_31504/3349236651.py:14: FutureWarning: Indexing with multiple keys (implicitly converted to a tuple of keys) will be deprecated, use a list instead.\n",
      "  subregions_pop = df_lookup.loc[df_lookup.CIS20CD.isin(df_ww.CIS20CD)\n"
     ]
    }
   ],
   "source": [
    "threshold = 1 / 1000\n",
    "df_lookup = ww.load_cis_to_site_lookup()\n",
    "\n",
    "# select sites whose population is at least 1/1000 of the subregion\n",
    "df_lookup = df_lookup[df_lookup.catch_in_cis_prop > threshold]  \n",
    "\n",
    "\n",
    "# Add lookup CIS regions info\n",
    "df_ww = df_ww.merge(df_lookup[['CIS20CD','ww_site_code', 'catch_in_cis_prop', 'catch_cis_population']] , \n",
    "                    on='ww_site_code', how='inner')\n",
    "df_ww.to_csv(f'{ww.data_dir}/raw_data_9_dec21.csv') #\n",
    "\n",
    "# getting the populations\n",
    "subregions_pop = df_lookup.loc[df_lookup.CIS20CD.isin(df_ww.CIS20CD) \n",
    "                 & df_lookup.ww_site_code.isin(df_ww.ww_site_code)]\\\n",
    "                 .groupby('CIS20CD')['catch_in_cis_prop','catch_cis_population'].sum().reset_index()\n",
    "print(df_ww.shape)"
   ]
  },
  {
   "cell_type": "code",
   "execution_count": 5,
   "id": "3b1192f3",
   "metadata": {},
   "outputs": [],
   "source": [
    "# Export preprocessed WW dataset before aggregating to CIS subregions\n",
    "# save = True #False\n",
    "# bucket = \"s3://jbc-staging-data-wip/jbc-wip/01. Data/01. Raw/Waste Water/ww_users/mario/cis_results\"\n",
    "# if save:\n",
    "#     df_ww.to_csv(bucket+'/df_ww_preprocessed.csv', index=False)"
   ]
  },
  {
   "cell_type": "code",
   "execution_count": 117,
   "id": "6a0ef0b6",
   "metadata": {},
   "outputs": [
    {
     "data": {
      "text/plain": [
       "(45, 83)"
      ]
     },
     "execution_count": 117,
     "metadata": {},
     "output_type": "execute_result"
    }
   ],
   "source": [
    "df_ww.ww_site_code.nunique(), len(set(subregions_pop.CIS20CD.unique()).intersection(df_ww.CIS20CD.unique()))"
   ]
  },
  {
   "cell_type": "code",
   "execution_count": 118,
   "id": "b0e85638",
   "metadata": {},
   "outputs": [
    {
     "name": "stdout",
     "output_type": "stream",
     "text": [
      "                            count          mean           std       min  \\\n",
      "raw_ansis_sars_repc_1     16788.0    171.386983    397.529779 -4.000000   \n",
      "raw_ansis_sars_repc_2     16788.0    178.942688    440.028362 -4.000000   \n",
      "raw_ansis_sars_repc_mean  16788.0    225.519370    567.201349 -4.000000   \n",
      "raw_ansis_sars_repc_std   16788.0     28.291637     65.675634  0.000000   \n",
      "sars_cov2_gc_l_mean       16788.0  25079.105872  55319.348837 -6.623212   \n",
      "time_sample_collected     16788.0    954.801882    204.618375  0.000000   \n",
      "\n",
      "                                  25%          50%           75%  \\\n",
      "raw_ansis_sars_repc_1        3.938723    30.534254    150.687977   \n",
      "raw_ansis_sars_repc_2        3.912643    32.418148    145.381550   \n",
      "raw_ansis_sars_repc_mean     6.091445    38.716900    186.897705   \n",
      "raw_ansis_sars_repc_std      2.013137     7.372330     22.973740   \n",
      "sars_cov2_gc_l_mean       1454.436523  6546.222416  22557.999364   \n",
      "time_sample_collected      800.000000   915.000000   1020.000000   \n",
      "\n",
      "                                    max  \n",
      "raw_ansis_sars_repc_1       5059.119141  \n",
      "raw_ansis_sars_repc_2       6798.661621  \n",
      "raw_ansis_sars_repc_mean    9425.240234  \n",
      "raw_ansis_sars_repc_std      869.771240  \n",
      "sars_cov2_gc_l_mean       790518.720052  \n",
      "time_sample_collected       2020.000000  \n",
      "(16788, 115)\n",
      "(10284, 118)\n"
     ]
    }
   ],
   "source": [
    "print(df_ww.describe()[['raw_ansis_sars_repc_1', 'raw_ansis_sars_repc_2',\n",
    "                    'raw_ansis_sars_repc_mean','raw_ansis_sars_repc_std',\n",
    "                  'sars_cov2_gc_l_mean','time_sample_collected',]].T)\n",
    "print(df_ww.shape)\n",
    "# table for site key\n",
    "table = df_ww.groupby(['ww_site_code']).size()\n",
    "#print(table)\n",
    "#print(df_ww.head())\n",
    "table.to_csv(f'{ww.data_dir}/check_ww_site_codes.csv')\n",
    "\n",
    "# Add cis data\n",
    "df_ww = df_ww.merge(df_cis_interpolated, how='inner').sort_values(['CIS20CD', 'date'])  # change for left\n",
    "df_ww.head()\n",
    "df_ww.to_csv(f'{ww.data_dir}/raw_data_ww_10_cis_mar22.csv') #\n",
    "table = df_ww.groupby(['ww_site_code','CIS20CD']).size()\n",
    "table.to_csv(f'{ww.data_dir}/check_ww_site_cis_codes.csv')\n",
    "print(df_ww.shape)"
   ]
  },
  {
   "cell_type": "code",
   "execution_count": 119,
   "id": "884654eb",
   "metadata": {},
   "outputs": [
    {
     "name": "stdout",
     "output_type": "stream",
     "text": [
      "cis_population removed.\n"
     ]
    }
   ],
   "source": [
    "# note i've updated this\n",
    "# cols = ['sars_cov2_gc_l_mean','raw_ansis_sars_repc_std',\n",
    "#         'sars_below_lod','sars_below_loq',\n",
    "#         'reac_vol_control',\n",
    "#        'sample_ph_pre_ansis','ammonia_mg_l',\n",
    "#        'ophosph_mg_l','suspended_solids_mg_l',\n",
    "#         'reception_delay',\n",
    "#         'grab_compo_boo'\n",
    "sample_variables = ['sars_cov2_gc_l_mean', \n",
    "                    'suspended_solids_mg_l',\n",
    "                    'ammonia_mg_l', 'ophosph_mg_l', \n",
    "                    'sample_ph_pre_ansis', \n",
    "                    'control_gc_l_mean','reac_vol_control', # \"reac_vol_sars\", \n",
    "                    'raw_ansis_sars_repc_std',\n",
    "                    'grab_compo_boo',\n",
    "                    'sars_below_lod', 'sars_below_loq', \n",
    "                    'reception_delay'\n",
    "#                    'ww_site_code',  # try here?\n",
    "#                     'date',\n",
    "#                   'analysis_lab_code',\n",
    "                     #'lab_analysis_1.1.1', 'lab_analysis_1.1.2',\n",
    "                     #'target_gene_N1'\n",
    "                 # 'raw_ansis_sars_repc_1', 'raw_ansis_sars_repc_2',\n",
    "                    #'raw_ansis_sars_repc_mean',\n",
    "\n",
    "                   ]\n",
    "\n",
    "site_variables = [\n",
    "                  'catchment_population_ons_mid_2019',\n",
    "                  'catchment_area'\n",
    "                   # 'site_skey',  # numeric so should be ok.\n",
    "#                    'ww_site_code',\n",
    "#                   'water_company_AE',\n",
    "#                   'water_company_AW', 'water_company_NW', 'water_company_ST',\n",
    "#                   'water_company_SW', 'water_company_SWS', 'water_company_TW',\n",
    "#                   'water_company_UU', 'water_company_WW', 'water_company_WXW',\n",
    "#                   'water_company_YW'\n",
    "]\n",
    "\n",
    "cis_variables = ['catch_in_cis_prop', 'catch_cis_population', 'cis_population']\n",
    "\n",
    "all_variables = sample_variables + site_variables + cis_variables\n",
    "\n",
    "for var in all_variables:\n",
    "    if var not in df_ww:\n",
    "        print(var, 'removed.')\n",
    "        all_variables.remove(var)"
   ]
  },
  {
   "cell_type": "code",
   "execution_count": 120,
   "id": "aaa43458",
   "metadata": {},
   "outputs": [
    {
     "data": {
      "text/plain": [
       "('catch_in_cis_prop', 'cis_population')"
      ]
     },
     "execution_count": 120,
     "metadata": {},
     "output_type": "execute_result"
    }
   ],
   "source": [
    "'sars_cov2_gc_l_mean', \n",
    "'suspended_solids_mg_l', \n",
    "'ammonia_mg_l', \n",
    "'ophosph_mg_l', \n",
    "'sample_ph_pre_ansis', \n",
    "'control_gc_l_mean',\n",
    "'compo_frac',\n",
    "'sars_below_lod', 'sars_below_loq', \n",
    "'reception_delay'\n",
    "'catchment_population_ons_mid_2019','catchment_area',\n",
    "'catch_in_cis_prop',  'cis_population'"
   ]
  },
  {
   "cell_type": "code",
   "execution_count": 121,
   "id": "9ef0c22f",
   "metadata": {
    "scrolled": true
   },
   "outputs": [
    {
     "name": "stdout",
     "output_type": "stream",
     "text": [
      "(7238, 18)\n"
     ]
    },
    {
     "name": "stderr",
     "output_type": "stream",
     "text": [
      "/tmp/ipykernel_31504/3316621821.py:11: FutureWarning: In a future version of pandas all arguments of DataFrame.drop except for the argument 'labels' will be keyword-only\n",
      "  df_ww_agg = df_ww_agg.drop(['catch_in_cis_prop','catch_cis_population'], 1).merge(subregions_pop)\n"
     ]
    }
   ],
   "source": [
    "# this function aggregates the data based the fields in 'groupby'\n",
    "def weighted_agg(variables, weight_column, agg_function):\n",
    "    def fn(s):\n",
    "        weights = s[weight_column]\n",
    "        return pd.Series({ col : np.average(s[col], weights=weights) for col in variables})\n",
    "    return fn\n",
    "\n",
    "weighted_avg = weighted_agg(all_variables, 'catch_cis_population', np.nansum)\n",
    "\n",
    "df_ww_agg = df_ww.groupby(['CIS20CD', 'date']).apply(weighted_avg).reset_index()\n",
    "df_ww_agg = df_ww_agg.drop(['catch_in_cis_prop','catch_cis_population'], 1).merge(subregions_pop)\n",
    "\n",
    "print(df_ww_agg.shape)\n",
    "table = df_ww_agg.groupby(['CIS20CD']).size()\n",
    "table.to_csv(f'{ww.data_dir}/check_df_ww_agg_cis_codes.csv')\n"
   ]
  },
  {
   "cell_type": "code",
   "execution_count": 122,
   "id": "f6dde26e",
   "metadata": {},
   "outputs": [
    {
     "name": "stdout",
     "output_type": "stream",
     "text": [
      "(7238, 21)\n",
      "(7238, 21)\n"
     ]
    }
   ],
   "source": [
    "# Add cis data\n",
    "df = df_ww_agg.merge(df_cis_interpolated, how='inner').sort_values(['CIS20CD', 'date'])  # change for left\n",
    "df = df.dropna(subset=['CIS20CD', 'date'])\n",
    "\n",
    "df.CIS20CD.nunique()\n",
    "\n",
    "df_total = df_ww_agg.merge(df_cis_interpolated, how='left').sort_values(['CIS20CD', 'date'])  # change for left\n",
    "df_total = df_total.dropna(subset=['CIS20CD', 'date'])\n",
    "\n",
    "#print(df_ww.shape)\n",
    "print(df.shape)\n",
    "print(df_total.shape)"
   ]
  },
  {
   "cell_type": "code",
   "execution_count": 123,
   "id": "fab82957",
   "metadata": {},
   "outputs": [
    {
     "name": "stdout",
     "output_type": "stream",
     "text": [
      "(7238, 21)\n"
     ]
    }
   ],
   "source": [
    "print(df.shape)\n",
    "df.to_csv(f'{ww.data_dir}/agg_data_inner_11_cis_mar22.csv') #\n",
    "# 'df' has fewer variables...than 'df_ww'\n",
    "df_total.to_csv(f'{ww.data_dir}/agg_data_left_12_cis_mar22.csv') #\n",
    "# export_dataset = False\n",
    "# if export_dataset:\n",
    "#     df.to_csv(ww.output_dir+'/df_ww_cis.csv', index=False)\n",
    "#     df.to_csv('s3://jbc-staging-data-wip/jbc-wip/01. Data/01. Raw/Waste Water/ww_users/mario/df_ww_cis.csv', index=False)"
   ]
  },
  {
   "cell_type": "code",
   "execution_count": 124,
   "id": "62343577",
   "metadata": {},
   "outputs": [
    {
     "name": "stdout",
     "output_type": "stream",
     "text": [
      "       sars_cov2_gc_l_mean  median_prob\n",
      "count          7238.000000  7238.000000\n",
      "mean          34668.525579     1.130589\n",
      "std           63183.963326     0.864400\n",
      "min               1.793858     0.027460\n",
      "25%            3043.585831     0.475795\n",
      "50%           12114.117649     0.961485\n",
      "75%           38913.436746     1.543923\n",
      "max          790518.720052     6.759501\n",
      "count                    7238\n",
      "unique                    121\n",
      "top       2020-09-04 00:00:00\n",
      "freq                       83\n",
      "first     2020-09-04 00:00:00\n",
      "last      2021-02-10 00:00:00\n",
      "Name: date, dtype: object\n",
      "83\n"
     ]
    },
    {
     "name": "stderr",
     "output_type": "stream",
     "text": [
      "/tmp/ipykernel_31504/429286784.py:4: FutureWarning: Treating datetime data as categorical rather than numeric in `.describe` is deprecated and will be removed in a future version of pandas. Specify `datetime_is_numeric=True` to silence this warning and adopt the future behavior now.\n",
      "  print(df['date'].describe())\n"
     ]
    }
   ],
   "source": [
    "cols = [#'raw_ansis_sars_repc_mean','raw_ansis_sars_repc_std',\n",
    "                         'sars_cov2_gc_l_mean','median_prob','date']\n",
    "print(df[cols].describe())\n",
    "print(df['date'].describe())\n",
    "df.head()\n",
    "t1 = df['CIS20CD'].unique()\n",
    "print(len(t1))"
   ]
  },
  {
   "cell_type": "code",
   "execution_count": null,
   "id": "0740c9a2",
   "metadata": {},
   "outputs": [],
   "source": []
  }
 ],
 "metadata": {
  "kernelspec": {
   "display_name": "Python (wastewater)",
   "language": "python",
   "name": "wastewater"
  },
  "language_info": {
   "codemirror_mode": {
    "name": "ipython",
    "version": 3
   },
   "file_extension": ".py",
   "mimetype": "text/x-python",
   "name": "python",
   "nbconvert_exporter": "python",
   "pygments_lexer": "ipython3",
   "version": "3.8.10"
  }
 },
 "nbformat": 4,
 "nbformat_minor": 5
}
