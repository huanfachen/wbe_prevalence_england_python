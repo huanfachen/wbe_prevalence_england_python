{
 "cells": [
  {
   "cell_type": "markdown",
   "id": "59453d7e",
   "metadata": {},
   "source": [
    "Notebook to plot the results from the lag/lead experiments between WW and T&T or CIS."
   ]
  },
  {
   "cell_type": "code",
   "execution_count": null,
   "id": "09c93873",
   "metadata": {},
   "outputs": [],
   "source": [
    "import numpy as np\n",
    "import pandas as pd\n",
    "import matplotlib.pylab as plt\n",
    "import wastewater as ww"
   ]
  },
  {
   "cell_type": "code",
   "execution_count": null,
   "id": "3d0009d6",
   "metadata": {},
   "outputs": [],
   "source": [
    "mae = dict()\n",
    "mae_sem = dict()\n",
    "mae_natural = dict()\n",
    "mae_natural_sem = dict()\n",
    "shifts = dict()\n",
    "\n",
    "name = \"xgb\""
   ]
  },
  {
   "cell_type": "code",
   "execution_count": null,
   "id": "42d3a3a9",
   "metadata": {},
   "outputs": [],
   "source": [
    "bucket = \"s3://jbc-staging-data-wip/jbc-wip/01. Data/01. Raw/Waste Water/ww_users/mario/cis_results\"\n",
    "\n",
    "mae['tt'] = pd.read_csv(bucket+f\"/tt_shifts_mae_{name}.csv\")[\"0\"]\n",
    "mae_sem['tt'] = pd.read_csv(bucket+f\"/tt_shifts_mae_sem_{name}.csv\")[\"0\"]\n",
    "mae_natural['tt'] = pd.read_csv(bucket+f\"/tt_shifts_mae_natural_{name}.csv\")[\"0\"]\n",
    "mae_natural_sem['tt'] = pd.read_csv(bucket+f\"/tt_shifts_mae_sem_natural_{name}.csv\")[\"0\"]\n",
    "shifts['tt'] = pd.read_csv(bucket+f\"/tt_shifts_{name}.csv\")[\"0\"]"
   ]
  },
  {
   "cell_type": "code",
   "execution_count": null,
   "id": "e27294a5",
   "metadata": {},
   "outputs": [],
   "source": [
    "bucket = \"s3://jbc-staging-data-wip/jbc-wip/01. Data/01. Raw/Waste Water/ww_users/mario/cis_results\"\n",
    "\n",
    "mae['cis'] = pd.read_csv(bucket+f\"/cis_shifts_mae_{name}.csv\")[\"0\"]\n",
    "mae_sem['cis'] = pd.read_csv(bucket+f\"/cis_shifts_mae_sem_{name}.csv\")[\"0\"]\n",
    "mae_natural['cis'] = pd.read_csv(bucket+f\"/cis_shifts_mae_natural_{name}.csv\")[\"0\"]\n",
    "mae_natural_sem['cis'] = pd.read_csv(bucket+f\"/cis_shifts_mae_sem_natural_{name}.csv\")[\"0\"]\n",
    "shifts['cis'] = pd.read_csv(bucket+f\"/cis_shifts_{name}.csv\")[\"0\"]"
   ]
  },
  {
   "cell_type": "code",
   "execution_count": null,
   "id": "63ce1059",
   "metadata": {},
   "outputs": [],
   "source": [
    "color = {}\n",
    "color['tt'] = 'orange'\n",
    "color['cis'] = 'blue'\n",
    "window = 5\n",
    "\n",
    "plot_range = (-11, 20)\n",
    "range_cis = np.arange(len(shifts['cis']))#[:-4]\n",
    "range_tt = np.arange(len(shifts['tt']))\n",
    "range_cis = range_cis[(shifts['cis'] > plot_range[0]) & (shifts['cis'] < plot_range[1])]\n",
    "range_tt = range_tt[(shifts['tt'] > plot_range[0]) & (shifts['tt'] < plot_range[1])]"
   ]
  },
  {
   "cell_type": "markdown",
   "id": "4ddcf850",
   "metadata": {},
   "source": [
    "#### Lag analysis in natural space"
   ]
  },
  {
   "cell_type": "code",
   "execution_count": null,
   "id": "45ae3114",
   "metadata": {},
   "outputs": [],
   "source": [
    "window = 5\n",
    "\n",
    "f, ax = plt.subplots(2, 1, figsize=(7,6), sharex=True)\n",
    "\n",
    "ax[0].scatter(shifts['cis'][range_cis],\n",
    "              mae_natural['cis'][range_cis],\n",
    "              color=color['cis'], alpha=0.7)\n",
    "\n",
    "ax[0].errorbar(shifts['cis'][range_cis], \n",
    "               mae_natural['cis'][range_cis], \n",
    "               2 * mae_natural_sem['cis'][range_cis],\n",
    "               fmt='o',\n",
    "               label='bootstrap MAE', color=color['cis'], alpha=0.7)  #'Boostrap 95% CI'\n",
    "ax[0].plot(shifts['cis'][range_cis],\n",
    "           mae_natural['cis'][range_cis].rolling(window, center=True, min_periods=1).mean(),\n",
    "           color=color['cis'],\n",
    "           label=f'{window}-day rol. avg.'\n",
    "          )\n",
    "ax[0].vlines(0., \n",
    "             mae_natural['cis'][range_cis].min(), mae_natural['cis'][range_cis].max()\n",
    "             , color='red', linestyle='dashed')\n",
    "\n",
    "ax[0].set_title('a) Coronavirus Infection Survey', fontsize=14)\n",
    "ax[0].set_ylabel('Mean Absolute Error \\n (% infected)', fontsize=13)\n",
    "\n",
    "ax[0].legend(fontsize=12, loc='lower right')\n",
    "\n",
    "ax[1].scatter(shifts['tt'][range_tt],\n",
    "              mae_natural['tt'][range_tt], \n",
    "              color=color['tt'], alpha=0.7)\n",
    "\n",
    "\n",
    "\n",
    "ax[1].errorbar(shifts['tt'][range_tt], \n",
    "               mae_natural['tt'][range_tt],\n",
    "               2 * mae_natural_sem['tt'][range_tt],\n",
    "               fmt='o',\n",
    "                label='bootstrap MAE', color=color['tt'], alpha=0.7)\n",
    "ax[1].plot(shifts['tt'][range_tt],\n",
    "           mae_natural['tt'].rolling(window, center=True, min_periods=1).mean()[range_tt], \n",
    "            color=color['tt'],\n",
    "           label=f'{window}-day rol. avg.'\n",
    "          )\n",
    "ax[1].vlines(4, 10, 12.5, color='red', linestyle='dashed')\n",
    "ax[1].set_ylabel('Mean Absolute Error \\n (cases per 100k)', fontsize=13)  #'Boostrap 95% CI'\n",
    "ax[1].set_title('b) T&T pillars 1&2', fontsize=14)\n",
    "ax[1].legend(fontsize=12, loc='lower right')\n",
    "ax[1].set_xlabel('Wastewater shift (days)', fontsize=14)\n",
    "\n",
    "plt.tight_layout()"
   ]
  },
  {
   "cell_type": "markdown",
   "id": "5f01cc49",
   "metadata": {},
   "source": [
    "#### Lag analysis in Log10 space"
   ]
  },
  {
   "cell_type": "code",
   "execution_count": null,
   "id": "5b878d1b",
   "metadata": {},
   "outputs": [],
   "source": [
    "f, ax = plt.subplots(2, 1, figsize=(7,6), sharex=True)\n",
    "\n",
    "ax[0].scatter(shifts['tt'][range_tt],\n",
    "              mae['tt'][range_tt], \n",
    "#            '-o',  \n",
    "              color=color['tt'])\n",
    "\n",
    "\n",
    "\n",
    "ax[0].errorbar(shifts['tt'][range_tt], \n",
    "               mae['tt'][range_tt],\n",
    "               2 * mae_sem['tt'][range_tt],\n",
    "               fmt='o',\n",
    "                label='bootstrap mean', color=color['tt'])\n",
    "ax[0].plot(shifts['tt'][range_tt],\n",
    "           mae['tt'].rolling(window, center=True, min_periods=1).mean()[range_tt], \n",
    "            color=color['tt'],\n",
    "           label=f'{window}-day rol. avg.'\n",
    "          )\n",
    "ax[0].set_ylabel('Mean Absolute Error \\n (Log10 cases per 100k)', fontsize=13)  #'Boostrap 95% CI'\n",
    "ax[0].set_title('T&T pillars 1&2', fontsize=14)\n",
    "\n",
    "\n",
    "ax[1].scatter(shifts['cis'][range_cis],\n",
    "              mae['cis'][range_cis],\n",
    "#            '-o', \n",
    "#               label='mean',\n",
    "              color=color['cis'])\n",
    "\n",
    "ax[1].errorbar(shifts['cis'][range_cis], \n",
    "               mae['cis'][range_cis], \n",
    "               2 * mae_sem['cis'][range_cis],\n",
    "               fmt='o',\n",
    "               label='bootstrap mean', color=color['cis'])  #'Boostrap 95% CI'\n",
    "ax[1].plot(shifts['cis'][range_cis],\n",
    "           mae['cis'][range_cis].rolling(window, center=True, min_periods=1).mean(),\n",
    "           color=color['cis'],\n",
    "           label=f'{window}-day rol. avg.'\n",
    "          )\n",
    "ax[1].set_title('Coronavirus Infection Survey', fontsize=14)\n",
    "ax[1].set_ylabel('Mean Absolute Error \\n (Log10 % infected)', fontsize=13)\n",
    "\n",
    "ax[1].set_xlabel('Wastewater shift (days)', fontsize=14)\n",
    "ax[0].legend(fontsize=12)\n",
    "ax[1].legend(fontsize=12, loc='lower right')\n",
    "\n",
    "plt.tight_layout()"
   ]
  }
 ],
 "metadata": {
  "kernelspec": {
   "display_name": "Python (wastewater)",
   "language": "python",
   "name": "wastewater"
  },
  "language_info": {
   "codemirror_mode": {
    "name": "ipython",
    "version": 3
   },
   "file_extension": ".py",
   "mimetype": "text/x-python",
   "name": "python",
   "nbconvert_exporter": "python",
   "pygments_lexer": "ipython3",
   "version": "3.8.10"
  }
 },
 "nbformat": 4,
 "nbformat_minor": 5
}
